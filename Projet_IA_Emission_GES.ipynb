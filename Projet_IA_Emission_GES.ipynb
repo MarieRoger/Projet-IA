{
 "cells": [
  {
   "cell_type": "markdown",
   "id": "45d4b92c",
   "metadata": {},
   "source": [
    "# ETUDE DES DONNEES D'EMISSIONS DES GAZ A EFFET DE SERRE EN                                               FRANCE ENTRE 1990 ET 2019 "
   ]
  },
  {
   "cell_type": "markdown",
   "id": "d1357804",
   "metadata": {
    "vscode": {
     "languageId": "r"
    }
   },
   "source": [
    "### Importation des librairies et/ou leur installation pour l'étude de nos données"
   ]
  },
  {
   "cell_type": "code",
   "execution_count": 2,
   "id": "a6bcb02b",
   "metadata": {
    "vscode": {
     "languageId": "r"
    }
   },
   "outputs": [],
   "source": [
    "#install.packages(\"ggplot2\")"
   ]
  },
  {
   "cell_type": "code",
   "execution_count": 3,
   "id": "3389b72c",
   "metadata": {
    "vscode": {
     "languageId": "r"
    }
   },
   "outputs": [],
   "source": [
    "#install.packages(\"dplyr\")"
   ]
  },
  {
   "cell_type": "code",
   "execution_count": 4,
   "id": "e9731041",
   "metadata": {
    "vscode": {
     "languageId": "r"
    }
   },
   "outputs": [],
   "source": [
    "#install.packages(\"ISLR\")"
   ]
  },
  {
   "cell_type": "code",
   "execution_count": 5,
   "id": "2bc29b02",
   "metadata": {
    "vscode": {
     "languageId": "r"
    }
   },
   "outputs": [],
   "source": [
    "#install.packages(\"moments\")"
   ]
  },
  {
   "cell_type": "code",
   "execution_count": 6,
   "id": "cccdcb25",
   "metadata": {
    "vscode": {
     "languageId": "r"
    }
   },
   "outputs": [],
   "source": [
    "#install.packages(\"SmartEDA\")"
   ]
  },
  {
   "cell_type": "code",
   "execution_count": 7,
   "id": "0bc4e2a1",
   "metadata": {
    "vscode": {
     "languageId": "r"
    }
   },
   "outputs": [],
   "source": [
    "#install.packages(\"devtools\")"
   ]
  },
  {
   "cell_type": "code",
   "execution_count": 8,
   "id": "a42508d0",
   "metadata": {
    "vscode": {
     "languageId": "r"
    }
   },
   "outputs": [],
   "source": [
    "#devtools::install_github('cargomoose/raptR', force = TRUE)\n"
   ]
  },
  {
   "cell_type": "code",
   "execution_count": 9,
   "id": "f50d3c9b",
   "metadata": {
    "vscode": {
     "languageId": "r"
    }
   },
   "outputs": [],
   "source": [
    "# install.packages(\"xlsx\", lib = lib_path)"
   ]
  },
  {
   "cell_type": "code",
   "execution_count": 10,
   "id": "ffed4741",
   "metadata": {
    "vscode": {
     "languageId": "r"
    }
   },
   "outputs": [],
   "source": [
    "#install.packages(\"rJava\",lib = lib_path)"
   ]
  },
  {
   "cell_type": "code",
   "execution_count": 11,
   "id": "d9605019",
   "metadata": {
    "vscode": {
     "languageId": "r"
    }
   },
   "outputs": [],
   "source": [
    "#install.packages(\"tidyverse\")\n",
    "#devtools::install_github(\"tidyverse/tidyverse\",lib_path)"
   ]
  },
  {
   "cell_type": "code",
   "execution_count": 12,
   "id": "898cc03b",
   "metadata": {},
   "outputs": [],
   "source": [
    "#install.packages(\"fpp3\")"
   ]
  },
  {
   "cell_type": "code",
   "execution_count": 13,
   "id": "844e7dd3",
   "metadata": {},
   "outputs": [],
   "source": [
    "#install.packages('Hmisc')"
   ]
  },
  {
   "cell_type": "code",
   "execution_count": 14,
   "id": "1637a3a9",
   "metadata": {},
   "outputs": [],
   "source": [
    "#install.packages(\"RColorBrewer\")\n",
    "#install.packages(\"ggrepel\")"
   ]
  },
  {
   "cell_type": "code",
   "execution_count": 15,
   "id": "e537498c",
   "metadata": {},
   "outputs": [],
   "source": [
    "#install.packages(\"itsmr\")"
   ]
  },
  {
   "cell_type": "code",
   "execution_count": 16,
   "id": "026618a8",
   "metadata": {},
   "outputs": [],
   "source": [
    "#install.packages(\"tseries\")"
   ]
  },
  {
   "cell_type": "code",
   "execution_count": 1,
   "id": "bc54aa53",
   "metadata": {},
   "outputs": [
    {
     "name": "stderr",
     "output_type": "stream",
     "text": [
      "also installing the dependencies 'fracdiff', 'lmtest', 'RcppArmadillo'\n",
      "\n"
     ]
    },
    {
     "name": "stdout",
     "output_type": "stream",
     "text": [
      "\n",
      "  There are binary versions available but the source versions are later:\n",
      "                  binary     source needs_compilation\n",
      "lmtest            0.9-38     0.9-40              TRUE\n",
      "RcppArmadillo 0.10.4.0.0 0.11.1.1.0              TRUE\n",
      "forecast            8.14       8.16              TRUE\n",
      "\n",
      "  Binaries will be installed\n",
      "package 'fracdiff' successfully unpacked and MD5 sums checked\n",
      "package 'lmtest' successfully unpacked and MD5 sums checked\n",
      "package 'RcppArmadillo' successfully unpacked and MD5 sums checked\n",
      "package 'forecast' successfully unpacked and MD5 sums checked\n",
      "\n",
      "The downloaded binary packages are in\n",
      "\tC:\\Users\\MarieRogerNoahNoah\\AppData\\Local\\Temp\\RtmpkTcNGI\\downloaded_packages\n"
     ]
    }
   ],
   "source": [
    "install.packages(\"forecast\")"
   ]
  },
  {
   "cell_type": "code",
   "execution_count": 2,
   "id": "449875b3",
   "metadata": {
    "scrolled": true,
    "vscode": {
     "languageId": "r"
    }
   },
   "outputs": [
    {
     "name": "stderr",
     "output_type": "stream",
     "text": [
      "Warning message:\n",
      "\"package 'dplyr' was built under R version 3.6.3\"\n",
      "Attaching package: 'dplyr'\n",
      "\n",
      "The following objects are masked from 'package:stats':\n",
      "\n",
      "    filter, lag\n",
      "\n",
      "The following objects are masked from 'package:base':\n",
      "\n",
      "    intersect, setdiff, setequal, union\n",
      "\n",
      "-- Attaching packages --------------------------------------- tidyverse 1.2.1 --\n",
      "v tibble  3.1.1     v purrr   0.3.2\n",
      "v tidyr   0.8.3     v stringr 1.4.0\n",
      "v readr   1.3.1     v forcats 0.4.0\n",
      "Warning message:\n",
      "\"package 'tibble' was built under R version 3.6.3\"-- Conflicts ------------------------------------------ tidyverse_conflicts() --\n",
      "x dplyr::filter() masks stats::filter()\n",
      "x dplyr::lag()    masks stats::lag()\n",
      "Warning message:\n",
      "\"package 'ggraptR' was built under R version 3.6.3\"Loading required package: pacman\n",
      "Warning message:\n",
      "\"package 'pacman' was built under R version 3.6.3\"Loading required package: shiny\n",
      "Warning message:\n",
      "\"package 'Hmisc' was built under R version 3.6.3\"Loading required package: lattice\n",
      "Loading required package: survival\n",
      "Warning message:\n",
      "\"package 'survival' was built under R version 3.6.3\"Loading required package: Formula\n",
      "Warning message:\n",
      "\"package 'Formula' was built under R version 3.6.3\"\n",
      "Attaching package: 'Hmisc'\n",
      "\n",
      "The following objects are masked from 'package:dplyr':\n",
      "\n",
      "    src, summarize\n",
      "\n",
      "The following objects are masked from 'package:base':\n",
      "\n",
      "    format.pval, units\n",
      "\n",
      "Warning message:\n",
      "\"package 'ggrepel' was built under R version 3.6.3\"\n",
      "Attaching package: 'itsmr'\n",
      "\n",
      "The following object is masked from 'package:shiny':\n",
      "\n",
      "    hr\n",
      "\n",
      "Warning message:\n",
      "\"package 'tseries' was built under R version 3.6.3\"Registered S3 method overwritten by 'xts':\n",
      "  method     from\n",
      "  as.zoo.xts zoo \n",
      "Registered S3 method overwritten by 'quantmod':\n",
      "  method            from\n",
      "  as.zoo.data.frame zoo \n",
      "\n",
      "Attaching package: 'tseries'\n",
      "\n",
      "The following object is masked from 'package:itsmr':\n",
      "\n",
      "    arma\n",
      "\n",
      "Warning message:\n",
      "\"package 'forecast' was built under R version 3.6.3\"\n",
      "Attaching package: 'forecast'\n",
      "\n",
      "The following object is masked from 'package:itsmr':\n",
      "\n",
      "    forecast\n",
      "\n"
     ]
    }
   ],
   "source": [
    "library(ggplot2)# package de visualisation\n",
    "#library(fpp3)\n",
    "library(dplyr)\n",
    "library(tidyverse)\n",
    "library(ISLR)\n",
    "library(moments)#package pour le calcul des coefficients de skewness, \n",
    "#library(rJava)\n",
    "library(xlsx)\n",
    "#library(devtools)\n",
    "library(ggraptR)\n",
    "library(Hmisc)# pour le calcul de la matrice du test de correlation\n",
    "library(RColorBrewer)\n",
    "library(ggrepel)\n",
    "library(itsmr)\n",
    "library(tseries) # pour les séries temporelles\n",
    "library(forecast)"
   ]
  },
  {
   "cell_type": "raw",
   "id": "9209c66d",
   "metadata": {
    "vscode": {
     "languageId": "r"
    }
   },
   "source": [
    "Les données que nous avons utilisés pour cette analyse sont réparties dans plusieurs fichiers et pour chacune d'elle nous avons suivi le plus souvent le caneva suivant:\n",
    "1. Importation de la base de données;\n",
    "2. Visualisation des données (pour prendre connaissances de la nature des données);\n",
    "3. Visualisation des données par des graphiques;\n",
    "4. Test statistiques"
   ]
  },
  {
   "cell_type": "markdown",
   "id": "f7fa2910",
   "metadata": {
    "vscode": {
     "languageId": "r"
    }
   },
   "source": [
    "### Emissions des gaz à effet de serre par grand secteur"
   ]
  },
  {
   "cell_type": "markdown",
   "id": "c68bee1e",
   "metadata": {},
   "source": [
    "#### Importation de la base de données"
   ]
  },
  {
   "cell_type": "code",
   "execution_count": 3,
   "id": "bfdd2f47",
   "metadata": {
    "vscode": {
     "languageId": "r"
    }
   },
   "outputs": [],
   "source": [
    "#setwd('C:\\Users\\MarieRogerNoahNoah\\Documents\\Projet IA\\Gaz Renouvelable des territoires par département Renouvel')\n",
    "#data1 = read.xlsx(\"C:/Users/MarieRogerNoahNoah/Documents/Projet IA/CITEPA-Liste-sources-2021-d.xlsx\", sheetIndex = 6)\n",
    "data1 = read.xlsx(\"C:/Users/MarieRogerNoahNoah/Documents/Projet IA/Emissions de gaz à effet de serre/recap_emissions_par_secteur.xlsx\", sheetIndex = 1, header=TRUE)"
   ]
  },
  {
   "cell_type": "markdown",
   "id": "e348145e",
   "metadata": {},
   "source": [
    "#### Reconnaissance de la nature de la base de données"
   ]
  },
  {
   "cell_type": "code",
   "execution_count": 20,
   "id": "3e6a4872",
   "metadata": {
    "vscode": {
     "languageId": "r"
    }
   },
   "outputs": [
    {
     "data": {
      "text/html": [
       "<table>\n",
       "<thead><tr><th scope=col>Annee</th><th scope=col>Industrie.de.l.Ã.nergie</th><th scope=col>Industrie.manufacturiÃ.re.et.construction</th><th scope=col>Traitement.centralisÃ..des.dÃ.chets</th><th scope=col>Usage.des.bÃ.timents.et.activitÃ.s.rÃ.sidentiels.tertiaires</th><th scope=col>Agriculture</th><th scope=col>Transports</th><th scope=col>Transport.hors.total</th><th scope=col>TOTAL.national.hors.UTCATF</th><th scope=col>UTCATF</th><th scope=col>UTCATF.Hors.total</th><th scope=col>Emissions.naturelles.hors.total</th><th scope=col>TOTAL.national.avec.UTCATF</th><th scope=col>Hors.total</th></tr></thead>\n",
       "<tbody>\n",
       "\t<tr><td>1990      </td><td>78.10127  </td><td>143.3398  </td><td>15.31023  </td><td> 91.64817 </td><td>92.07324  </td><td>123.5728  </td><td>17.23061  </td><td>544.0456  </td><td>-21.91749 </td><td>2.896731  </td><td>0.02319658</td><td>522.1281  </td><td>20.15053  </td></tr>\n",
       "\t<tr><td>1991      </td><td>79.38530  </td><td>155.7497  </td><td>15.86877  </td><td>101.10681 </td><td>91.62043  </td><td>126.3383  </td><td>17.16710  </td><td>570.0693  </td><td>-22.03750 </td><td>2.913581  </td><td>0.02319658</td><td>548.0318  </td><td>20.10387  </td></tr>\n",
       "\t<tr><td>1992      </td><td>80.63972  </td><td>143.6916  </td><td>16.56260  </td><td> 97.27959 </td><td>90.47726  </td><td>130.7914  </td><td>18.28198  </td><td>559.4422  </td><td>-19.82281 </td><td>2.903544  </td><td>0.13348238</td><td>539.6194  </td><td>21.31900  </td></tr>\n",
       "\t<tr><td>1993      </td><td>68.32893  </td><td>138.6403  </td><td>17.25716  </td><td> 93.69815 </td><td>89.59648  </td><td>131.0509  </td><td>18.33645  </td><td>538.5719  </td><td>-22.78431 </td><td>2.947054  </td><td>0.00000000</td><td>515.7876  </td><td>21.28350  </td></tr>\n",
       "\t<tr><td>1994      </td><td>65.22400  </td><td>139.5984  </td><td>17.54523  </td><td> 87.36689 </td><td>89.05558  </td><td>131.9613  </td><td>17.89895  </td><td>530.7515  </td><td>-20.34838 </td><td>2.983898  </td><td>0.00000000</td><td>510.4031  </td><td>20.88285  </td></tr>\n",
       "\t<tr><td>1995      </td><td>67.76534  </td><td>140.0690  </td><td>17.69849  </td><td> 87.27171 </td><td>89.87920  </td><td>133.8745  </td><td>18.21886  </td><td>536.5583  </td><td>-22.72314 </td><td>2.988319  </td><td>0.00000000</td><td>513.8352  </td><td>21.20718  </td></tr>\n",
       "</tbody>\n",
       "</table>\n"
      ],
      "text/latex": [
       "\\begin{tabular}{r|llllllllllllll}\n",
       " Annee & Industrie.de.l.Ã.nergie & Industrie.manufacturiÃ.re.et.construction & Traitement.centralisÃ..des.dÃ.chets & Usage.des.bÃ.timents.et.activitÃ.s.rÃ.sidentiels.tertiaires & Agriculture & Transports & Transport.hors.total & TOTAL.national.hors.UTCATF & UTCATF & UTCATF.Hors.total & Emissions.naturelles.hors.total & TOTAL.national.avec.UTCATF & Hors.total\\\\\n",
       "\\hline\n",
       "\t 1990       & 78.10127   & 143.3398   & 15.31023   &  91.64817  & 92.07324   & 123.5728   & 17.23061   & 544.0456   & -21.91749  & 2.896731   & 0.02319658 & 522.1281   & 20.15053  \\\\\n",
       "\t 1991       & 79.38530   & 155.7497   & 15.86877   & 101.10681  & 91.62043   & 126.3383   & 17.16710   & 570.0693   & -22.03750  & 2.913581   & 0.02319658 & 548.0318   & 20.10387  \\\\\n",
       "\t 1992       & 80.63972   & 143.6916   & 16.56260   &  97.27959  & 90.47726   & 130.7914   & 18.28198   & 559.4422   & -19.82281  & 2.903544   & 0.13348238 & 539.6194   & 21.31900  \\\\\n",
       "\t 1993       & 68.32893   & 138.6403   & 17.25716   &  93.69815  & 89.59648   & 131.0509   & 18.33645   & 538.5719   & -22.78431  & 2.947054   & 0.00000000 & 515.7876   & 21.28350  \\\\\n",
       "\t 1994       & 65.22400   & 139.5984   & 17.54523   &  87.36689  & 89.05558   & 131.9613   & 17.89895   & 530.7515   & -20.34838  & 2.983898   & 0.00000000 & 510.4031   & 20.88285  \\\\\n",
       "\t 1995       & 67.76534   & 140.0690   & 17.69849   &  87.27171  & 89.87920   & 133.8745   & 18.21886   & 536.5583   & -22.72314  & 2.988319   & 0.00000000 & 513.8352   & 21.20718  \\\\\n",
       "\\end{tabular}\n"
      ],
      "text/markdown": [
       "\n",
       "| Annee | Industrie.de.l.Ã.nergie | Industrie.manufacturiÃ.re.et.construction | Traitement.centralisÃ..des.dÃ.chets | Usage.des.bÃ.timents.et.activitÃ.s.rÃ.sidentiels.tertiaires | Agriculture | Transports | Transport.hors.total | TOTAL.national.hors.UTCATF | UTCATF | UTCATF.Hors.total | Emissions.naturelles.hors.total | TOTAL.national.avec.UTCATF | Hors.total |\n",
       "|---|---|---|---|---|---|---|---|---|---|---|---|---|---|\n",
       "| 1990       | 78.10127   | 143.3398   | 15.31023   |  91.64817  | 92.07324   | 123.5728   | 17.23061   | 544.0456   | -21.91749  | 2.896731   | 0.02319658 | 522.1281   | 20.15053   |\n",
       "| 1991       | 79.38530   | 155.7497   | 15.86877   | 101.10681  | 91.62043   | 126.3383   | 17.16710   | 570.0693   | -22.03750  | 2.913581   | 0.02319658 | 548.0318   | 20.10387   |\n",
       "| 1992       | 80.63972   | 143.6916   | 16.56260   |  97.27959  | 90.47726   | 130.7914   | 18.28198   | 559.4422   | -19.82281  | 2.903544   | 0.13348238 | 539.6194   | 21.31900   |\n",
       "| 1993       | 68.32893   | 138.6403   | 17.25716   |  93.69815  | 89.59648   | 131.0509   | 18.33645   | 538.5719   | -22.78431  | 2.947054   | 0.00000000 | 515.7876   | 21.28350   |\n",
       "| 1994       | 65.22400   | 139.5984   | 17.54523   |  87.36689  | 89.05558   | 131.9613   | 17.89895   | 530.7515   | -20.34838  | 2.983898   | 0.00000000 | 510.4031   | 20.88285   |\n",
       "| 1995       | 67.76534   | 140.0690   | 17.69849   |  87.27171  | 89.87920   | 133.8745   | 18.21886   | 536.5583   | -22.72314  | 2.988319   | 0.00000000 | 513.8352   | 21.20718   |\n",
       "\n"
      ],
      "text/plain": [
       "  Annee Industrie.de.l.Ã.nergie Industrie.manufacturiÃ.re.et.construction\n",
       "1 1990  78.10127                143.3398                                 \n",
       "2 1991  79.38530                155.7497                                 \n",
       "3 1992  80.63972                143.6916                                 \n",
       "4 1993  68.32893                138.6403                                 \n",
       "5 1994  65.22400                139.5984                                 \n",
       "6 1995  67.76534                140.0690                                 \n",
       "  Traitement.centralisÃ..des.dÃ.chets\n",
       "1 15.31023                           \n",
       "2 15.86877                           \n",
       "3 16.56260                           \n",
       "4 17.25716                           \n",
       "5 17.54523                           \n",
       "6 17.69849                           \n",
       "  Usage.des.bÃ.timents.et.activitÃ.s.rÃ.sidentiels.tertiaires Agriculture\n",
       "1  91.64817                                                   92.07324   \n",
       "2 101.10681                                                   91.62043   \n",
       "3  97.27959                                                   90.47726   \n",
       "4  93.69815                                                   89.59648   \n",
       "5  87.36689                                                   89.05558   \n",
       "6  87.27171                                                   89.87920   \n",
       "  Transports Transport.hors.total TOTAL.national.hors.UTCATF UTCATF   \n",
       "1 123.5728   17.23061             544.0456                   -21.91749\n",
       "2 126.3383   17.16710             570.0693                   -22.03750\n",
       "3 130.7914   18.28198             559.4422                   -19.82281\n",
       "4 131.0509   18.33645             538.5719                   -22.78431\n",
       "5 131.9613   17.89895             530.7515                   -20.34838\n",
       "6 133.8745   18.21886             536.5583                   -22.72314\n",
       "  UTCATF.Hors.total Emissions.naturelles.hors.total TOTAL.national.avec.UTCATF\n",
       "1 2.896731          0.02319658                      522.1281                  \n",
       "2 2.913581          0.02319658                      548.0318                  \n",
       "3 2.903544          0.13348238                      539.6194                  \n",
       "4 2.947054          0.00000000                      515.7876                  \n",
       "5 2.983898          0.00000000                      510.4031                  \n",
       "6 2.988319          0.00000000                      513.8352                  \n",
       "  Hors.total\n",
       "1 20.15053  \n",
       "2 20.10387  \n",
       "3 21.31900  \n",
       "4 21.28350  \n",
       "5 20.88285  \n",
       "6 21.20718  "
      ]
     },
     "metadata": {},
     "output_type": "display_data"
    }
   ],
   "source": [
    "head(data1)"
   ]
  },
  {
   "cell_type": "code",
   "execution_count": 4,
   "id": "b997be15",
   "metadata": {
    "vscode": {
     "languageId": "r"
    }
   },
   "outputs": [],
   "source": [
    "# renommination des colonnes\n",
    "colnames(data1) <- c(\"Annee\",\"Industrie.de.energie\",\"Industrie.manufacturiere.construstion\",\"Traitement.centralise.déchets\",\"Usage.bâtiments.activite.residentiels.tertiaires\",\"Agriculture\",\"Transports\",\"Transports.hors.Total\",\"Total.national.hors.UTCATF\",\"UTCATF\",\"UTCATF.hors.total\",\"Emissions.naturelles.hors.total\",\"Total.national.UTCATF\",\"Hors.Total\")"
   ]
  },
  {
   "cell_type": "code",
   "execution_count": 22,
   "id": "9aaeed30",
   "metadata": {
    "vscode": {
     "languageId": "r"
    }
   },
   "outputs": [
    {
     "data": {
      "text/html": [
       "<table>\n",
       "<thead><tr><th scope=col>Annee</th><th scope=col>Industrie.de.energie</th><th scope=col>Industrie.manufacturiere.construstion</th><th scope=col>Traitement.centralise.déchets</th><th scope=col>Usage.bâtiments.activite.residentiels.tertiaires</th><th scope=col>Agriculture</th><th scope=col>Transports</th><th scope=col>Transports.hors.Total</th><th scope=col>Total.national.hors.UTCATF</th><th scope=col>UTCATF</th><th scope=col>UTCATF.hors.total</th><th scope=col>Emissions.naturelles.hors.total</th><th scope=col>Total.national.UTCATF</th><th scope=col>Hors.Total</th></tr></thead>\n",
       "<tbody>\n",
       "\t<tr><td>1990      </td><td>78.10127  </td><td>143.3398  </td><td>15.31023  </td><td> 91.64817 </td><td>92.07324  </td><td>123.5728  </td><td>17.23061  </td><td>544.0456  </td><td>-21.91749 </td><td>2.896731  </td><td>0.02319658</td><td>522.1281  </td><td>20.15053  </td></tr>\n",
       "\t<tr><td>1991      </td><td>79.38530  </td><td>155.7497  </td><td>15.86877  </td><td>101.10681 </td><td>91.62043  </td><td>126.3383  </td><td>17.16710  </td><td>570.0693  </td><td>-22.03750 </td><td>2.913581  </td><td>0.02319658</td><td>548.0318  </td><td>20.10387  </td></tr>\n",
       "\t<tr><td>1992      </td><td>80.63972  </td><td>143.6916  </td><td>16.56260  </td><td> 97.27959 </td><td>90.47726  </td><td>130.7914  </td><td>18.28198  </td><td>559.4422  </td><td>-19.82281 </td><td>2.903544  </td><td>0.13348238</td><td>539.6194  </td><td>21.31900  </td></tr>\n",
       "\t<tr><td>1993      </td><td>68.32893  </td><td>138.6403  </td><td>17.25716  </td><td> 93.69815 </td><td>89.59648  </td><td>131.0509  </td><td>18.33645  </td><td>538.5719  </td><td>-22.78431 </td><td>2.947054  </td><td>0.00000000</td><td>515.7876  </td><td>21.28350  </td></tr>\n",
       "\t<tr><td>1994      </td><td>65.22400  </td><td>139.5984  </td><td>17.54523  </td><td> 87.36689 </td><td>89.05558  </td><td>131.9613  </td><td>17.89895  </td><td>530.7515  </td><td>-20.34838 </td><td>2.983898  </td><td>0.00000000</td><td>510.4031  </td><td>20.88285  </td></tr>\n",
       "\t<tr><td>1995      </td><td>67.76534  </td><td>140.0690  </td><td>17.69849  </td><td> 87.27171 </td><td>89.87920  </td><td>133.8745  </td><td>18.21886  </td><td>536.5583  </td><td>-22.72314 </td><td>2.988319  </td><td>0.00000000</td><td>513.8352  </td><td>21.20718  </td></tr>\n",
       "</tbody>\n",
       "</table>\n"
      ],
      "text/latex": [
       "\\begin{tabular}{r|llllllllllllll}\n",
       " Annee & Industrie.de.energie & Industrie.manufacturiere.construstion & Traitement.centralise.déchets & Usage.bâtiments.activite.residentiels.tertiaires & Agriculture & Transports & Transports.hors.Total & Total.national.hors.UTCATF & UTCATF & UTCATF.hors.total & Emissions.naturelles.hors.total & Total.national.UTCATF & Hors.Total\\\\\n",
       "\\hline\n",
       "\t 1990       & 78.10127   & 143.3398   & 15.31023   &  91.64817  & 92.07324   & 123.5728   & 17.23061   & 544.0456   & -21.91749  & 2.896731   & 0.02319658 & 522.1281   & 20.15053  \\\\\n",
       "\t 1991       & 79.38530   & 155.7497   & 15.86877   & 101.10681  & 91.62043   & 126.3383   & 17.16710   & 570.0693   & -22.03750  & 2.913581   & 0.02319658 & 548.0318   & 20.10387  \\\\\n",
       "\t 1992       & 80.63972   & 143.6916   & 16.56260   &  97.27959  & 90.47726   & 130.7914   & 18.28198   & 559.4422   & -19.82281  & 2.903544   & 0.13348238 & 539.6194   & 21.31900  \\\\\n",
       "\t 1993       & 68.32893   & 138.6403   & 17.25716   &  93.69815  & 89.59648   & 131.0509   & 18.33645   & 538.5719   & -22.78431  & 2.947054   & 0.00000000 & 515.7876   & 21.28350  \\\\\n",
       "\t 1994       & 65.22400   & 139.5984   & 17.54523   &  87.36689  & 89.05558   & 131.9613   & 17.89895   & 530.7515   & -20.34838  & 2.983898   & 0.00000000 & 510.4031   & 20.88285  \\\\\n",
       "\t 1995       & 67.76534   & 140.0690   & 17.69849   &  87.27171  & 89.87920   & 133.8745   & 18.21886   & 536.5583   & -22.72314  & 2.988319   & 0.00000000 & 513.8352   & 21.20718  \\\\\n",
       "\\end{tabular}\n"
      ],
      "text/markdown": [
       "\n",
       "| Annee | Industrie.de.energie | Industrie.manufacturiere.construstion | Traitement.centralise.déchets | Usage.bâtiments.activite.residentiels.tertiaires | Agriculture | Transports | Transports.hors.Total | Total.national.hors.UTCATF | UTCATF | UTCATF.hors.total | Emissions.naturelles.hors.total | Total.national.UTCATF | Hors.Total |\n",
       "|---|---|---|---|---|---|---|---|---|---|---|---|---|---|\n",
       "| 1990       | 78.10127   | 143.3398   | 15.31023   |  91.64817  | 92.07324   | 123.5728   | 17.23061   | 544.0456   | -21.91749  | 2.896731   | 0.02319658 | 522.1281   | 20.15053   |\n",
       "| 1991       | 79.38530   | 155.7497   | 15.86877   | 101.10681  | 91.62043   | 126.3383   | 17.16710   | 570.0693   | -22.03750  | 2.913581   | 0.02319658 | 548.0318   | 20.10387   |\n",
       "| 1992       | 80.63972   | 143.6916   | 16.56260   |  97.27959  | 90.47726   | 130.7914   | 18.28198   | 559.4422   | -19.82281  | 2.903544   | 0.13348238 | 539.6194   | 21.31900   |\n",
       "| 1993       | 68.32893   | 138.6403   | 17.25716   |  93.69815  | 89.59648   | 131.0509   | 18.33645   | 538.5719   | -22.78431  | 2.947054   | 0.00000000 | 515.7876   | 21.28350   |\n",
       "| 1994       | 65.22400   | 139.5984   | 17.54523   |  87.36689  | 89.05558   | 131.9613   | 17.89895   | 530.7515   | -20.34838  | 2.983898   | 0.00000000 | 510.4031   | 20.88285   |\n",
       "| 1995       | 67.76534   | 140.0690   | 17.69849   |  87.27171  | 89.87920   | 133.8745   | 18.21886   | 536.5583   | -22.72314  | 2.988319   | 0.00000000 | 513.8352   | 21.20718   |\n",
       "\n"
      ],
      "text/plain": [
       "  Annee Industrie.de.energie Industrie.manufacturiere.construstion\n",
       "1 1990  78.10127             143.3398                             \n",
       "2 1991  79.38530             155.7497                             \n",
       "3 1992  80.63972             143.6916                             \n",
       "4 1993  68.32893             138.6403                             \n",
       "5 1994  65.22400             139.5984                             \n",
       "6 1995  67.76534             140.0690                             \n",
       "  Traitement.centralise.déchets\n",
       "1 15.31023                     \n",
       "2 15.86877                     \n",
       "3 16.56260                     \n",
       "4 17.25716                     \n",
       "5 17.54523                     \n",
       "6 17.69849                     \n",
       "  Usage.bâtiments.activite.residentiels.tertiaires Agriculture Transports\n",
       "1  91.64817                                        92.07324    123.5728  \n",
       "2 101.10681                                        91.62043    126.3383  \n",
       "3  97.27959                                        90.47726    130.7914  \n",
       "4  93.69815                                        89.59648    131.0509  \n",
       "5  87.36689                                        89.05558    131.9613  \n",
       "6  87.27171                                        89.87920    133.8745  \n",
       "  Transports.hors.Total Total.national.hors.UTCATF UTCATF    UTCATF.hors.total\n",
       "1 17.23061              544.0456                   -21.91749 2.896731         \n",
       "2 17.16710              570.0693                   -22.03750 2.913581         \n",
       "3 18.28198              559.4422                   -19.82281 2.903544         \n",
       "4 18.33645              538.5719                   -22.78431 2.947054         \n",
       "5 17.89895              530.7515                   -20.34838 2.983898         \n",
       "6 18.21886              536.5583                   -22.72314 2.988319         \n",
       "  Emissions.naturelles.hors.total Total.national.UTCATF Hors.Total\n",
       "1 0.02319658                      522.1281              20.15053  \n",
       "2 0.02319658                      548.0318              20.10387  \n",
       "3 0.13348238                      539.6194              21.31900  \n",
       "4 0.00000000                      515.7876              21.28350  \n",
       "5 0.00000000                      510.4031              20.88285  \n",
       "6 0.00000000                      513.8352              21.20718  "
      ]
     },
     "metadata": {},
     "output_type": "display_data"
    }
   ],
   "source": [
    "#véfication de la renommination des colonnes\n",
    "head(data1)"
   ]
  },
  {
   "cell_type": "raw",
   "id": "57465aed",
   "metadata": {},
   "source": [
    "N.B: Il faut connaitre le types des variables de la base de données avant de faire une analyse"
   ]
  },
  {
   "cell_type": "code",
   "execution_count": 23,
   "id": "92b4b94a",
   "metadata": {},
   "outputs": [
    {
     "name": "stdout",
     "output_type": "stream",
     "text": [
      "'data.frame':\t61 obs. of  14 variables:\n",
      " $ Annee                                           : Factor w/ 61 levels \"1990\",\"1991\",..: 1 2 4 6 8 10 12 14 16 18 ...\n",
      " $ Industrie.de.energie                            : num  78.1 79.4 80.6 68.3 65.2 ...\n",
      " $ Industrie.manufacturiere.construstion           : num  143 156 144 139 140 ...\n",
      " $ Traitement.centralise.déchets                   : num  15.3 15.9 16.6 17.3 17.5 ...\n",
      " $ Usage.bâtiments.activite.residentiels.tertiaires: num  91.6 101.1 97.3 93.7 87.4 ...\n",
      " $ Agriculture                                     : num  92.1 91.6 90.5 89.6 89.1 ...\n",
      " $ Transports                                      : num  124 126 131 131 132 ...\n",
      " $ Transports.hors.Total                           : num  17.2 17.2 18.3 18.3 17.9 ...\n",
      " $ Total.national.hors.UTCATF                      : num  544 570 559 539 531 ...\n",
      " $ UTCATF                                          : num  -21.9 -22 -19.8 -22.8 -20.3 ...\n",
      " $ UTCATF.hors.total                               : num  2.9 2.91 2.9 2.95 2.98 ...\n",
      " $ Emissions.naturelles.hors.total                 : num  0.0232 0.0232 0.1335 0 0 ...\n",
      " $ Total.national.UTCATF                           : num  522 548 540 516 510 ...\n",
      " $ Hors.Total                                      : num  20.2 20.1 21.3 21.3 20.9 ...\n"
     ]
    }
   ],
   "source": [
    "#le type des variables dela base de données\n",
    "str(data1)"
   ]
  },
  {
   "cell_type": "code",
   "execution_count": 5,
   "id": "9beaf68f",
   "metadata": {},
   "outputs": [],
   "source": [
    "# changement de la colonne Date en format date\n",
    "data1$Annee = as.Date(data1$Annee, format =\"%Y\") # convertir en date\n",
    "#str(data1) # pour vérifier si le format date a été appliqué"
   ]
  },
  {
   "cell_type": "code",
   "execution_count": 25,
   "id": "118ab606",
   "metadata": {},
   "outputs": [
    {
     "data": {
      "text/plain": [
       "     Annee            Industrie.de.energie\n",
       " Min.   :1990-05-20   Min.   :38.36       \n",
       " 1st Qu.:1998-05-20   1st Qu.:57.65       \n",
       " Median :2005-05-20   Median :67.20       \n",
       " Mean   :2005-08-17   Mean   :63.74       \n",
       " 3rd Qu.:2013-05-20   3rd Qu.:70.50       \n",
       " Max.   :2020-05-20   Max.   :80.64       \n",
       " Industrie.manufacturiere.construstion Traitement.centralise.déchets\n",
       " Min.   : 75.78                        Min.   :15.04                \n",
       " 1st Qu.: 91.66                        1st Qu.:16.52                \n",
       " Median :119.97                        Median :17.60                \n",
       " Mean   :114.88                        Mean   :17.27                \n",
       " 3rd Qu.:134.81                        3rd Qu.:18.50                \n",
       " Max.   :155.75                        Max.   :18.87                \n",
       " Usage.bâtiments.activite.residentiels.tertiaires  Agriculture   \n",
       " Min.   : 69.94                                   Min.   :82.95  \n",
       " 1st Qu.: 87.27                                   1st Qu.:86.11  \n",
       " Median : 94.42                                   Median :88.52  \n",
       " Mean   : 92.51                                   Mean   :88.48  \n",
       " 3rd Qu.: 99.73                                   3rd Qu.:90.62  \n",
       " Max.   :105.48                                   Max.   :93.54  \n",
       "   Transports    Transports.hors.Total Total.national.hors.UTCATF\n",
       " Min.   :113.6   Min.   :14.16         Min.   :395.7             \n",
       " 1st Qu.:135.9   1st Qu.:20.36         1st Qu.:483.4             \n",
       " Median :138.0   Median :23.07         Median :536.6             \n",
       " Mean   :137.9   Mean   :22.33         Mean   :514.7             \n",
       " 3rd Qu.:143.4   3rd Qu.:24.44         3rd Qu.:551.2             \n",
       " Max.   :147.6   Max.   :26.78         Max.   :570.1             \n",
       "     UTCATF       UTCATF.hors.total Emissions.naturelles.hors.total\n",
       " Min.   :-46.36   Min.   :2.897     Min.   :0.00000                \n",
       " 1st Qu.:-38.04   1st Qu.:3.028     1st Qu.:0.00000                \n",
       " Median :-32.20   Median :3.142     Median :0.04639                \n",
       " Mean   :-32.94   Mean   :3.201     Mean   :0.10223                \n",
       " 3rd Qu.:-29.27   3rd Qu.:3.402     3rd Qu.:0.13348                \n",
       " Max.   :-17.49   Max.   :3.425     Max.   :0.90159                \n",
       " Total.national.UTCATF   Hors.Total   \n",
       " Min.   :364.9         Min.   :17.72  \n",
       " 1st Qu.:444.7         1st Qu.:23.38  \n",
       " Median :506.4         Median :26.51  \n",
       " Mean   :481.8         Mean   :25.63  \n",
       " 3rd Qu.:518.3         3rd Qu.:27.86  \n",
       " Max.   :548.0         Max.   :30.14  "
      ]
     },
     "metadata": {},
     "output_type": "display_data"
    }
   ],
   "source": [
    "# Etude statistique des variables\n",
    "summary(data1)"
   ]
  },
  {
   "cell_type": "code",
   "execution_count": 27,
   "id": "d63971cd",
   "metadata": {},
   "outputs": [
    {
     "data": {
      "text/html": [
       "<table>\n",
       "<thead><tr><th></th><th scope=col>Industrie.de.energie</th><th scope=col>Industrie.manufacturiere.construstion</th><th scope=col>Traitement.centralise.déchets</th><th scope=col>Usage.bâtiments.activite.residentiels.tertiaires</th><th scope=col>Agriculture</th><th scope=col>Transports</th></tr></thead>\n",
       "<tbody>\n",
       "\t<tr><th scope=row>30</th><td>42.47956</td><td>84.24711</td><td>15.28486</td><td>75.0531 </td><td>83.06621</td><td>135.8678</td></tr>\n",
       "</tbody>\n",
       "</table>\n"
      ],
      "text/latex": [
       "\\begin{tabular}{r|llllll}\n",
       "  & Industrie.de.energie & Industrie.manufacturiere.construstion & Traitement.centralise.déchets & Usage.bâtiments.activite.residentiels.tertiaires & Agriculture & Transports\\\\\n",
       "\\hline\n",
       "\t30 & 42.47956 & 84.24711 & 15.28486 & 75.0531  & 83.06621 & 135.8678\\\\\n",
       "\\end{tabular}\n"
      ],
      "text/markdown": [
       "\n",
       "| <!--/--> | Industrie.de.energie | Industrie.manufacturiere.construstion | Traitement.centralise.déchets | Usage.bâtiments.activite.residentiels.tertiaires | Agriculture | Transports |\n",
       "|---|---|---|---|---|---|---|\n",
       "| 30 | 42.47956 | 84.24711 | 15.28486 | 75.0531  | 83.06621 | 135.8678 |\n",
       "\n"
      ],
      "text/plain": [
       "   Industrie.de.energie Industrie.manufacturiere.construstion\n",
       "30 42.47956             84.24711                             \n",
       "   Traitement.centralise.déchets\n",
       "30 15.28486                     \n",
       "   Usage.bâtiments.activite.residentiels.tertiaires Agriculture Transports\n",
       "30 75.0531                                          83.06621    135.8678  "
      ]
     },
     "metadata": {},
     "output_type": "display_data"
    }
   ],
   "source": [
    "#création d'une nouvelle base de données avec les secteurs d'activités intéressantes pour notre études\n",
    "#étape importante\n",
    "#data = as.matrix(data1[30,2:7])\n",
    "data1.1 = as.matrix(data1[30,2:7])\n",
    "data1.1"
   ]
  },
  {
   "cell_type": "code",
   "execution_count": 28,
   "id": "d4189136",
   "metadata": {},
   "outputs": [
    {
     "data": {
      "text/html": [
       "<table>\n",
       "<thead><tr><th></th><th scope=col>Energie</th><th scope=col>Manu.Cons</th><th scope=col>Déchets</th><th scope=col>Bâtiments</th><th scope=col>Agriculture</th><th scope=col>Transports</th></tr></thead>\n",
       "<tbody>\n",
       "\t<tr><th scope=row>30</th><td>42.47956</td><td>84.24711</td><td>15.28486</td><td>75.0531 </td><td>83.06621</td><td>135.8678</td></tr>\n",
       "</tbody>\n",
       "</table>\n"
      ],
      "text/latex": [
       "\\begin{tabular}{r|llllll}\n",
       "  & Energie & Manu.Cons & Déchets & Bâtiments & Agriculture & Transports\\\\\n",
       "\\hline\n",
       "\t30 & 42.47956 & 84.24711 & 15.28486 & 75.0531  & 83.06621 & 135.8678\\\\\n",
       "\\end{tabular}\n"
      ],
      "text/markdown": [
       "\n",
       "| <!--/--> | Energie | Manu.Cons | Déchets | Bâtiments | Agriculture | Transports |\n",
       "|---|---|---|---|---|---|---|\n",
       "| 30 | 42.47956 | 84.24711 | 15.28486 | 75.0531  | 83.06621 | 135.8678 |\n",
       "\n"
      ],
      "text/plain": [
       "   Energie  Manu.Cons Déchets  Bâtiments Agriculture Transports\n",
       "30 42.47956 84.24711  15.28486 75.0531   83.06621    135.8678  "
      ]
     },
     "metadata": {},
     "output_type": "display_data"
    }
   ],
   "source": [
    "# Changement des noms des colonnes de la nouvelle base\n",
    "colnames(data1.1) <-c(\"Energie\",\"Manu.Cons\",\"Déchets\",\"Bâtiments\",\"Agriculture\",\"Transports\") \n",
    "data1.1"
   ]
  },
  {
   "cell_type": "code",
   "execution_count": 6,
   "id": "d56e80e9",
   "metadata": {},
   "outputs": [
    {
     "data": {
      "text/html": [
       "<table>\n",
       "<thead><tr><th scope=col>Annee</th><th scope=col>Total.national.hors.UTCATF</th></tr></thead>\n",
       "<tbody>\n",
       "\t<tr><td>1990-05-20</td><td>544.0456  </td></tr>\n",
       "\t<tr><td>1991-05-20</td><td>570.0693  </td></tr>\n",
       "\t<tr><td>1992-05-20</td><td>559.4422  </td></tr>\n",
       "\t<tr><td>1993-05-20</td><td>538.5719  </td></tr>\n",
       "\t<tr><td>1994-05-20</td><td>530.7515  </td></tr>\n",
       "\t<tr><td>1995-05-20</td><td>536.5583  </td></tr>\n",
       "</tbody>\n",
       "</table>\n"
      ],
      "text/latex": [
       "\\begin{tabular}{r|ll}\n",
       " Annee & Total.national.hors.UTCATF\\\\\n",
       "\\hline\n",
       "\t 1990-05-20 & 544.0456  \\\\\n",
       "\t 1991-05-20 & 570.0693  \\\\\n",
       "\t 1992-05-20 & 559.4422  \\\\\n",
       "\t 1993-05-20 & 538.5719  \\\\\n",
       "\t 1994-05-20 & 530.7515  \\\\\n",
       "\t 1995-05-20 & 536.5583  \\\\\n",
       "\\end{tabular}\n"
      ],
      "text/markdown": [
       "\n",
       "| Annee | Total.national.hors.UTCATF |\n",
       "|---|---|\n",
       "| 1990-05-20 | 544.0456   |\n",
       "| 1991-05-20 | 570.0693   |\n",
       "| 1992-05-20 | 559.4422   |\n",
       "| 1993-05-20 | 538.5719   |\n",
       "| 1994-05-20 | 530.7515   |\n",
       "| 1995-05-20 | 536.5583   |\n",
       "\n"
      ],
      "text/plain": [
       "  Annee      Total.national.hors.UTCATF\n",
       "1 1990-05-20 544.0456                  \n",
       "2 1991-05-20 570.0693                  \n",
       "3 1992-05-20 559.4422                  \n",
       "4 1993-05-20 538.5719                  \n",
       "5 1994-05-20 530.7515                  \n",
       "6 1995-05-20 536.5583                  "
      ]
     },
     "metadata": {},
     "output_type": "display_data"
    }
   ],
   "source": [
    "data1.2 = data1[,c(1,9)]\n",
    "head(data1.2)"
   ]
  },
  {
   "cell_type": "code",
   "execution_count": 7,
   "id": "96a053b8",
   "metadata": {},
   "outputs": [
    {
     "data": {
      "text/html": [
       "<table>\n",
       "<thead><tr><th scope=col>Annee</th><th scope=col>Total.national.hors.UTCATF</th></tr></thead>\n",
       "<tbody>\n",
       "\t<tr><td>1990-05-20</td><td>544.0456  </td></tr>\n",
       "\t<tr><td>1991-05-20</td><td>570.0693  </td></tr>\n",
       "\t<tr><td>1992-05-20</td><td>559.4422  </td></tr>\n",
       "\t<tr><td>1993-05-20</td><td>538.5719  </td></tr>\n",
       "\t<tr><td>1994-05-20</td><td>530.7515  </td></tr>\n",
       "\t<tr><td>1995-05-20</td><td>536.5583  </td></tr>\n",
       "</tbody>\n",
       "</table>\n"
      ],
      "text/latex": [
       "\\begin{tabular}{r|ll}\n",
       " Annee & Total.national.hors.UTCATF\\\\\n",
       "\\hline\n",
       "\t 1990-05-20 & 544.0456  \\\\\n",
       "\t 1991-05-20 & 570.0693  \\\\\n",
       "\t 1992-05-20 & 559.4422  \\\\\n",
       "\t 1993-05-20 & 538.5719  \\\\\n",
       "\t 1994-05-20 & 530.7515  \\\\\n",
       "\t 1995-05-20 & 536.5583  \\\\\n",
       "\\end{tabular}\n"
      ],
      "text/markdown": [
       "\n",
       "| Annee | Total.national.hors.UTCATF |\n",
       "|---|---|\n",
       "| 1990-05-20 | 544.0456   |\n",
       "| 1991-05-20 | 570.0693   |\n",
       "| 1992-05-20 | 559.4422   |\n",
       "| 1993-05-20 | 538.5719   |\n",
       "| 1994-05-20 | 530.7515   |\n",
       "| 1995-05-20 | 536.5583   |\n",
       "\n"
      ],
      "text/plain": [
       "  Annee      Total.national.hors.UTCATF\n",
       "1 1990-05-20 544.0456                  \n",
       "2 1991-05-20 570.0693                  \n",
       "3 1992-05-20 559.4422                  \n",
       "4 1993-05-20 538.5719                  \n",
       "5 1994-05-20 530.7515                  \n",
       "6 1995-05-20 536.5583                  "
      ]
     },
     "metadata": {},
     "output_type": "display_data"
    }
   ],
   "source": [
    "# Total national d'émissions des GES sans l'année 2020(estimation)\n",
    "data1.3 = data1[-61,c(1,9)]\n",
    "head(data1.3)"
   ]
  },
  {
   "cell_type": "markdown",
   "id": "05e085c3",
   "metadata": {},
   "source": [
    "#### VISUALISATION DES DONNEES"
   ]
  },
  {
   "cell_type": "raw",
   "id": "1d85db71",
   "metadata": {},
   "source": [
    "Cette visualisation représente l'émissions total hors UTCATF dans l'air de CO2E en France entre 1990 et 2019"
   ]
  },
  {
   "cell_type": "code",
   "execution_count": 32,
   "id": "df4dd8f1",
   "metadata": {},
   "outputs": [],
   "source": [
    "# création dema palette de couleur pour les graphes\n",
    "#palette_Dark2 <- colorRampPalette(brewer.pal(14, \"Dark2\"))\n",
    "mycolors = c(\"red\",\"green\",\"yellow\",\"orange\",\"magenta\",\"cyan\",\"brown\",\"aquamarine\",\"darkgreen\",\"deeppink\",\"darkgrey\",\"chocolate\",\"darkolivegreen\",\"darkmagenta\",\"salmon\")"
   ]
  },
  {
   "cell_type": "code",
   "execution_count": 117,
   "id": "248c2fec",
   "metadata": {},
   "outputs": [
    {
     "data": {
      "image/png": "[encoded data removed]",
      "text/plain": [
       "plot without title"
      ]
     },
     "metadata": {},
     "output_type": "display_data"
    }
   ],
   "source": [
    "ggplot(data1.2, aes(x=Annee)) + \n",
    "                geom_line(aes(y = Total.national.hors.UTCATF,colour = \"Total.national.hors.UTCATF\")) +\n",
    "                #geom_smooth(aes(y= Total.national.hors.UTCATF),method='lm') +\n",
    "                ylab(\"MtCO2e\") +\n",
    "                ggtitle(\"Evolutions des émissions dans l'air de CO2e hors UTCATF \\n en France entre 1990 et 2019\")+\n",
    "                theme(plot.title = element_text(size = 10))+\n",
    "                geom_text(data = NULL, aes(x = Annee[28], y = 390, label = \"2020 (estimation)\"),size=3) +\n",
    "                scale_color_manual(name=\"Legende\",values = mycolors) \n",
    "                #labs(color = \"Legende\") \n",
    "                #scale_color_manual(values = colors)  "
   ]
  },
  {
   "cell_type": "raw",
   "id": "27f93982",
   "metadata": {},
   "source": [
    "Figure1"
   ]
  },
  {
   "cell_type": "raw",
   "id": "3bb7f889",
   "metadata": {},
   "source": [
    "Cette visualisation c'est pour savoir quel secteur d'activité a le plus émit de gaz à effet de serre en 2019\n",
    "https://stats.oarc.ucla.edu/r/faq/how-can-i-add-features-or-dimensions-to-my-bar-plot/(lien pour étiquette)"
   ]
  },
  {
   "cell_type": "code",
   "execution_count": 34,
   "id": "e92b65b6",
   "metadata": {},
   "outputs": [
    {
     "data": {
      "image/png": "[encoded data removed]",
      "text/plain": [
       "Plot with title \"Emissions de tous les gaz à effet de serre, en équivalent CO2 par grand secteur en 2019\""
      ]
     },
     "metadata": {},
     "output_type": "display_data"
    }
   ],
   "source": [
    "bar1 = barplot(data1.1[order(data1.1)],width = 1,\n",
    "#bp_data1=barplot(sort(as.matrix(data1[30,2:7],decreasing = TRUE)),\n",
    "main = (\"Emissions de tous les gaz à effet de serre, en équivalent CO2 par grand secteur en 2019\"),\n",
    "xlab = \"MtCO2e\",\n",
    "#ylab = \"Day\",\n",
    "names.arg = c(\"Energie\",\"Manu.Cons\",\"Déchets\",\"Bâtiments\",\"Agriculture\",\"Transports\")[order(data1.1)],\n",
    "#names.arg=colnames(data)[order(data)],\n",
    "#names.arg= names(data[,2:7]),\n",
    "cex.main=0.9,#cex.axis=1.7\n",
    "cex.names = 0.8,\n",
    "col = c(\"red\",\"yellow\",\"blue\",\"green\",\"magenta\",\"brown\"),\n",
    "horiz = TRUE)\n",
    "#text(0.1, bar1, y =data1.1[order(data1.1)])\n",
    "text(bar1,x=8,labels = round(data1.1[order(data1.1)], digits = 2),cex=1)# étiquette sur les barres\n",
    "#text(x = data1.1[order(data1.1)], pos = 2)\n",
    "#text(bar1, sort(data1.1, decreasing=T) + 3.5, sort(data1.1, decreasing = T))\n",
    "#axis(2, at = bp_secteurs, labels = names(data)[order(data, decreasing = TRUE)])\n",
    "#axis(2, at = bp_data1, labels = names(data[,2:7])[order(data[,2:7], decreasing = TRUE)])"
   ]
  },
  {
   "cell_type": "raw",
   "id": "578003f6",
   "metadata": {},
   "source": [
    "Figure2"
   ]
  },
  {
   "cell_type": "code",
   "execution_count": 35,
   "id": "e620992f",
   "metadata": {},
   "outputs": [
    {
     "data": {
      "image/png": "[encoded data removed]",
      "text/plain": [
       "plot without title"
      ]
     },
     "metadata": {},
     "output_type": "display_data"
    }
   ],
   "source": [
    " #ggplot(data1)+aes(x=Annee, y=Industrie.de.energie)+geom_line(colour=\"yellow\")+ \n",
    "  #            aes(x=Annee, y=Industrie.manufacturiere.construstion)+geom_line(colour=\"magenta\")\n",
    "ggplot(data1, aes(x=Annee)) + \n",
    "                geom_line(aes(y = Industrie.de.energie,colour = \"Energie\")) +\n",
    "                geom_line(aes(y = Industrie.manufacturiere.construstion,colour = \"Manufacturiere.Construstion\")) +\n",
    "                geom_line(aes(y = Traitement.centralise.déchets, colour = \"Dechets\")) +\n",
    "                geom_line(aes(y = Usage.bâtiments.activite.residentiels.tertiaires, colour = \"Bâtiments\"))+\n",
    "                geom_line(aes(y= Agriculture, colour=\"Agriculture\")) +\n",
    "                geom_line(aes(y= Transports, colour = \"Transports\")) +\n",
    "                ylab(\"MtCO2e\") +\n",
    "                ggtitle(\"Evolutions des émissions dans l'air de CO2e en France entre 1990 et 2019\")+\n",
    "                geom_text(data = NULL, aes(x = Annee[28], y = 4.5, label = \"2020 (estimation)\"),size=3) +\n",
    "                scale_color_manual(name=\"Legende\",values = c(\"Energie\"=\"yellow\",\"Manufacturiere.Construstion\"=\"magenta\",\"Dechets\"=\"red\",\"Bâtiments\"=\"blue\",\"Agriculture\"=\"green\",\"Transports\"=\"brown\")) \n",
    "                #labs(color = \"Legende\") \n",
    "                #scale_color_manual(values = colors)              "
   ]
  },
  {
   "cell_type": "raw",
   "id": "f4d7e8d5",
   "metadata": {},
   "source": [
    "Figure3"
   ]
  },
  {
   "cell_type": "markdown",
   "id": "6aa97fa4",
   "metadata": {},
   "source": [
    "#### Test statistique"
   ]
  },
  {
   "cell_type": "code",
   "execution_count": 36,
   "id": "a98f366a",
   "metadata": {},
   "outputs": [
    {
     "data": {
      "text/plain": [
       "                                                 Industrie.de.energie\n",
       "Industrie.de.energie                                             1.00\n",
       "Industrie.manufacturiere.construstion                            0.85\n",
       "Traitement.centralise.déchets                                    0.64\n",
       "Usage.bâtiments.activite.residentiels.tertiaires                 0.84\n",
       "Agriculture                                                      0.78\n",
       "Transports                                                       0.27\n",
       "                                                 Industrie.manufacturiere.construstion\n",
       "Industrie.de.energie                                                              0.85\n",
       "Industrie.manufacturiere.construstion                                             1.00\n",
       "Traitement.centralise.déchets                                                     0.46\n",
       "Usage.bâtiments.activite.residentiels.tertiaires                                  0.56\n",
       "Agriculture                                                                       0.84\n",
       "Transports                                                                        0.09\n",
       "                                                 Traitement.centralise.déchets\n",
       "Industrie.de.energie                                                      0.64\n",
       "Industrie.manufacturiere.construstion                                     0.46\n",
       "Traitement.centralise.déchets                                             1.00\n",
       "Usage.bâtiments.activite.residentiels.tertiaires                          0.76\n",
       "Agriculture                                                               0.55\n",
       "Transports                                                                0.66\n",
       "                                                 Usage.bâtiments.activite.residentiels.tertiaires\n",
       "Industrie.de.energie                                                                         0.84\n",
       "Industrie.manufacturiere.construstion                                                        0.56\n",
       "Traitement.centralise.déchets                                                                0.76\n",
       "Usage.bâtiments.activite.residentiels.tertiaires                                             1.00\n",
       "Agriculture                                                                                  0.63\n",
       "Transports                                                                                   0.51\n",
       "                                                 Agriculture Transports\n",
       "Industrie.de.energie                                    0.78       0.27\n",
       "Industrie.manufacturiere.construstion                   0.84       0.09\n",
       "Traitement.centralise.déchets                           0.55       0.66\n",
       "Usage.bâtiments.activite.residentiels.tertiaires        0.63       0.51\n",
       "Agriculture                                             1.00       0.28\n",
       "Transports                                              0.28       1.00\n",
       "\n",
       "n= 61 \n",
       "\n",
       "\n",
       "P\n",
       "                                                 Industrie.de.energie\n",
       "Industrie.de.energie                                                 \n",
       "Industrie.manufacturiere.construstion            0.0000              \n",
       "Traitement.centralise.déchets                    0.0000              \n",
       "Usage.bâtiments.activite.residentiels.tertiaires 0.0000              \n",
       "Agriculture                                      0.0000              \n",
       "Transports                                       0.0384              \n",
       "                                                 Industrie.manufacturiere.construstion\n",
       "Industrie.de.energie                             0.0000                               \n",
       "Industrie.manufacturiere.construstion                                                 \n",
       "Traitement.centralise.déchets                    0.0002                               \n",
       "Usage.bâtiments.activite.residentiels.tertiaires 0.0000                               \n",
       "Agriculture                                      0.0000                               \n",
       "Transports                                       0.5119                               \n",
       "                                                 Traitement.centralise.déchets\n",
       "Industrie.de.energie                             0.0000                       \n",
       "Industrie.manufacturiere.construstion            0.0002                       \n",
       "Traitement.centralise.déchets                                                 \n",
       "Usage.bâtiments.activite.residentiels.tertiaires 0.0000                       \n",
       "Agriculture                                      0.0000                       \n",
       "Transports                                       0.0000                       \n",
       "                                                 Usage.bâtiments.activite.residentiels.tertiaires\n",
       "Industrie.de.energie                             0.0000                                          \n",
       "Industrie.manufacturiere.construstion            0.0000                                          \n",
       "Traitement.centralise.déchets                    0.0000                                          \n",
       "Usage.bâtiments.activite.residentiels.tertiaires                                                 \n",
       "Agriculture                                      0.0000                                          \n",
       "Transports                                       0.0000                                          \n",
       "                                                 Agriculture Transports\n",
       "Industrie.de.energie                             0.0000      0.0384    \n",
       "Industrie.manufacturiere.construstion            0.0000      0.5119    \n",
       "Traitement.centralise.déchets                    0.0000      0.0000    \n",
       "Usage.bâtiments.activite.residentiels.tertiaires 0.0000      0.0000    \n",
       "Agriculture                                                  0.0312    \n",
       "Transports                                       0.0312                "
      ]
     },
     "metadata": {},
     "output_type": "display_data"
    }
   ],
   "source": [
    "rcorr(as.matrix(data1[,2:7]))# matrice du test de corrélation"
   ]
  },
  {
   "cell_type": "raw",
   "id": "e5ef23bb",
   "metadata": {},
   "source": [
    "Nous avons décidé de faire un test de colération entre les secteurs liés à l'urbanisation à savoir le Transports, l'energie et le bâtiment pour avoir la valeur exacte des p-values "
   ]
  },
  {
   "cell_type": "code",
   "execution_count": 37,
   "id": "b0684c9a",
   "metadata": {},
   "outputs": [
    {
     "data": {
      "text/plain": [
       "\n",
       "\tPearson's product-moment correlation\n",
       "\n",
       "data:  data1$Usage.bâtiments.activite.residentiels.tertiaires and data1$Transports\n",
       "t = 4.5503, df = 59, p-value = 2.724e-05\n",
       "alternative hypothesis: true correlation is not equal to 0\n",
       "95 percent confidence interval:\n",
       " 0.2958276 0.6748807\n",
       "sample estimates:\n",
       "      cor \n",
       "0.5096795 \n"
      ]
     },
     "metadata": {},
     "output_type": "display_data"
    }
   ],
   "source": [
    "# test de corrélation entre l'industrie du transport et le bâtiment\n",
    "cor.test(data1$Usage.bâtiments.activite.residentiels.tertiaires,data1$Transports)"
   ]
  },
  {
   "cell_type": "raw",
   "id": "bda82848",
   "metadata": {},
   "source": [
    "p-value < 0.05 donc il existe une forte corrélation entre les deux variables"
   ]
  },
  {
   "cell_type": "raw",
   "id": "b18627b4",
   "metadata": {},
   "source": [
    "Regression linéaire entre les données d'émissions des gaz à effet de serre entre l'industrie du transport et le bâtiment"
   ]
  },
  {
   "cell_type": "code",
   "execution_count": 38,
   "id": "07c0eb01",
   "metadata": {},
   "outputs": [
    {
     "data": {
      "image/png": "[encoded data removed]",
      "text/plain": [
       "plot without title"
      ]
     },
     "metadata": {},
     "output_type": "display_data"
    }
   ],
   "source": [
    "ggplot(data1)+aes(x=Usage.bâtiments.activite.residentiels.tertiaires,y=Transports)+geom_point()+\n",
    " geom_smooth( formula = y~x ,method=\"lm\")"
   ]
  },
  {
   "cell_type": "raw",
   "id": "62e953ec",
   "metadata": {},
   "source": [
    "Figure4"
   ]
  },
  {
   "cell_type": "code",
   "execution_count": 39,
   "id": "e065f98e",
   "metadata": {},
   "outputs": [
    {
     "data": {
      "text/plain": [
       "\n",
       "Call:\n",
       "lm(formula = data1$Usage.bâtiments.activite.residentiels.tertiaires ~ \n",
       "    data1$Transports)\n",
       "\n",
       "Residuals:\n",
       "    Min      1Q  Median      3Q     Max \n",
       "-16.197  -5.950   1.575   6.022  15.895 \n",
       "\n",
       "Coefficients:\n",
       "                 Estimate Std. Error t value Pr(>|t|)    \n",
       "(Intercept)        5.1522    19.2231   0.268     0.79    \n",
       "data1$Transports   0.6337     0.1393   4.550 2.72e-05 ***\n",
       "---\n",
       "Signif. codes:  0 '***' 0.001 '**' 0.01 '*' 0.05 '.' 0.1 ' ' 1\n",
       "\n",
       "Residual standard error: 7.748 on 59 degrees of freedom\n",
       "Multiple R-squared:  0.2598,\tAdjusted R-squared:  0.2472 \n",
       "F-statistic: 20.71 on 1 and 59 DF,  p-value: 2.724e-05\n"
      ]
     },
     "metadata": {},
     "output_type": "display_data"
    }
   ],
   "source": [
    "regression1 = lm(data1$Usage.bâtiments.activite.residentiels.tertiaires~data1$Transports)\n",
    "summary(regression1)"
   ]
  },
  {
   "cell_type": "raw",
   "id": "98d69ce9",
   "metadata": {},
   "source": [
    "La regression linéaire entre les deux variables montre que le modèle prédit n'est pas bon car R-squared:  0.2472 < 1. Donc on ne \n",
    "peut prédire les données de l'un par rapport à l'autre"
   ]
  },
  {
   "cell_type": "code",
   "execution_count": 40,
   "id": "033a8aec",
   "metadata": {},
   "outputs": [
    {
     "data": {
      "text/plain": [
       "\n",
       "\tPearson's product-moment correlation\n",
       "\n",
       "data:  data1$Transports and data1$Industrie.de.energie\n",
       "t = 2.1178, df = 59, p-value = 0.03842\n",
       "alternative hypothesis: true correlation is not equal to 0\n",
       "95 percent confidence interval:\n",
       " 0.01497662 0.48514371\n",
       "sample estimates:\n",
       "      cor \n",
       "0.2657949 \n"
      ]
     },
     "metadata": {},
     "output_type": "display_data"
    }
   ],
   "source": [
    "# test de corrélation entre l'industrie entre l'industrie du transport et l'énergie\n",
    "cor.test(data1$Transports,data1$Industrie.de.energie)"
   ]
  },
  {
   "cell_type": "markdown",
   "id": "99a3e874",
   "metadata": {},
   "source": [
    "p-value = 0.03842 < 0.05, donc il y'a une faible corrélation entre les deux variables"
   ]
  },
  {
   "cell_type": "raw",
   "id": "b148deb5",
   "metadata": {},
   "source": [
    "Regression linéaire entre l'industrie du transport et de l'enrgie"
   ]
  },
  {
   "cell_type": "code",
   "execution_count": 41,
   "id": "ac184332",
   "metadata": {},
   "outputs": [
    {
     "data": {
      "image/png": "[encoded data removed]",
      "text/plain": [
       "plot without title"
      ]
     },
     "metadata": {},
     "output_type": "display_data"
    }
   ],
   "source": [
    "ggplot(data1)+aes(x=Transports, y=Industrie.de.energie)+geom_point()+\n",
    " geom_smooth( formula = y~x ,method=\"lm\")"
   ]
  },
  {
   "cell_type": "raw",
   "id": "4f815da8",
   "metadata": {},
   "source": [
    "Figure5"
   ]
  },
  {
   "cell_type": "code",
   "execution_count": 42,
   "id": "5fe997ee",
   "metadata": {},
   "outputs": [
    {
     "data": {
      "text/plain": [
       "\n",
       "Call:\n",
       "lm(formula = data1$Transports ~ data1$Industrie.de.energie)\n",
       "\n",
       "Residuals:\n",
       "    Min      1Q  Median      3Q     Max \n",
       "-19.993  -2.299   1.151   4.047   8.973 \n",
       "\n",
       "Coefficients:\n",
       "                            Estimate Std. Error t value Pr(>|t|)    \n",
       "(Intercept)                127.22182    5.09786  24.956   <2e-16 ***\n",
       "data1$Industrie.de.energie   0.16675    0.07874   2.118   0.0384 *  \n",
       "---\n",
       "Signif. codes:  0 '***' 0.001 '**' 0.01 '*' 0.05 '.' 0.1 ' ' 1\n",
       "\n",
       "Residual standard error: 6.983 on 59 degrees of freedom\n",
       "Multiple R-squared:  0.07065,\tAdjusted R-squared:  0.0549 \n",
       "F-statistic: 4.485 on 1 and 59 DF,  p-value: 0.03842\n"
      ]
     },
     "metadata": {},
     "output_type": "display_data"
    }
   ],
   "source": [
    "regression2 = lm(data1$Transports~data1$Industrie.de.energie)\n",
    "summary(regression2)"
   ]
  },
  {
   "cell_type": "raw",
   "id": "17f02d4a",
   "metadata": {},
   "source": [
    "La regression linéaire entre les deux variables montre que le modèle prédit n'est pas bon car R-squared:  0.0549 < 1. Donc on ne \n",
    "peut prédire les données de l'un par rapport à l'autre"
   ]
  },
  {
   "cell_type": "code",
   "execution_count": 43,
   "id": "b0bd046c",
   "metadata": {},
   "outputs": [
    {
     "data": {
      "text/plain": [
       "\n",
       "\tPearson's product-moment correlation\n",
       "\n",
       "data:  data1$Usage.bâtiments.activite.residentiels.tertiaires and data1$Industrie.de.energie\n",
       "t = 11.982, df = 59, p-value < 2.2e-16\n",
       "alternative hypothesis: true correlation is not equal to 0\n",
       "95 percent confidence interval:\n",
       " 0.7487857 0.9023814\n",
       "sample estimates:\n",
       "      cor \n",
       "0.8418646 \n"
      ]
     },
     "metadata": {},
     "output_type": "display_data"
    }
   ],
   "source": [
    "# test de corrélation entre l'industrie de l'énergie et le bâtiment\n",
    "cor.test(data1$Usage.bâtiments.activite.residentiels.tertiaires,data1$Industrie.de.energie)"
   ]
  },
  {
   "cell_type": "raw",
   "id": "c83f868e",
   "metadata": {},
   "source": [
    "p-value < 2.2e-16, forte corrélation entre les deux variables"
   ]
  },
  {
   "cell_type": "raw",
   "id": "78941d48",
   "metadata": {},
   "source": [
    "Regression linéaire entre les données de l'industrie du bâtiment et l'énergie"
   ]
  },
  {
   "cell_type": "code",
   "execution_count": 44,
   "id": "ff3a07db",
   "metadata": {},
   "outputs": [
    {
     "data": {
      "image/png": "[encoded data removed]",
      "text/plain": [
       "plot without title"
      ]
     },
     "metadata": {},
     "output_type": "display_data"
    }
   ],
   "source": [
    "ggplot(data1)+aes(x=Usage.bâtiments.activite.residentiels.tertiaires, y=Industrie.de.energie)+geom_point()+\n",
    " geom_smooth( formula = y~x ,method=\"lm\")"
   ]
  },
  {
   "cell_type": "raw",
   "id": "5bc6edde",
   "metadata": {},
   "source": [
    "Figure6"
   ]
  },
  {
   "cell_type": "code",
   "execution_count": 45,
   "id": "4ed0b783",
   "metadata": {},
   "outputs": [
    {
     "data": {
      "text/plain": [
       "\n",
       "Call:\n",
       "lm(formula = data1$Usage.bâtiments.activite.residentiels.tertiaires ~ \n",
       "    data1$Industrie.de.energie)\n",
       "\n",
       "Residuals:\n",
       "     Min       1Q   Median       3Q      Max \n",
       "-10.2874  -3.1509  -0.4977   3.9934   9.4582 \n",
       "\n",
       "Coefficients:\n",
       "                           Estimate Std. Error t value Pr(>|t|)    \n",
       "(Intercept)                 50.6504     3.5483   14.28   <2e-16 ***\n",
       "data1$Industrie.de.energie   0.6566     0.0548   11.98   <2e-16 ***\n",
       "---\n",
       "Signif. codes:  0 '***' 0.001 '**' 0.01 '*' 0.05 '.' 0.1 ' ' 1\n",
       "\n",
       "Residual standard error: 4.86 on 59 degrees of freedom\n",
       "Multiple R-squared:  0.7087,\tAdjusted R-squared:  0.7038 \n",
       "F-statistic: 143.6 on 1 and 59 DF,  p-value: < 2.2e-16\n"
      ]
     },
     "metadata": {},
     "output_type": "display_data"
    }
   ],
   "source": [
    "regression3 = lm(data1$Usage.bâtiments.activite.residentiels.tertiaires~data1$Industrie.de.energie)\n",
    "summary(regression3)"
   ]
  },
  {
   "cell_type": "raw",
   "id": "bc3b9016",
   "metadata": {},
   "source": [
    "La regression linéaire entre les deux variables montre que le modèle prédit est acceptable car R-squared:  0.7038 < 1. \n",
    "Donc on  peut prédire les données de l'un par rapport à l'autre"
   ]
  },
  {
   "cell_type": "markdown",
   "id": "291fa841",
   "metadata": {},
   "source": [
    "#### Prédiction de l'émission total des gaz à effet de serre hors UTCATF"
   ]
  },
  {
   "cell_type": "raw",
   "id": "94a35c7b",
   "metadata": {},
   "source": [
    "Série Temporelle sur l'émission total des gaz à effet de serre hors UTCATF"
   ]
  },
  {
   "cell_type": "code",
   "execution_count": 46,
   "id": "ee914fa5",
   "metadata": {},
   "outputs": [
    {
     "name": "stdout",
     "output_type": "stream",
     "text": [
      "'data.frame':\t60 obs. of  2 variables:\n",
      " $ Annee                     : Date, format: \"1990-05-20\" \"1991-05-20\" ...\n",
      " $ Total.national.hors.UTCATF: num  544 570 559 539 531 ...\n"
     ]
    }
   ],
   "source": [
    "str(data1.3)"
   ]
  },
  {
   "cell_type": "code",
   "execution_count": 8,
   "id": "95c9662c",
   "metadata": {},
   "outputs": [],
   "source": [
    "#MtCO2e_st  = ts(data1.3$Total.national.hors.UTCATF, start = c(1990,05,17),frequency = 1)\n",
    "MtCO2e_st  = ts(data1.3$Total.national.hors.UTCATF, start = c(1990,05,17), end = c(2019,05,17),frequency = 1)\n",
    "#print(MtCO2e_st)"
   ]
  },
  {
   "cell_type": "code",
   "execution_count": 48,
   "id": "41c95581",
   "metadata": {},
   "outputs": [
    {
     "name": "stdout",
     "output_type": "stream",
     "text": [
      "Time Series:\n",
      "Start = 1994 \n",
      "End = 2023 \n",
      "Frequency = 1 \n",
      " [1] 544.0456 570.0693 559.4422 538.5719 530.7515 536.5583 554.8634 547.5775\n",
      " [9] 560.9235 554.6414 548.4401 553.5496 547.2839 551.5388 550.4363 551.2348\n",
      "[17] 540.7587 530.8858 523.7099 501.6457 508.1790 483.4148 484.8006 485.7802\n",
      "[25] 454.6228 457.6506 460.0247 463.4541 444.5899 435.9986\n"
     ]
    }
   ],
   "source": [
    "print(MtCO2e_st)"
   ]
  },
  {
   "cell_type": "code",
   "execution_count": 49,
   "id": "20c7c27f",
   "metadata": {},
   "outputs": [
    {
     "data": {
      "text/html": [
       "TRUE"
      ],
      "text/latex": [
       "TRUE"
      ],
      "text/markdown": [
       "TRUE"
      ],
      "text/plain": [
       "[1] TRUE"
      ]
     },
     "metadata": {},
     "output_type": "display_data"
    }
   ],
   "source": [
    "#pour vérifier que le dataframe est une série temporelle\n",
    "is.ts(MtCO2e_st)"
   ]
  },
  {
   "cell_type": "code",
   "execution_count": 9,
   "id": "cf825ee5",
   "metadata": {},
   "outputs": [
    {
     "data": {
      "image/png": "[encoded data removed]",
      "text/plain": [
       "plot without title"
      ]
     },
     "metadata": {},
     "output_type": "display_data"
    }
   ],
   "source": [
    "plot.ts(MtCO2e_st)"
   ]
  },
  {
   "cell_type": "raw",
   "id": "bd9d6d61",
   "metadata": {},
   "source": [
    "Figure7"
   ]
  },
  {
   "cell_type": "code",
   "execution_count": 51,
   "id": "25d0981e",
   "metadata": {},
   "outputs": [
    {
     "data": {
      "text/plain": [
       "\n",
       "\tAugmented Dickey-Fuller Test\n",
       "\n",
       "data:  MtCO2e_st\n",
       "Dickey-Fuller = -1.3617, Lag order = 3, p-value = 0.8179\n",
       "alternative hypothesis: stationary\n"
      ]
     },
     "metadata": {},
     "output_type": "display_data"
    }
   ],
   "source": [
    "# test de stationnarité\n",
    "adf.test(MtCO2e_st)"
   ]
  },
  {
   "cell_type": "raw",
   "id": "00ccebd3",
   "metadata": {},
   "source": [
    "Maintenant,  la valeur de p de ce test est supérieur à un niveau particulier (par exemple α = 0,05), alors dans ce cas,\n",
    "nous ne pouvons pas rejeter l’hypothèse nulle et arriver à la conclusion que la série chronologique n' est pas stationnaire.\n",
    "En termes simples, nous pouvons dire qu’il possède une certaine structure dépendante du temps et ne possède pas de variance \n",
    "constante dans le temps."
   ]
  },
  {
   "cell_type": "markdown",
   "id": "8c6cba19",
   "metadata": {},
   "source": [
    "#### Prédiction de l'émission des GES hors UCTAF"
   ]
  },
  {
   "cell_type": "code",
   "execution_count": 10,
   "id": "6edfe135",
   "metadata": {},
   "outputs": [
    {
     "data": {
      "text/plain": [
       "Holt-Winters exponential smoothing without trend and without seasonal component.\n",
       "\n",
       "Call:\n",
       "HoltWinters(x = MtCO2e_st, beta = FALSE, gamma = FALSE)\n",
       "\n",
       "Smoothing parameters:\n",
       " alpha: 0.9541179\n",
       " beta : FALSE\n",
       " gamma: FALSE\n",
       "\n",
       "Coefficients:\n",
       "      [,1]\n",
       "a 436.4322"
      ]
     },
     "metadata": {},
     "output_type": "display_data"
    }
   ],
   "source": [
    "MtCO2e.hw = HoltWinters(MtCO2e_st,beta = FALSE, gamma = FALSE)# pour le lissage\n",
    "MtCO2e.hw"
   ]
  },
  {
   "cell_type": "code",
   "execution_count": 11,
   "id": "3d043ffa",
   "metadata": {},
   "outputs": [
    {
     "data": {
      "image/png": "[encoded data removed]",
      "text/plain": [
       "Plot with title \"Holt-Winters filtering\""
      ]
     },
     "metadata": {},
     "output_type": "display_data"
    }
   ],
   "source": [
    "plot(MtCO2e.hw)"
   ]
  },
  {
   "cell_type": "raw",
   "id": "daa0234e",
   "metadata": {},
   "source": [
    "Figure8"
   ]
  },
  {
   "cell_type": "code",
   "execution_count": 16,
   "id": "23b91977",
   "metadata": {},
   "outputs": [
    {
     "name": "stdout",
     "output_type": "stream",
     "text": [
      "Time Series:\n",
      "Start = 2024 \n",
      "End = 2024 \n",
      "Frequency = 1 \n",
      "          fit      upr      lwr\n",
      "2024 436.4322 461.0918 411.7726\n"
     ]
    }
   ],
   "source": [
    "p=predict(MtCO2e.hw,prediction.interval=TRUE) #pour la prévision\n",
    "print(p)"
   ]
  },
  {
   "cell_type": "code",
   "execution_count": 12,
   "id": "e1bf7b9c",
   "metadata": {},
   "outputs": [],
   "source": [
    "#p=predict(MtCO2e.hw, 24, prediction.interval = TRUE, level=0.95)"
   ]
  },
  {
   "cell_type": "code",
   "execution_count": 14,
   "id": "29d7f0a0",
   "metadata": {},
   "outputs": [],
   "source": [
    "#p=predict(MtCO2e.hw,n.ahead=12)"
   ]
  },
  {
   "cell_type": "code",
   "execution_count": 17,
   "id": "1d748a13",
   "metadata": {},
   "outputs": [
    {
     "data": {
      "image/png": "[encoded data removed]",
      "text/plain": [
       "Plot with title \"Holt-Winters filtering\""
      ]
     },
     "metadata": {},
     "output_type": "display_data"
    }
   ],
   "source": [
    "plot(MtCO2e.hw,p)"
   ]
  },
  {
   "cell_type": "raw",
   "id": "fa1dc418",
   "metadata": {},
   "source": [
    "MtCO2e_for = forecast(MtCO2e_st, h=24, level=c(80,95))\n",
    "#visualize our predictions:\n",
    "plot(MtCO2e_for)\n",
    "lines(MtCO2e_for$fitted, lty=2, col=\"purple\")"
   ]
  },
  {
   "cell_type": "code",
   "execution_count": null,
   "id": "c8768d04",
   "metadata": {},
   "outputs": [],
   "source": [
    "Figure9"
   ]
  },
  {
   "cell_type": "raw",
   "id": "9428716c",
   "metadata": {},
   "source": [
    "https://eric.univ-lyon2.fr/~jjacques/Download/Cours/ST-Slides.pdf"
   ]
  },
  {
   "cell_type": "code",
   "execution_count": 58,
   "id": "12cbd758",
   "metadata": {},
   "outputs": [],
   "source": [
    "#plotc(MtCO2e_st)"
   ]
  },
  {
   "cell_type": "code",
   "execution_count": 59,
   "id": "6fd23449",
   "metadata": {},
   "outputs": [],
   "source": [
    "out<-arima(MtCO2e_st,order=c(0,1,1),seasonal=list(order=c(0,1,1),period=12))"
   ]
  },
  {
   "cell_type": "code",
   "execution_count": 60,
   "id": "8545a640",
   "metadata": {},
   "outputs": [
    {
     "data": {
      "text/plain": [
       "          Length Class  Mode     \n",
       "coef       2     -none- numeric  \n",
       "sigma2     1     -none- numeric  \n",
       "var.coef   4     -none- numeric  \n",
       "mask       2     -none- logical  \n",
       "loglik     1     -none- numeric  \n",
       "aic        1     -none- numeric  \n",
       "arma       7     -none- numeric  \n",
       "residuals 30     ts     numeric  \n",
       "call       4     -none- call     \n",
       "series     1     -none- character\n",
       "code       1     -none- numeric  \n",
       "n.cond     1     -none- numeric  \n",
       "nobs       1     -none- numeric  \n",
       "model     10     -none- list     "
      ]
     },
     "metadata": {},
     "output_type": "display_data"
    }
   ],
   "source": [
    "summary(out)"
   ]
  },
  {
   "cell_type": "markdown",
   "id": "618fbc8e",
   "metadata": {},
   "source": [
    "### Emissions des gaz à effet de serre dans le secteur de l'industrie de l'énergie"
   ]
  },
  {
   "cell_type": "markdown",
   "id": "230c6d8b",
   "metadata": {},
   "source": [
    "#### Importation de la base de données"
   ]
  },
  {
   "cell_type": "code",
   "execution_count": 61,
   "id": "c57066c4",
   "metadata": {
    "vscode": {
     "languageId": "r"
    }
   },
   "outputs": [],
   "source": [
    "data2=read.xlsx(\"C:/Users/MarieRogerNoahNoah/Documents/Projet IA/Emissions de gaz à effet de serre/secteur_de_energie.xlsx\", sheetIndex = 1, header=TRUE)"
   ]
  },
  {
   "cell_type": "code",
   "execution_count": 62,
   "id": "5b13b4cc",
   "metadata": {
    "vscode": {
     "languageId": "r"
    }
   },
   "outputs": [
    {
     "data": {
      "text/html": [
       "<table>\n",
       "<thead><tr><th scope=col>Annee</th><th scope=col>Production.d.Ã.lectricitÃ.</th><th scope=col>Chauffage.urbain</th><th scope=col>Raffinage.du.pÃ.trole</th><th scope=col>Transformation.des.combustibles.minÃ.raux.solides</th><th scope=col>Extraction.et.distribution.de.combustibles.solides</th><th scope=col>Extraction.et.distribution.de.combustibles.liquides</th><th scope=col>Extraction.et.distribution.de.combustibles.gazeux</th><th scope=col>Extraction.et.distribution.de.combustibles...autres</th><th scope=col>Autres.secteurs.de.l.industrie.de.l.Ã.nergie</th><th scope=col>dont.incinÃ.ration.des.dÃ.chets.avec.rÃ.cupÃ.ration.d.Ã.nergie</th><th scope=col>Total.Industrie.de.l.Ã.nergie</th></tr></thead>\n",
       "<tbody>\n",
       "\t<tr><td>1990     </td><td>41.36146 </td><td>6.021286 </td><td>15.25142 </td><td>4.176454 </td><td>4.780450 </td><td>0.4436044</td><td>3.283028 </td><td>0        </td><td>2.783563 </td><td>0.1915884</td><td>78.10127 </td></tr>\n",
       "\t<tr><td>1991     </td><td>41.48946 </td><td>6.744192 </td><td>15.52963 </td><td>4.190813 </td><td>4.436193 </td><td>0.4337511</td><td>3.524995 </td><td>0        </td><td>3.036270 </td><td>0.2094416</td><td>79.38530 </td></tr>\n",
       "\t<tr><td>1992     </td><td>42.42318 </td><td>6.607926 </td><td>15.69741 </td><td>4.211276 </td><td>4.632816 </td><td>0.4217121</td><td>3.356417 </td><td>0        </td><td>3.288977 </td><td>0.2272948</td><td>80.63972 </td></tr>\n",
       "\t<tr><td>1993     </td><td>30.15192 </td><td>6.581251 </td><td>15.68948 </td><td>3.823803 </td><td>4.839788 </td><td>0.4059632</td><td>3.293240 </td><td>0        </td><td>3.543482 </td><td>0.2452734</td><td>68.32893 </td></tr>\n",
       "\t<tr><td>1994     </td><td>26.63518 </td><td>6.183419 </td><td>16.39439 </td><td>3.729060 </td><td>4.948045 </td><td>0.4089182</td><td>3.359791 </td><td>0        </td><td>3.565205 </td><td>0.2470235</td><td>65.22400 </td></tr>\n",
       "\t<tr><td>1995     </td><td>29.24226 </td><td>6.162415 </td><td>16.54443 </td><td>3.755786 </td><td>4.903101 </td><td>0.3676888</td><td>3.202735 </td><td>0        </td><td>3.586928 </td><td>0.2487735</td><td>67.76534 </td></tr>\n",
       "</tbody>\n",
       "</table>\n"
      ],
      "text/latex": [
       "\\begin{tabular}{r|llllllllllll}\n",
       " Annee & Production.d.Ã.lectricitÃ. & Chauffage.urbain & Raffinage.du.pÃ.trole & Transformation.des.combustibles.minÃ.raux.solides & Extraction.et.distribution.de.combustibles.solides & Extraction.et.distribution.de.combustibles.liquides & Extraction.et.distribution.de.combustibles.gazeux & Extraction.et.distribution.de.combustibles...autres & Autres.secteurs.de.l.industrie.de.l.Ã.nergie & dont.incinÃ.ration.des.dÃ.chets.avec.rÃ.cupÃ.ration.d.Ã.nergie & Total.Industrie.de.l.Ã.nergie\\\\\n",
       "\\hline\n",
       "\t 1990      & 41.36146  & 6.021286  & 15.25142  & 4.176454  & 4.780450  & 0.4436044 & 3.283028  & 0         & 2.783563  & 0.1915884 & 78.10127 \\\\\n",
       "\t 1991      & 41.48946  & 6.744192  & 15.52963  & 4.190813  & 4.436193  & 0.4337511 & 3.524995  & 0         & 3.036270  & 0.2094416 & 79.38530 \\\\\n",
       "\t 1992      & 42.42318  & 6.607926  & 15.69741  & 4.211276  & 4.632816  & 0.4217121 & 3.356417  & 0         & 3.288977  & 0.2272948 & 80.63972 \\\\\n",
       "\t 1993      & 30.15192  & 6.581251  & 15.68948  & 3.823803  & 4.839788  & 0.4059632 & 3.293240  & 0         & 3.543482  & 0.2452734 & 68.32893 \\\\\n",
       "\t 1994      & 26.63518  & 6.183419  & 16.39439  & 3.729060  & 4.948045  & 0.4089182 & 3.359791  & 0         & 3.565205  & 0.2470235 & 65.22400 \\\\\n",
       "\t 1995      & 29.24226  & 6.162415  & 16.54443  & 3.755786  & 4.903101  & 0.3676888 & 3.202735  & 0         & 3.586928  & 0.2487735 & 67.76534 \\\\\n",
       "\\end{tabular}\n"
      ],
      "text/markdown": [
       "\n",
       "| Annee | Production.d.Ã.lectricitÃ. | Chauffage.urbain | Raffinage.du.pÃ.trole | Transformation.des.combustibles.minÃ.raux.solides | Extraction.et.distribution.de.combustibles.solides | Extraction.et.distribution.de.combustibles.liquides | Extraction.et.distribution.de.combustibles.gazeux | Extraction.et.distribution.de.combustibles...autres | Autres.secteurs.de.l.industrie.de.l.Ã.nergie | dont.incinÃ.ration.des.dÃ.chets.avec.rÃ.cupÃ.ration.d.Ã.nergie | Total.Industrie.de.l.Ã.nergie |\n",
       "|---|---|---|---|---|---|---|---|---|---|---|---|\n",
       "| 1990      | 41.36146  | 6.021286  | 15.25142  | 4.176454  | 4.780450  | 0.4436044 | 3.283028  | 0         | 2.783563  | 0.1915884 | 78.10127  |\n",
       "| 1991      | 41.48946  | 6.744192  | 15.52963  | 4.190813  | 4.436193  | 0.4337511 | 3.524995  | 0         | 3.036270  | 0.2094416 | 79.38530  |\n",
       "| 1992      | 42.42318  | 6.607926  | 15.69741  | 4.211276  | 4.632816  | 0.4217121 | 3.356417  | 0         | 3.288977  | 0.2272948 | 80.63972  |\n",
       "| 1993      | 30.15192  | 6.581251  | 15.68948  | 3.823803  | 4.839788  | 0.4059632 | 3.293240  | 0         | 3.543482  | 0.2452734 | 68.32893  |\n",
       "| 1994      | 26.63518  | 6.183419  | 16.39439  | 3.729060  | 4.948045  | 0.4089182 | 3.359791  | 0         | 3.565205  | 0.2470235 | 65.22400  |\n",
       "| 1995      | 29.24226  | 6.162415  | 16.54443  | 3.755786  | 4.903101  | 0.3676888 | 3.202735  | 0         | 3.586928  | 0.2487735 | 67.76534  |\n",
       "\n"
      ],
      "text/plain": [
       "  Annee Production.d.Ã.lectricitÃ. Chauffage.urbain Raffinage.du.pÃ.trole\n",
       "1 1990  41.36146                   6.021286         15.25142             \n",
       "2 1991  41.48946                   6.744192         15.52963             \n",
       "3 1992  42.42318                   6.607926         15.69741             \n",
       "4 1993  30.15192                   6.581251         15.68948             \n",
       "5 1994  26.63518                   6.183419         16.39439             \n",
       "6 1995  29.24226                   6.162415         16.54443             \n",
       "  Transformation.des.combustibles.minÃ.raux.solides\n",
       "1 4.176454                                         \n",
       "2 4.190813                                         \n",
       "3 4.211276                                         \n",
       "4 3.823803                                         \n",
       "5 3.729060                                         \n",
       "6 3.755786                                         \n",
       "  Extraction.et.distribution.de.combustibles.solides\n",
       "1 4.780450                                          \n",
       "2 4.436193                                          \n",
       "3 4.632816                                          \n",
       "4 4.839788                                          \n",
       "5 4.948045                                          \n",
       "6 4.903101                                          \n",
       "  Extraction.et.distribution.de.combustibles.liquides\n",
       "1 0.4436044                                          \n",
       "2 0.4337511                                          \n",
       "3 0.4217121                                          \n",
       "4 0.4059632                                          \n",
       "5 0.4089182                                          \n",
       "6 0.3676888                                          \n",
       "  Extraction.et.distribution.de.combustibles.gazeux\n",
       "1 3.283028                                         \n",
       "2 3.524995                                         \n",
       "3 3.356417                                         \n",
       "4 3.293240                                         \n",
       "5 3.359791                                         \n",
       "6 3.202735                                         \n",
       "  Extraction.et.distribution.de.combustibles...autres\n",
       "1 0                                                  \n",
       "2 0                                                  \n",
       "3 0                                                  \n",
       "4 0                                                  \n",
       "5 0                                                  \n",
       "6 0                                                  \n",
       "  Autres.secteurs.de.l.industrie.de.l.Ã.nergie\n",
       "1 2.783563                                    \n",
       "2 3.036270                                    \n",
       "3 3.288977                                    \n",
       "4 3.543482                                    \n",
       "5 3.565205                                    \n",
       "6 3.586928                                    \n",
       "  dont.incinÃ.ration.des.dÃ.chets.avec.rÃ.cupÃ.ration.d.Ã.nergie\n",
       "1 0.1915884                                                     \n",
       "2 0.2094416                                                     \n",
       "3 0.2272948                                                     \n",
       "4 0.2452734                                                     \n",
       "5 0.2470235                                                     \n",
       "6 0.2487735                                                     \n",
       "  Total.Industrie.de.l.Ã.nergie\n",
       "1 78.10127                     \n",
       "2 79.38530                     \n",
       "3 80.63972                     \n",
       "4 68.32893                     \n",
       "5 65.22400                     \n",
       "6 67.76534                     "
      ]
     },
     "metadata": {},
     "output_type": "display_data"
    }
   ],
   "source": [
    "head(data2)"
   ]
  },
  {
   "cell_type": "code",
   "execution_count": 63,
   "id": "b3e9d74f",
   "metadata": {
    "vscode": {
     "languageId": "r"
    }
   },
   "outputs": [],
   "source": [
    "colnames(data2) <- c(\"Annee\",\"Production.electricite\",\"chauffage.urbain\",\"raffinage.petrole\",\"Transformations.combustibles.mineraux\",\"Extra.Dist.combus.sol\",\"Extra.Dist.combus.liq\",\"Extra.Dist.combus.gaz\",\"Extra.Dist.combus.autre\",\"autre.sect.energie\",\"recup.energie\",\"Total.secteur\")"
   ]
  },
  {
   "cell_type": "code",
   "execution_count": 64,
   "id": "ab223286",
   "metadata": {
    "vscode": {
     "languageId": "r"
    }
   },
   "outputs": [
    {
     "data": {
      "text/html": [
       "<table>\n",
       "<thead><tr><th scope=col>Annee</th><th scope=col>Production.electricite</th><th scope=col>chauffage.urbain</th><th scope=col>raffinage.petrole</th><th scope=col>Transformations.combustibles.mineraux</th><th scope=col>Extra.Dist.combus.sol</th><th scope=col>Extra.Dist.combus.liq</th><th scope=col>Extra.Dist.combus.gaz</th><th scope=col>Extra.Dist.combus.autre</th><th scope=col>autre.sect.energie</th><th scope=col>recup.energie</th><th scope=col>Total.secteur</th></tr></thead>\n",
       "<tbody>\n",
       "\t<tr><td>1990     </td><td>41.36146 </td><td>6.021286 </td><td>15.25142 </td><td>4.176454 </td><td>4.780450 </td><td>0.4436044</td><td>3.283028 </td><td>0        </td><td>2.783563 </td><td>0.1915884</td><td>78.10127 </td></tr>\n",
       "\t<tr><td>1991     </td><td>41.48946 </td><td>6.744192 </td><td>15.52963 </td><td>4.190813 </td><td>4.436193 </td><td>0.4337511</td><td>3.524995 </td><td>0        </td><td>3.036270 </td><td>0.2094416</td><td>79.38530 </td></tr>\n",
       "\t<tr><td>1992     </td><td>42.42318 </td><td>6.607926 </td><td>15.69741 </td><td>4.211276 </td><td>4.632816 </td><td>0.4217121</td><td>3.356417 </td><td>0        </td><td>3.288977 </td><td>0.2272948</td><td>80.63972 </td></tr>\n",
       "\t<tr><td>1993     </td><td>30.15192 </td><td>6.581251 </td><td>15.68948 </td><td>3.823803 </td><td>4.839788 </td><td>0.4059632</td><td>3.293240 </td><td>0        </td><td>3.543482 </td><td>0.2452734</td><td>68.32893 </td></tr>\n",
       "\t<tr><td>1994     </td><td>26.63518 </td><td>6.183419 </td><td>16.39439 </td><td>3.729060 </td><td>4.948045 </td><td>0.4089182</td><td>3.359791 </td><td>0        </td><td>3.565205 </td><td>0.2470235</td><td>65.22400 </td></tr>\n",
       "\t<tr><td>1995     </td><td>29.24226 </td><td>6.162415 </td><td>16.54443 </td><td>3.755786 </td><td>4.903101 </td><td>0.3676888</td><td>3.202735 </td><td>0        </td><td>3.586928 </td><td>0.2487735</td><td>67.76534 </td></tr>\n",
       "</tbody>\n",
       "</table>\n"
      ],
      "text/latex": [
       "\\begin{tabular}{r|llllllllllll}\n",
       " Annee & Production.electricite & chauffage.urbain & raffinage.petrole & Transformations.combustibles.mineraux & Extra.Dist.combus.sol & Extra.Dist.combus.liq & Extra.Dist.combus.gaz & Extra.Dist.combus.autre & autre.sect.energie & recup.energie & Total.secteur\\\\\n",
       "\\hline\n",
       "\t 1990      & 41.36146  & 6.021286  & 15.25142  & 4.176454  & 4.780450  & 0.4436044 & 3.283028  & 0         & 2.783563  & 0.1915884 & 78.10127 \\\\\n",
       "\t 1991      & 41.48946  & 6.744192  & 15.52963  & 4.190813  & 4.436193  & 0.4337511 & 3.524995  & 0         & 3.036270  & 0.2094416 & 79.38530 \\\\\n",
       "\t 1992      & 42.42318  & 6.607926  & 15.69741  & 4.211276  & 4.632816  & 0.4217121 & 3.356417  & 0         & 3.288977  & 0.2272948 & 80.63972 \\\\\n",
       "\t 1993      & 30.15192  & 6.581251  & 15.68948  & 3.823803  & 4.839788  & 0.4059632 & 3.293240  & 0         & 3.543482  & 0.2452734 & 68.32893 \\\\\n",
       "\t 1994      & 26.63518  & 6.183419  & 16.39439  & 3.729060  & 4.948045  & 0.4089182 & 3.359791  & 0         & 3.565205  & 0.2470235 & 65.22400 \\\\\n",
       "\t 1995      & 29.24226  & 6.162415  & 16.54443  & 3.755786  & 4.903101  & 0.3676888 & 3.202735  & 0         & 3.586928  & 0.2487735 & 67.76534 \\\\\n",
       "\\end{tabular}\n"
      ],
      "text/markdown": [
       "\n",
       "| Annee | Production.electricite | chauffage.urbain | raffinage.petrole | Transformations.combustibles.mineraux | Extra.Dist.combus.sol | Extra.Dist.combus.liq | Extra.Dist.combus.gaz | Extra.Dist.combus.autre | autre.sect.energie | recup.energie | Total.secteur |\n",
       "|---|---|---|---|---|---|---|---|---|---|---|---|\n",
       "| 1990      | 41.36146  | 6.021286  | 15.25142  | 4.176454  | 4.780450  | 0.4436044 | 3.283028  | 0         | 2.783563  | 0.1915884 | 78.10127  |\n",
       "| 1991      | 41.48946  | 6.744192  | 15.52963  | 4.190813  | 4.436193  | 0.4337511 | 3.524995  | 0         | 3.036270  | 0.2094416 | 79.38530  |\n",
       "| 1992      | 42.42318  | 6.607926  | 15.69741  | 4.211276  | 4.632816  | 0.4217121 | 3.356417  | 0         | 3.288977  | 0.2272948 | 80.63972  |\n",
       "| 1993      | 30.15192  | 6.581251  | 15.68948  | 3.823803  | 4.839788  | 0.4059632 | 3.293240  | 0         | 3.543482  | 0.2452734 | 68.32893  |\n",
       "| 1994      | 26.63518  | 6.183419  | 16.39439  | 3.729060  | 4.948045  | 0.4089182 | 3.359791  | 0         | 3.565205  | 0.2470235 | 65.22400  |\n",
       "| 1995      | 29.24226  | 6.162415  | 16.54443  | 3.755786  | 4.903101  | 0.3676888 | 3.202735  | 0         | 3.586928  | 0.2487735 | 67.76534  |\n",
       "\n"
      ],
      "text/plain": [
       "  Annee Production.electricite chauffage.urbain raffinage.petrole\n",
       "1 1990  41.36146               6.021286         15.25142         \n",
       "2 1991  41.48946               6.744192         15.52963         \n",
       "3 1992  42.42318               6.607926         15.69741         \n",
       "4 1993  30.15192               6.581251         15.68948         \n",
       "5 1994  26.63518               6.183419         16.39439         \n",
       "6 1995  29.24226               6.162415         16.54443         \n",
       "  Transformations.combustibles.mineraux Extra.Dist.combus.sol\n",
       "1 4.176454                              4.780450             \n",
       "2 4.190813                              4.436193             \n",
       "3 4.211276                              4.632816             \n",
       "4 3.823803                              4.839788             \n",
       "5 3.729060                              4.948045             \n",
       "6 3.755786                              4.903101             \n",
       "  Extra.Dist.combus.liq Extra.Dist.combus.gaz Extra.Dist.combus.autre\n",
       "1 0.4436044             3.283028              0                      \n",
       "2 0.4337511             3.524995              0                      \n",
       "3 0.4217121             3.356417              0                      \n",
       "4 0.4059632             3.293240              0                      \n",
       "5 0.4089182             3.359791              0                      \n",
       "6 0.3676888             3.202735              0                      \n",
       "  autre.sect.energie recup.energie Total.secteur\n",
       "1 2.783563           0.1915884     78.10127     \n",
       "2 3.036270           0.2094416     79.38530     \n",
       "3 3.288977           0.2272948     80.63972     \n",
       "4 3.543482           0.2452734     68.32893     \n",
       "5 3.565205           0.2470235     65.22400     \n",
       "6 3.586928           0.2487735     67.76534     "
      ]
     },
     "metadata": {},
     "output_type": "display_data"
    }
   ],
   "source": [
    "head(data2)"
   ]
  },
  {
   "cell_type": "code",
   "execution_count": 65,
   "id": "10f586be",
   "metadata": {},
   "outputs": [],
   "source": [
    "data2$Annee = as.Date(data2$Annee, format =\"%Y\")"
   ]
  },
  {
   "cell_type": "code",
   "execution_count": 66,
   "id": "0d92c1d4",
   "metadata": {},
   "outputs": [
    {
     "name": "stdout",
     "output_type": "stream",
     "text": [
      "'data.frame':\t61 obs. of  12 variables:\n",
      " $ Annee                                : Date, format: \"1990-05-20\" \"1991-05-20\" ...\n",
      " $ Production.electricite               : num  41.4 41.5 42.4 30.2 26.6 ...\n",
      " $ chauffage.urbain                     : num  6.02 6.74 6.61 6.58 6.18 ...\n",
      " $ raffinage.petrole                    : num  15.3 15.5 15.7 15.7 16.4 ...\n",
      " $ Transformations.combustibles.mineraux: num  4.18 4.19 4.21 3.82 3.73 ...\n",
      " $ Extra.Dist.combus.sol                : num  4.78 4.44 4.63 4.84 4.95 ...\n",
      " $ Extra.Dist.combus.liq                : num  0.444 0.434 0.422 0.406 0.409 ...\n",
      " $ Extra.Dist.combus.gaz                : num  3.28 3.52 3.36 3.29 3.36 ...\n",
      " $ Extra.Dist.combus.autre              : num  0 0 0 0 0 0 0 0 0 0 ...\n",
      " $ autre.sect.energie                   : num  2.78 3.04 3.29 3.54 3.57 ...\n",
      " $ recup.energie                        : num  0.192 0.209 0.227 0.245 0.247 ...\n",
      " $ Total.secteur                        : num  78.1 79.4 80.6 68.3 65.2 ...\n"
     ]
    }
   ],
   "source": [
    "str(data2)"
   ]
  },
  {
   "cell_type": "code",
   "execution_count": 67,
   "id": "a481751e",
   "metadata": {
    "scrolled": false
   },
   "outputs": [
    {
     "data": {
      "text/html": [
       "<table>\n",
       "<thead><tr><th scope=col>Annee</th><th scope=col>Production.electricite</th><th scope=col>chauffage.urbain</th><th scope=col>raffinage.petrole</th><th scope=col>Transformations.combustibles.mineraux</th><th scope=col>Extra.Dist.combus.sol</th><th scope=col>Extra.Dist.combus.liq</th><th scope=col>Extra.Dist.combus.gaz</th><th scope=col>autre.sect.energie</th><th scope=col>recup.energie</th><th scope=col>Total.secteur</th></tr></thead>\n",
       "<tbody>\n",
       "\t<tr><td>1990-05-20</td><td>41.36146  </td><td>6.021286  </td><td>15.25142  </td><td>4.176454  </td><td>4.780450  </td><td>0.4436044 </td><td>3.283028  </td><td>2.783563  </td><td>0.1915884 </td><td>78.10127  </td></tr>\n",
       "\t<tr><td>1991-05-20</td><td>41.48946  </td><td>6.744192  </td><td>15.52963  </td><td>4.190813  </td><td>4.436193  </td><td>0.4337511 </td><td>3.524995  </td><td>3.036270  </td><td>0.2094416 </td><td>79.38530  </td></tr>\n",
       "\t<tr><td>1992-05-20</td><td>42.42318  </td><td>6.607926  </td><td>15.69741  </td><td>4.211276  </td><td>4.632816  </td><td>0.4217121 </td><td>3.356417  </td><td>3.288977  </td><td>0.2272948 </td><td>80.63972  </td></tr>\n",
       "\t<tr><td>1993-05-20</td><td>30.15192  </td><td>6.581251  </td><td>15.68948  </td><td>3.823803  </td><td>4.839788  </td><td>0.4059632 </td><td>3.293240  </td><td>3.543482  </td><td>0.2452734 </td><td>68.32893  </td></tr>\n",
       "\t<tr><td>1994-05-20</td><td>26.63518  </td><td>6.183419  </td><td>16.39439  </td><td>3.729060  </td><td>4.948045  </td><td>0.4089182 </td><td>3.359791  </td><td>3.565205  </td><td>0.2470235 </td><td>65.22400  </td></tr>\n",
       "\t<tr><td>1995-05-20</td><td>29.24226  </td><td>6.162415  </td><td>16.54443  </td><td>3.755786  </td><td>4.903101  </td><td>0.3676888 </td><td>3.202735  </td><td>3.586928  </td><td>0.2487735 </td><td>67.76534  </td></tr>\n",
       "</tbody>\n",
       "</table>\n"
      ],
      "text/latex": [
       "\\begin{tabular}{r|lllllllllll}\n",
       " Annee & Production.electricite & chauffage.urbain & raffinage.petrole & Transformations.combustibles.mineraux & Extra.Dist.combus.sol & Extra.Dist.combus.liq & Extra.Dist.combus.gaz & autre.sect.energie & recup.energie & Total.secteur\\\\\n",
       "\\hline\n",
       "\t 1990-05-20 & 41.36146   & 6.021286   & 15.25142   & 4.176454   & 4.780450   & 0.4436044  & 3.283028   & 2.783563   & 0.1915884  & 78.10127  \\\\\n",
       "\t 1991-05-20 & 41.48946   & 6.744192   & 15.52963   & 4.190813   & 4.436193   & 0.4337511  & 3.524995   & 3.036270   & 0.2094416  & 79.38530  \\\\\n",
       "\t 1992-05-20 & 42.42318   & 6.607926   & 15.69741   & 4.211276   & 4.632816   & 0.4217121  & 3.356417   & 3.288977   & 0.2272948  & 80.63972  \\\\\n",
       "\t 1993-05-20 & 30.15192   & 6.581251   & 15.68948   & 3.823803   & 4.839788   & 0.4059632  & 3.293240   & 3.543482   & 0.2452734  & 68.32893  \\\\\n",
       "\t 1994-05-20 & 26.63518   & 6.183419   & 16.39439   & 3.729060   & 4.948045   & 0.4089182  & 3.359791   & 3.565205   & 0.2470235  & 65.22400  \\\\\n",
       "\t 1995-05-20 & 29.24226   & 6.162415   & 16.54443   & 3.755786   & 4.903101   & 0.3676888  & 3.202735   & 3.586928   & 0.2487735  & 67.76534  \\\\\n",
       "\\end{tabular}\n"
      ],
      "text/markdown": [
       "\n",
       "| Annee | Production.electricite | chauffage.urbain | raffinage.petrole | Transformations.combustibles.mineraux | Extra.Dist.combus.sol | Extra.Dist.combus.liq | Extra.Dist.combus.gaz | autre.sect.energie | recup.energie | Total.secteur |\n",
       "|---|---|---|---|---|---|---|---|---|---|---|\n",
       "| 1990-05-20 | 41.36146   | 6.021286   | 15.25142   | 4.176454   | 4.780450   | 0.4436044  | 3.283028   | 2.783563   | 0.1915884  | 78.10127   |\n",
       "| 1991-05-20 | 41.48946   | 6.744192   | 15.52963   | 4.190813   | 4.436193   | 0.4337511  | 3.524995   | 3.036270   | 0.2094416  | 79.38530   |\n",
       "| 1992-05-20 | 42.42318   | 6.607926   | 15.69741   | 4.211276   | 4.632816   | 0.4217121  | 3.356417   | 3.288977   | 0.2272948  | 80.63972   |\n",
       "| 1993-05-20 | 30.15192   | 6.581251   | 15.68948   | 3.823803   | 4.839788   | 0.4059632  | 3.293240   | 3.543482   | 0.2452734  | 68.32893   |\n",
       "| 1994-05-20 | 26.63518   | 6.183419   | 16.39439   | 3.729060   | 4.948045   | 0.4089182  | 3.359791   | 3.565205   | 0.2470235  | 65.22400   |\n",
       "| 1995-05-20 | 29.24226   | 6.162415   | 16.54443   | 3.755786   | 4.903101   | 0.3676888  | 3.202735   | 3.586928   | 0.2487735  | 67.76534   |\n",
       "\n"
      ],
      "text/plain": [
       "  Annee      Production.electricite chauffage.urbain raffinage.petrole\n",
       "1 1990-05-20 41.36146               6.021286         15.25142         \n",
       "2 1991-05-20 41.48946               6.744192         15.52963         \n",
       "3 1992-05-20 42.42318               6.607926         15.69741         \n",
       "4 1993-05-20 30.15192               6.581251         15.68948         \n",
       "5 1994-05-20 26.63518               6.183419         16.39439         \n",
       "6 1995-05-20 29.24226               6.162415         16.54443         \n",
       "  Transformations.combustibles.mineraux Extra.Dist.combus.sol\n",
       "1 4.176454                              4.780450             \n",
       "2 4.190813                              4.436193             \n",
       "3 4.211276                              4.632816             \n",
       "4 3.823803                              4.839788             \n",
       "5 3.729060                              4.948045             \n",
       "6 3.755786                              4.903101             \n",
       "  Extra.Dist.combus.liq Extra.Dist.combus.gaz autre.sect.energie recup.energie\n",
       "1 0.4436044             3.283028              2.783563           0.1915884    \n",
       "2 0.4337511             3.524995              3.036270           0.2094416    \n",
       "3 0.4217121             3.356417              3.288977           0.2272948    \n",
       "4 0.4059632             3.293240              3.543482           0.2452734    \n",
       "5 0.4089182             3.359791              3.565205           0.2470235    \n",
       "6 0.3676888             3.202735              3.586928           0.2487735    \n",
       "  Total.secteur\n",
       "1 78.10127     \n",
       "2 79.38530     \n",
       "3 80.63972     \n",
       "4 68.32893     \n",
       "5 65.22400     \n",
       "6 67.76534     "
      ]
     },
     "metadata": {},
     "output_type": "display_data"
    }
   ],
   "source": [
    "#suppression de la colonne Extra.Dist.combus.autre car ne contient que des valeurs nulles.\n",
    "data2.1 = data2[,-9]\n",
    "head(data2.1)\n",
    "#data2.1"
   ]
  },
  {
   "cell_type": "code",
   "execution_count": 68,
   "id": "a7e31798",
   "metadata": {},
   "outputs": [],
   "source": [
    "# création d'un data frame sur l'émission des gaz à effet de serre seulement pour 2019 \n",
    "data2.1 = as.matrix(data2.1[30,2:10])"
   ]
  },
  {
   "cell_type": "code",
   "execution_count": 69,
   "id": "60a0be56",
   "metadata": {},
   "outputs": [
    {
     "data": {
      "text/html": [
       "<table>\n",
       "<thead><tr><th></th><th scope=col>Production.electricite</th><th scope=col>chauffage.urbain</th><th scope=col>raffinage.petrole</th><th scope=col>Transformations.combustibles.mineraux</th><th scope=col>Extra.Dist.combus.sol</th><th scope=col>Extra.Dist.combus.liq</th><th scope=col>Extra.Dist.combus.gaz</th><th scope=col>autre.sect.energie</th><th scope=col>recup.energie</th></tr></thead>\n",
       "<tbody>\n",
       "\t<tr><th scope=row>30</th><td>19.90092 </td><td>3.891685 </td><td>8.723585 </td><td>2.858197 </td><td>0.01005  </td><td>0.1077839</td><td>1.47211  </td><td>5.515227 </td><td>0.126226 </td></tr>\n",
       "</tbody>\n",
       "</table>\n"
      ],
      "text/latex": [
       "\\begin{tabular}{r|lllllllll}\n",
       "  & Production.electricite & chauffage.urbain & raffinage.petrole & Transformations.combustibles.mineraux & Extra.Dist.combus.sol & Extra.Dist.combus.liq & Extra.Dist.combus.gaz & autre.sect.energie & recup.energie\\\\\n",
       "\\hline\n",
       "\t30 & 19.90092  & 3.891685  & 8.723585  & 2.858197  & 0.01005   & 0.1077839 & 1.47211   & 5.515227  & 0.126226 \\\\\n",
       "\\end{tabular}\n"
      ],
      "text/markdown": [
       "\n",
       "| <!--/--> | Production.electricite | chauffage.urbain | raffinage.petrole | Transformations.combustibles.mineraux | Extra.Dist.combus.sol | Extra.Dist.combus.liq | Extra.Dist.combus.gaz | autre.sect.energie | recup.energie |\n",
       "|---|---|---|---|---|---|---|---|---|---|\n",
       "| 30 | 19.90092  | 3.891685  | 8.723585  | 2.858197  | 0.01005   | 0.1077839 | 1.47211   | 5.515227  | 0.126226  |\n",
       "\n"
      ],
      "text/plain": [
       "   Production.electricite chauffage.urbain raffinage.petrole\n",
       "30 19.90092               3.891685         8.723585         \n",
       "   Transformations.combustibles.mineraux Extra.Dist.combus.sol\n",
       "30 2.858197                              0.01005              \n",
       "   Extra.Dist.combus.liq Extra.Dist.combus.gaz autre.sect.energie recup.energie\n",
       "30 0.1077839             1.47211               5.515227           0.126226     "
      ]
     },
     "metadata": {},
     "output_type": "display_data"
    }
   ],
   "source": [
    "#Visualisation de la nouvelle base de données\n",
    "data2.1"
   ]
  },
  {
   "cell_type": "code",
   "execution_count": 70,
   "id": "3796feda",
   "metadata": {
    "scrolled": true
   },
   "outputs": [
    {
     "data": {
      "text/html": [
       "<table>\n",
       "<thead><tr><th scope=col>sous_secteur</th><th scope=col>MtCO2e</th></tr></thead>\n",
       "<tbody>\n",
       "\t<tr><td>Production.electricite               </td><td>19.9009200                           </td></tr>\n",
       "\t<tr><td>chauffage.urbain                     </td><td> 3.8916850                           </td></tr>\n",
       "\t<tr><td>raffinage.petrole                    </td><td> 8.7235850                           </td></tr>\n",
       "\t<tr><td>Transformations.combustibles.mineraux</td><td> 2.8581970                           </td></tr>\n",
       "\t<tr><td>Extra.Dist.combus.sol                </td><td> 0.0100500                           </td></tr>\n",
       "\t<tr><td>Extra.Dist.combus.liq                </td><td> 0.1077839                           </td></tr>\n",
       "\t<tr><td>Extra.Dist.combus.gaz                </td><td> 1.4721100                           </td></tr>\n",
       "\t<tr><td>autre.sect.energie                   </td><td> 5.5152270                           </td></tr>\n",
       "\t<tr><td>recup.energie                        </td><td> 0.1262260                           </td></tr>\n",
       "</tbody>\n",
       "</table>\n"
      ],
      "text/latex": [
       "\\begin{tabular}{r|ll}\n",
       " sous\\_secteur & MtCO2e\\\\\n",
       "\\hline\n",
       "\t Production.electricite                & 19.9009200                           \\\\\n",
       "\t chauffage.urbain                      &  3.8916850                           \\\\\n",
       "\t raffinage.petrole                     &  8.7235850                           \\\\\n",
       "\t Transformations.combustibles.mineraux &  2.8581970                           \\\\\n",
       "\t Extra.Dist.combus.sol                 &  0.0100500                           \\\\\n",
       "\t Extra.Dist.combus.liq                 &  0.1077839                           \\\\\n",
       "\t Extra.Dist.combus.gaz                 &  1.4721100                           \\\\\n",
       "\t autre.sect.energie                    &  5.5152270                           \\\\\n",
       "\t recup.energie                         &  0.1262260                           \\\\\n",
       "\\end{tabular}\n"
      ],
      "text/markdown": [
       "\n",
       "| sous_secteur | MtCO2e |\n",
       "|---|---|\n",
       "| Production.electricite                | 19.9009200                            |\n",
       "| chauffage.urbain                      |  3.8916850                            |\n",
       "| raffinage.petrole                     |  8.7235850                            |\n",
       "| Transformations.combustibles.mineraux |  2.8581970                            |\n",
       "| Extra.Dist.combus.sol                 |  0.0100500                            |\n",
       "| Extra.Dist.combus.liq                 |  0.1077839                            |\n",
       "| Extra.Dist.combus.gaz                 |  1.4721100                            |\n",
       "| autre.sect.energie                    |  5.5152270                            |\n",
       "| recup.energie                         |  0.1262260                            |\n",
       "\n"
      ],
      "text/plain": [
       "  sous_secteur                          MtCO2e    \n",
       "1 Production.electricite                19.9009200\n",
       "2 chauffage.urbain                       3.8916850\n",
       "3 raffinage.petrole                      8.7235850\n",
       "4 Transformations.combustibles.mineraux  2.8581970\n",
       "5 Extra.Dist.combus.sol                  0.0100500\n",
       "6 Extra.Dist.combus.liq                  0.1077839\n",
       "7 Extra.Dist.combus.gaz                  1.4721100\n",
       "8 autre.sect.energie                     5.5152270\n",
       "9 recup.energie                          0.1262260"
      ]
     },
     "metadata": {},
     "output_type": "display_data"
    }
   ],
   "source": [
    "data2.2 =data.frame(\n",
    "                    sous_secteur = c(\"Production.electricite\",\"chauffage.urbain\",\"raffinage.petrole\",\"Transformations.combustibles.mineraux\",\"Extra.Dist.combus.sol\",\"Extra.Dist.combus.liq\",\"Extra.Dist.combus.gaz\",\"autre.sect.energie\",\"recup.energie\"),\n",
    "                    MtCO2e = c(19.90092,3.891685,8.723585,2.858197,0.01005,0.1077839,1.47211,5.515227,0.126226)\n",
    ")\n",
    "\n",
    "#colnames(data2.2) <- (\"MtCO2e\")\n",
    "data2.2"
   ]
  },
  {
   "cell_type": "markdown",
   "id": "95b9128c",
   "metadata": {},
   "source": [
    "#### Visualisations des données"
   ]
  },
  {
   "cell_type": "raw",
   "id": "07b250e7",
   "metadata": {},
   "source": [
    "ggplot(data2.2) + aes(x=reorder(MtCO2e,-sous_secteur),sous_secteur, fill=sous_secteur) + \n",
    "geom_bar(stat=\"identity\" ) "
   ]
  },
  {
   "cell_type": "code",
   "execution_count": 71,
   "id": "78978ce0",
   "metadata": {
    "scrolled": true
   },
   "outputs": [
    {
     "data": {
      "image/png": "[encoded data removed]",
      "text/plain": [
       "Plot with title \"Emissions de tous les gaz à effet de serre, en équivalent CO2 dans l'ndustrie de l'énergie en 2019\""
      ]
     },
     "metadata": {},
     "output_type": "display_data"
    }
   ],
   "source": [
    "bar2 = barplot(data2.1[order(data2.1)],width = 1,\n",
    "#bp_data1=barplot(sort(as.matrix(data1[30,2:7],decreasing = TRUE)),\n",
    "main = (\"Emissions de tous les gaz à effet de serre, en équivalent CO2 dans l'ndustrie de l'énergie en 2019\"),\n",
    "xlab = \"MtCO2e\",\n",
    "#ylab = \"Day\",\n",
    "names.arg = c(\"Production\",\"Chauffage\",\"Raffinage\",\"Transform\",\"Ext.Dist.sol\",\"Ext.Dist.liq\",\"Ext.Dist.gaz\",\"Aut.sec\",\"Recup\")[order(data2.1)],\n",
    "#names.arg=colnames(data)[order(data)],\n",
    "#names.arg= names(data[,2:7]),\n",
    "cex.main=0.8,#cex.axis=1.7\n",
    "cex.names = 0.5,\n",
    "col = rainbow(9),\n",
    "horiz = TRUE)\n",
    "text(bar2,x=1,labels = round(data2.1[order(data2.1)], digits = 2),cex=1)# étiquette sur les barres\n",
    "legend(\"bottomright\",y=10,legend=c(\"Production d'électricité\",\"Chauffage urbain\",\"Raffinage du pétrole\",\"Transformation des combustibles ménéraux solides\",\"Extraction et distribution de combustibles solides\",\"Extraction et distribution de combustibles liquides\",\"Extraction et distribution de combustibles gazeux\",\"Autres secteurs de l'industrie de l'énergie\",\"Récupération d'énergie\")[order(data2.1)],\n",
    "      col=rainbow(9), cex=0.8, lwd=10,#lty=1:9,\n",
    "      title=\"Activités de l'industrie du transport\", text.font=4) #bg='lightblue')\n",
    "#axis(2, at = bp_secteurs, labels = names(data)[order(data, decreasing = TRUE)])\n",
    "#axis(2, at = bp_data1, labels = names(data[,2:7])[order(data[,2:7], decreasing = TRUE)])"
   ]
  },
  {
   "cell_type": "raw",
   "id": "bf73edf2",
   "metadata": {},
   "source": [
    "Figure 10"
   ]
  },
  {
   "cell_type": "markdown",
   "id": "6314309e",
   "metadata": {},
   "source": [
    "#### Test statistique"
   ]
  },
  {
   "cell_type": "code",
   "execution_count": 72,
   "id": "83f60359",
   "metadata": {},
   "outputs": [
    {
     "data": {
      "text/plain": [
       "                                      Production.electricite chauffage.urbain\n",
       "Production.electricite                                  1.00             0.80\n",
       "chauffage.urbain                                        0.80             1.00\n",
       "raffinage.petrole                                       0.71             0.93\n",
       "Transformations.combustibles.mineraux                   0.62             0.66\n",
       "Extra.Dist.combus.sol                                   0.41             0.48\n",
       "Extra.Dist.combus.liq                                   0.49             0.52\n",
       "Extra.Dist.combus.gaz                                   0.75             0.92\n",
       "Extra.Dist.combus.autre                                  NaN              NaN\n",
       "autre.sect.energie                                     -0.59            -0.66\n",
       "recup.energie                                           0.53             0.74\n",
       "                                      raffinage.petrole\n",
       "Production.electricite                             0.71\n",
       "chauffage.urbain                                   0.93\n",
       "raffinage.petrole                                  1.00\n",
       "Transformations.combustibles.mineraux              0.65\n",
       "Extra.Dist.combus.sol                              0.48\n",
       "Extra.Dist.combus.liq                              0.50\n",
       "Extra.Dist.combus.gaz                              0.90\n",
       "Extra.Dist.combus.autre                             NaN\n",
       "autre.sect.energie                                -0.68\n",
       "recup.energie                                      0.64\n",
       "                                      Transformations.combustibles.mineraux\n",
       "Production.electricite                                                 0.62\n",
       "chauffage.urbain                                                       0.66\n",
       "raffinage.petrole                                                      0.65\n",
       "Transformations.combustibles.mineraux                                  1.00\n",
       "Extra.Dist.combus.sol                                                  0.87\n",
       "Extra.Dist.combus.liq                                                  0.86\n",
       "Extra.Dist.combus.gaz                                                  0.83\n",
       "Extra.Dist.combus.autre                                                 NaN\n",
       "autre.sect.energie                                                    -0.86\n",
       "recup.energie                                                          0.51\n",
       "                                      Extra.Dist.combus.sol\n",
       "Production.electricite                                 0.41\n",
       "chauffage.urbain                                       0.48\n",
       "raffinage.petrole                                      0.48\n",
       "Transformations.combustibles.mineraux                  0.87\n",
       "Extra.Dist.combus.sol                                  1.00\n",
       "Extra.Dist.combus.liq                                  0.97\n",
       "Extra.Dist.combus.gaz                                  0.76\n",
       "Extra.Dist.combus.autre                                 NaN\n",
       "autre.sect.energie                                    -0.92\n",
       "recup.energie                                          0.26\n",
       "                                      Extra.Dist.combus.liq\n",
       "Production.electricite                                 0.49\n",
       "chauffage.urbain                                       0.52\n",
       "raffinage.petrole                                      0.50\n",
       "Transformations.combustibles.mineraux                  0.86\n",
       "Extra.Dist.combus.sol                                  0.97\n",
       "Extra.Dist.combus.liq                                  1.00\n",
       "Extra.Dist.combus.gaz                                  0.79\n",
       "Extra.Dist.combus.autre                                 NaN\n",
       "autre.sect.energie                                    -0.91\n",
       "recup.energie                                          0.25\n",
       "                                      Extra.Dist.combus.gaz\n",
       "Production.electricite                                 0.75\n",
       "chauffage.urbain                                       0.92\n",
       "raffinage.petrole                                      0.90\n",
       "Transformations.combustibles.mineraux                  0.83\n",
       "Extra.Dist.combus.sol                                  0.76\n",
       "Extra.Dist.combus.liq                                  0.79\n",
       "Extra.Dist.combus.gaz                                  1.00\n",
       "Extra.Dist.combus.autre                                 NaN\n",
       "autre.sect.energie                                    -0.87\n",
       "recup.energie                                          0.62\n",
       "                                      Extra.Dist.combus.autre\n",
       "Production.electricite                                    NaN\n",
       "chauffage.urbain                                          NaN\n",
       "raffinage.petrole                                         NaN\n",
       "Transformations.combustibles.mineraux                     NaN\n",
       "Extra.Dist.combus.sol                                     NaN\n",
       "Extra.Dist.combus.liq                                     NaN\n",
       "Extra.Dist.combus.gaz                                     NaN\n",
       "Extra.Dist.combus.autre                                     1\n",
       "autre.sect.energie                                        NaN\n",
       "recup.energie                                             NaN\n",
       "                                      autre.sect.energie recup.energie\n",
       "Production.electricite                             -0.59          0.53\n",
       "chauffage.urbain                                   -0.66          0.74\n",
       "raffinage.petrole                                  -0.68          0.64\n",
       "Transformations.combustibles.mineraux              -0.86          0.51\n",
       "Extra.Dist.combus.sol                              -0.92          0.26\n",
       "Extra.Dist.combus.liq                              -0.91          0.25\n",
       "Extra.Dist.combus.gaz                              -0.87          0.62\n",
       "Extra.Dist.combus.autre                              NaN           NaN\n",
       "autre.sect.energie                                  1.00         -0.29\n",
       "recup.energie                                      -0.29          1.00\n",
       "\n",
       "n= 61 \n",
       "\n",
       "\n",
       "P\n",
       "                                      Production.electricite chauffage.urbain\n",
       "Production.electricite                                       0.0000          \n",
       "chauffage.urbain                      0.0000                                 \n",
       "raffinage.petrole                     0.0000                 0.0000          \n",
       "Transformations.combustibles.mineraux 0.0000                 0.0000          \n",
       "Extra.Dist.combus.sol                 0.0012                 0.0000          \n",
       "Extra.Dist.combus.liq                 0.0000                 0.0000          \n",
       "Extra.Dist.combus.gaz                 0.0000                 0.0000          \n",
       "Extra.Dist.combus.autre                                                      \n",
       "autre.sect.energie                    0.0000                 0.0000          \n",
       "recup.energie                         0.0000                 0.0000          \n",
       "                                      raffinage.petrole\n",
       "Production.electricite                0.0000           \n",
       "chauffage.urbain                      0.0000           \n",
       "raffinage.petrole                                      \n",
       "Transformations.combustibles.mineraux 0.0000           \n",
       "Extra.Dist.combus.sol                 0.0000           \n",
       "Extra.Dist.combus.liq                 0.0000           \n",
       "Extra.Dist.combus.gaz                 0.0000           \n",
       "Extra.Dist.combus.autre                                \n",
       "autre.sect.energie                    0.0000           \n",
       "recup.energie                         0.0000           \n",
       "                                      Transformations.combustibles.mineraux\n",
       "Production.electricite                0.0000                               \n",
       "chauffage.urbain                      0.0000                               \n",
       "raffinage.petrole                     0.0000                               \n",
       "Transformations.combustibles.mineraux                                      \n",
       "Extra.Dist.combus.sol                 0.0000                               \n",
       "Extra.Dist.combus.liq                 0.0000                               \n",
       "Extra.Dist.combus.gaz                 0.0000                               \n",
       "Extra.Dist.combus.autre                                                    \n",
       "autre.sect.energie                    0.0000                               \n",
       "recup.energie                         0.0000                               \n",
       "                                      Extra.Dist.combus.sol\n",
       "Production.electricite                0.0012               \n",
       "chauffage.urbain                      0.0000               \n",
       "raffinage.petrole                     0.0000               \n",
       "Transformations.combustibles.mineraux 0.0000               \n",
       "Extra.Dist.combus.sol                                      \n",
       "Extra.Dist.combus.liq                 0.0000               \n",
       "Extra.Dist.combus.gaz                 0.0000               \n",
       "Extra.Dist.combus.autre                                    \n",
       "autre.sect.energie                    0.0000               \n",
       "recup.energie                         0.0416               \n",
       "                                      Extra.Dist.combus.liq\n",
       "Production.electricite                0.0000               \n",
       "chauffage.urbain                      0.0000               \n",
       "raffinage.petrole                     0.0000               \n",
       "Transformations.combustibles.mineraux 0.0000               \n",
       "Extra.Dist.combus.sol                 0.0000               \n",
       "Extra.Dist.combus.liq                                      \n",
       "Extra.Dist.combus.gaz                 0.0000               \n",
       "Extra.Dist.combus.autre                                    \n",
       "autre.sect.energie                    0.0000               \n",
       "recup.energie                         0.0478               \n",
       "                                      Extra.Dist.combus.gaz\n",
       "Production.electricite                0.0000               \n",
       "chauffage.urbain                      0.0000               \n",
       "raffinage.petrole                     0.0000               \n",
       "Transformations.combustibles.mineraux 0.0000               \n",
       "Extra.Dist.combus.sol                 0.0000               \n",
       "Extra.Dist.combus.liq                 0.0000               \n",
       "Extra.Dist.combus.gaz                                      \n",
       "Extra.Dist.combus.autre                                    \n",
       "autre.sect.energie                    0.0000               \n",
       "recup.energie                         0.0000               \n",
       "                                      Extra.Dist.combus.autre\n",
       "Production.electricite                                       \n",
       "chauffage.urbain                                             \n",
       "raffinage.petrole                                            \n",
       "Transformations.combustibles.mineraux                        \n",
       "Extra.Dist.combus.sol                                        \n",
       "Extra.Dist.combus.liq                                        \n",
       "Extra.Dist.combus.gaz                                        \n",
       "Extra.Dist.combus.autre                                      \n",
       "autre.sect.energie                                           \n",
       "recup.energie                                                \n",
       "                                      autre.sect.energie recup.energie\n",
       "Production.electricite                0.0000             0.0000       \n",
       "chauffage.urbain                      0.0000             0.0000       \n",
       "raffinage.petrole                     0.0000             0.0000       \n",
       "Transformations.combustibles.mineraux 0.0000             0.0000       \n",
       "Extra.Dist.combus.sol                 0.0000             0.0416       \n",
       "Extra.Dist.combus.liq                 0.0000             0.0478       \n",
       "Extra.Dist.combus.gaz                 0.0000             0.0000       \n",
       "Extra.Dist.combus.autre                                               \n",
       "autre.sect.energie                                       0.0255       \n",
       "recup.energie                         0.0255                          "
      ]
     },
     "metadata": {},
     "output_type": "display_data"
    }
   ],
   "source": [
    "rcorr(as.matrix(data2[,2:11])) # matrice du test de corrélation entre les varibles entre le data frame"
   ]
  },
  {
   "cell_type": "code",
   "execution_count": 73,
   "id": "1a922195",
   "metadata": {},
   "outputs": [
    {
     "data": {
      "text/plain": [
       "\n",
       "\tPearson's product-moment correlation\n",
       "\n",
       "data:  data2$Production.electricite and data2$chauffage.urbain\n",
       "t = 10.148, df = 59, p-value = 1.481e-14\n",
       "alternative hypothesis: true correlation is not equal to 0\n",
       "95 percent confidence interval:\n",
       " 0.6825631 0.8737246\n",
       "sample estimates:\n",
       "     cor \n",
       "0.797335 \n"
      ]
     },
     "metadata": {},
     "output_type": "display_data"
    }
   ],
   "source": [
    "# test de corrélation entre les données de la variables production electricité et chauffage urbain\n",
    "cor.test(data2$Production.electricite,data2$chauffage.urbain)"
   ]
  },
  {
   "cell_type": "raw",
   "id": "b2101d1a",
   "metadata": {},
   "source": [
    "p-value = 1.481e-14, il y' a une forte corrélation entre les variables"
   ]
  },
  {
   "cell_type": "raw",
   "id": "31e78358",
   "metadata": {},
   "source": [
    "Regression lignéaire entre les données de la variables production electricité et chauffage urbain"
   ]
  },
  {
   "cell_type": "code",
   "execution_count": 74,
   "id": "351c77ca",
   "metadata": {},
   "outputs": [
    {
     "data": {
      "image/png": "[encoded data removed]",
      "text/plain": [
       "plot without title"
      ]
     },
     "metadata": {},
     "output_type": "display_data"
    }
   ],
   "source": [
    "ggplot(data2)+aes(x=Production.electricite , y=chauffage.urbain)+geom_point()+\n",
    " geom_smooth( formula = y~x ,method=\"lm\")"
   ]
  },
  {
   "cell_type": "raw",
   "id": "ace1b356",
   "metadata": {},
   "source": [
    "Figure 11"
   ]
  },
  {
   "cell_type": "code",
   "execution_count": 77,
   "id": "1ae4ee54",
   "metadata": {},
   "outputs": [
    {
     "data": {
      "text/plain": [
       "\n",
       "Call:\n",
       "lm(formula = data2$Production.electricite ~ data2$chauffage.urbain)\n",
       "\n",
       "Residuals:\n",
       "    Min      1Q  Median      3Q     Max \n",
       "-6.4025 -3.0683 -0.7557  1.7623  9.7947 \n",
       "\n",
       "Coefficients:\n",
       "                       Estimate Std. Error t value Pr(>|t|)    \n",
       "(Intercept)              2.8371     2.8083    1.01    0.316    \n",
       "data2$chauffage.urbain   4.7714     0.4702   10.15 1.48e-14 ***\n",
       "---\n",
       "Signif. codes:  0 '***' 0.001 '**' 0.01 '*' 0.05 '.' 0.1 ' ' 1\n",
       "\n",
       "Residual standard error: 3.948 on 59 degrees of freedom\n",
       "Multiple R-squared:  0.6357,\tAdjusted R-squared:  0.6296 \n",
       "F-statistic:   103 on 1 and 59 DF,  p-value: 1.481e-14\n"
      ]
     },
     "metadata": {},
     "output_type": "display_data"
    }
   ],
   "source": [
    "regression2.1 = lm(data2$Production.electricite~data2$chauffage.urbain)\n",
    "summary(regression2.1)"
   ]
  },
  {
   "cell_type": "code",
   "execution_count": 78,
   "id": "b2ca0321",
   "metadata": {},
   "outputs": [
    {
     "ename": "ERROR",
     "evalue": "Error in parse(text = x, srcfile = src): <text>:1:4: unexpected symbol\n1: Le modèle\n       ^\n",
     "output_type": "error",
     "traceback": [
      "Error in parse(text = x, srcfile = src): <text>:1:4: unexpected symbol\n1: Le modèle\n       ^\nTraceback:\n"
     ]
    }
   ],
   "source": [
    "Le modèle prédit est assez bon car R-squared ajusté est de  0.6296. "
   ]
  },
  {
   "cell_type": "raw",
   "id": "56d40325",
   "metadata": {},
   "source": [
    "Regression linéaire entre les données des variables production d'électricité et raffinage petrole"
   ]
  },
  {
   "cell_type": "code",
   "execution_count": null,
   "id": "307c7470",
   "metadata": {},
   "outputs": [],
   "source": [
    "regression2.2 = lm(data2$Production.electricite~data2$raffinage.petrole)\n",
    "summary(regression2.2)"
   ]
  },
  {
   "cell_type": "raw",
   "id": "f0efccd0",
   "metadata": {},
   "source": [
    "Le modèle prédit est mauvais car R-squared ajusté est de  0.4925 "
   ]
  },
  {
   "cell_type": "raw",
   "id": "a31e33c2",
   "metadata": {},
   "source": [
    "Reggression linéaire entre les données des variables raffinage petrole et chauffage urbain"
   ]
  },
  {
   "cell_type": "code",
   "execution_count": 79,
   "id": "0387f852",
   "metadata": {},
   "outputs": [
    {
     "data": {
      "image/png": "[encoded data removed]",
      "text/plain": [
       "plot without title"
      ]
     },
     "metadata": {},
     "output_type": "display_data"
    }
   ],
   "source": [
    "ggplot(data2)+aes(x=raffinage.petrole , y=chauffage.urbain)+geom_point()+\n",
    " geom_smooth( formula = y~x ,method=\"lm\")"
   ]
  },
  {
   "cell_type": "raw",
   "id": "b821de36",
   "metadata": {},
   "source": [
    "Figure 12"
   ]
  },
  {
   "cell_type": "code",
   "execution_count": 80,
   "id": "0ab1b264",
   "metadata": {},
   "outputs": [
    {
     "data": {
      "text/plain": [
       "\n",
       "Call:\n",
       "lm(formula = data2$chauffage.urbain ~ data2$raffinage.petrole)\n",
       "\n",
       "Residuals:\n",
       "    Min      1Q  Median      3Q     Max \n",
       "-0.6573 -0.2891 -0.1488  0.3810  0.7215 \n",
       "\n",
       "Coefficients:\n",
       "                        Estimate Std. Error t value Pr(>|t|)    \n",
       "(Intercept)               1.3499     0.2309   5.846 2.33e-07 ***\n",
       "data2$raffinage.petrole   0.3091     0.0154  20.073  < 2e-16 ***\n",
       "---\n",
       "Signif. codes:  0 '***' 0.001 '**' 0.01 '*' 0.05 '.' 0.1 ' ' 1\n",
       "\n",
       "Residual standard error: 0.3906 on 59 degrees of freedom\n",
       "Multiple R-squared:  0.8723,\tAdjusted R-squared:  0.8701 \n",
       "F-statistic: 402.9 on 1 and 59 DF,  p-value: < 2.2e-16\n"
      ]
     },
     "metadata": {},
     "output_type": "display_data"
    }
   ],
   "source": [
    "regression2.3 = lm(data2$chauffage.urbain~data2$raffinage.petrole)\n",
    "summary(regression2.3)"
   ]
  },
  {
   "cell_type": "raw",
   "id": "499d3cf1",
   "metadata": {},
   "source": [
    "Le modèle de prédiction est assez bon car R-squared ajusté est de  0.8701"
   ]
  },
  {
   "cell_type": "code",
   "execution_count": 81,
   "id": "9c48ac31",
   "metadata": {},
   "outputs": [
    {
     "data": {
      "text/plain": [
       "\n",
       "\tPearson's product-moment correlation\n",
       "\n",
       "data:  data2$raffinage.petrole and data2$chauffage.urbain\n",
       "t = 20.073, df = 59, p-value < 2.2e-16\n",
       "alternative hypothesis: true correlation is not equal to 0\n",
       "95 percent confidence interval:\n",
       " 0.8918996 0.9599953\n",
       "sample estimates:\n",
       "      cor \n",
       "0.9339551 \n"
      ]
     },
     "metadata": {},
     "output_type": "display_data"
    }
   ],
   "source": [
    "cor.test(data2$raffinage.petrole,data2$chauffage.urbain)"
   ]
  },
  {
   "cell_type": "markdown",
   "id": "8f0da8d7",
   "metadata": {},
   "source": [
    "### Emissions des gaz à effet de serredans le secteur du Transport"
   ]
  },
  {
   "cell_type": "markdown",
   "id": "2ccc53a8",
   "metadata": {},
   "source": [
    "#### Importation de la base de données"
   ]
  },
  {
   "cell_type": "code",
   "execution_count": 82,
   "id": "0d3c4ad6",
   "metadata": {
    "vscode": {
     "languageId": "r"
    }
   },
   "outputs": [],
   "source": [
    "data3=read.xlsx(\"C:/Users/MarieRogerNoahNoah/Documents/Projet IA/Emissions de gaz à effet de serre/secteur_transport.xlsx\", sheetIndex = 1, header=TRUE)"
   ]
  },
  {
   "cell_type": "code",
   "execution_count": 83,
   "id": "1ebf1f4a",
   "metadata": {
    "vscode": {
     "languageId": "r"
    }
   },
   "outputs": [
    {
     "data": {
      "text/html": [
       "<table>\n",
       "<thead><tr><th scope=col>Annee</th><th scope=col>VP.diesel</th><th scope=col>VP.essence</th><th scope=col>VP.GPL</th><th scope=col>VP.GNV</th><th scope=col>VP.Ã.lectriques</th><th scope=col>VUL.diesel</th><th scope=col>VUL.essence</th><th scope=col>VUL.Ã.lectriques</th><th scope=col>PL.diesel..y.c..bus.et.cars.</th><th scope=col>...</th><th scope=col>Deux.roues.diesel</th><th scope=col>Deux.roues.Ã.lectriques</th><th scope=col>sous.total.Transport.routier</th><th scope=col>Transport.ferroviaire</th><th scope=col>Transport.fluvial.de.marchandises</th><th scope=col>Transport.maritime.domestique</th><th scope=col>Transport.autres.navigations</th><th scope=col>Transport.aÃ.rien.franÃ.ais</th><th scope=col>sous.total.Autres.transports</th><th scope=col>Total.transports..total.national.</th></tr></thead>\n",
       "<tbody>\n",
       "\t<tr><td>1990        </td><td>14.85332    </td><td>55.94506    </td><td>0.15140031  </td><td>5.130617e-05</td><td>0           </td><td> 9.813702   </td><td>4.382750    </td><td>0           </td><td>30.36097    </td><td>...         </td><td>0.000000000 </td><td>0           </td><td>116.0577    </td><td>1.0949178   </td><td>0.12793058  </td><td>1.721993    </td><td>0.6644131   </td><td>3.905902    </td><td>7.515156    </td><td>123.5728    </td></tr>\n",
       "\t<tr><td>1991        </td><td>16.73721    </td><td>54.62953    </td><td>0.14232199  </td><td>4.337460e-05</td><td>0           </td><td>10.852780   </td><td>4.189184    </td><td>0           </td><td>31.45205    </td><td>...         </td><td>0.000000000 </td><td>0           </td><td>118.5535    </td><td>1.0605995   </td><td>0.14132347  </td><td>1.878574    </td><td>0.6834668   </td><td>4.020839    </td><td>7.784802    </td><td>126.3383    </td></tr>\n",
       "\t<tr><td>1992        </td><td>18.75343    </td><td>55.31462    </td><td>0.12117717  </td><td>4.636491e-05</td><td>0           </td><td>11.901382   </td><td>3.755479    </td><td>0           </td><td>32.75880    </td><td>...         </td><td>0.006072932 </td><td>0           </td><td>123.1749    </td><td>1.0099391   </td><td>0.14803590  </td><td>1.713033    </td><td>0.7029440   </td><td>4.042567    </td><td>7.616520    </td><td>130.7914    </td></tr>\n",
       "\t<tr><td>1993        </td><td>20.74399    </td><td>53.33138    </td><td>0.10620684  </td><td>4.067438e-04</td><td>0           </td><td>12.895303   </td><td>3.236961    </td><td>0           </td><td>32.30578    </td><td>...         </td><td>0.016555091 </td><td>0           </td><td>123.3368    </td><td>0.9344933   </td><td>0.09555838  </td><td>1.916654    </td><td>0.7360443   </td><td>4.031388    </td><td>7.714138    </td><td>131.0509    </td></tr>\n",
       "\t<tr><td>1994        </td><td>22.78051    </td><td>51.08832    </td><td>0.09434607  </td><td>2.237631e-04</td><td>0           </td><td>13.311119   </td><td>3.175166    </td><td>0           </td><td>33.13296    </td><td>...         </td><td>0.024757801 </td><td>0           </td><td>124.2195    </td><td>0.8677632   </td><td>0.09716769  </td><td>1.825688    </td><td>0.7516966   </td><td>4.199581    </td><td>7.741896    </td><td>131.9613    </td></tr>\n",
       "\t<tr><td>1995        </td><td>25.62631    </td><td>49.48060    </td><td>0.07943530  </td><td>9.354304e-05</td><td>0           </td><td>13.782293   </td><td>2.670625    </td><td>0           </td><td>33.40960    </td><td>...         </td><td>0.033053258 </td><td>0           </td><td>125.6183    </td><td>0.8290870   </td><td>0.09643705  </td><td>1.766840    </td><td>0.7894027   </td><td>4.774470    </td><td>8.256237    </td><td>133.8745    </td></tr>\n",
       "</tbody>\n",
       "</table>\n"
      ],
      "text/latex": [
       "\\begin{tabular}{r|llllllllllllllllllllllll}\n",
       " Annee & VP.diesel & VP.essence & VP.GPL & VP.GNV & VP.Ã.lectriques & VUL.diesel & VUL.essence & VUL.Ã.lectriques & PL.diesel..y.c..bus.et.cars. & ... & Deux.roues.diesel & Deux.roues.Ã.lectriques & sous.total.Transport.routier & Transport.ferroviaire & Transport.fluvial.de.marchandises & Transport.maritime.domestique & Transport.autres.navigations & Transport.aÃ.rien.franÃ.ais & sous.total.Autres.transports & Total.transports..total.national.\\\\\n",
       "\\hline\n",
       "\t 1990         & 14.85332     & 55.94506     & 0.15140031   & 5.130617e-05 & 0            &  9.813702    & 4.382750     & 0            & 30.36097     & ...          & 0.000000000  & 0            & 116.0577     & 1.0949178    & 0.12793058   & 1.721993     & 0.6644131    & 3.905902     & 7.515156     & 123.5728    \\\\\n",
       "\t 1991         & 16.73721     & 54.62953     & 0.14232199   & 4.337460e-05 & 0            & 10.852780    & 4.189184     & 0            & 31.45205     & ...          & 0.000000000  & 0            & 118.5535     & 1.0605995    & 0.14132347   & 1.878574     & 0.6834668    & 4.020839     & 7.784802     & 126.3383    \\\\\n",
       "\t 1992         & 18.75343     & 55.31462     & 0.12117717   & 4.636491e-05 & 0            & 11.901382    & 3.755479     & 0            & 32.75880     & ...          & 0.006072932  & 0            & 123.1749     & 1.0099391    & 0.14803590   & 1.713033     & 0.7029440    & 4.042567     & 7.616520     & 130.7914    \\\\\n",
       "\t 1993         & 20.74399     & 53.33138     & 0.10620684   & 4.067438e-04 & 0            & 12.895303    & 3.236961     & 0            & 32.30578     & ...          & 0.016555091  & 0            & 123.3368     & 0.9344933    & 0.09555838   & 1.916654     & 0.7360443    & 4.031388     & 7.714138     & 131.0509    \\\\\n",
       "\t 1994         & 22.78051     & 51.08832     & 0.09434607   & 2.237631e-04 & 0            & 13.311119    & 3.175166     & 0            & 33.13296     & ...          & 0.024757801  & 0            & 124.2195     & 0.8677632    & 0.09716769   & 1.825688     & 0.7516966    & 4.199581     & 7.741896     & 131.9613    \\\\\n",
       "\t 1995         & 25.62631     & 49.48060     & 0.07943530   & 9.354304e-05 & 0            & 13.782293    & 2.670625     & 0            & 33.40960     & ...          & 0.033053258  & 0            & 125.6183     & 0.8290870    & 0.09643705   & 1.766840     & 0.7894027    & 4.774470     & 8.256237     & 133.8745    \\\\\n",
       "\\end{tabular}\n"
      ],
      "text/markdown": [
       "\n",
       "| Annee | VP.diesel | VP.essence | VP.GPL | VP.GNV | VP.Ã.lectriques | VUL.diesel | VUL.essence | VUL.Ã.lectriques | PL.diesel..y.c..bus.et.cars. | ... | Deux.roues.diesel | Deux.roues.Ã.lectriques | sous.total.Transport.routier | Transport.ferroviaire | Transport.fluvial.de.marchandises | Transport.maritime.domestique | Transport.autres.navigations | Transport.aÃ.rien.franÃ.ais | sous.total.Autres.transports | Total.transports..total.national. |\n",
       "|---|---|---|---|---|---|---|---|---|---|---|---|---|---|---|---|---|---|---|---|---|\n",
       "| 1990         | 14.85332     | 55.94506     | 0.15140031   | 5.130617e-05 | 0            |  9.813702    | 4.382750     | 0            | 30.36097     | ...          | 0.000000000  | 0            | 116.0577     | 1.0949178    | 0.12793058   | 1.721993     | 0.6644131    | 3.905902     | 7.515156     | 123.5728     |\n",
       "| 1991         | 16.73721     | 54.62953     | 0.14232199   | 4.337460e-05 | 0            | 10.852780    | 4.189184     | 0            | 31.45205     | ...          | 0.000000000  | 0            | 118.5535     | 1.0605995    | 0.14132347   | 1.878574     | 0.6834668    | 4.020839     | 7.784802     | 126.3383     |\n",
       "| 1992         | 18.75343     | 55.31462     | 0.12117717   | 4.636491e-05 | 0            | 11.901382    | 3.755479     | 0            | 32.75880     | ...          | 0.006072932  | 0            | 123.1749     | 1.0099391    | 0.14803590   | 1.713033     | 0.7029440    | 4.042567     | 7.616520     | 130.7914     |\n",
       "| 1993         | 20.74399     | 53.33138     | 0.10620684   | 4.067438e-04 | 0            | 12.895303    | 3.236961     | 0            | 32.30578     | ...          | 0.016555091  | 0            | 123.3368     | 0.9344933    | 0.09555838   | 1.916654     | 0.7360443    | 4.031388     | 7.714138     | 131.0509     |\n",
       "| 1994         | 22.78051     | 51.08832     | 0.09434607   | 2.237631e-04 | 0            | 13.311119    | 3.175166     | 0            | 33.13296     | ...          | 0.024757801  | 0            | 124.2195     | 0.8677632    | 0.09716769   | 1.825688     | 0.7516966    | 4.199581     | 7.741896     | 131.9613     |\n",
       "| 1995         | 25.62631     | 49.48060     | 0.07943530   | 9.354304e-05 | 0            | 13.782293    | 2.670625     | 0            | 33.40960     | ...          | 0.033053258  | 0            | 125.6183     | 0.8290870    | 0.09643705   | 1.766840     | 0.7894027    | 4.774470     | 8.256237     | 133.8745     |\n",
       "\n"
      ],
      "text/plain": [
       "  Annee VP.diesel VP.essence VP.GPL     VP.GNV       VP.Ã.lectriques VUL.diesel\n",
       "1 1990  14.85332  55.94506   0.15140031 5.130617e-05 0                9.813702 \n",
       "2 1991  16.73721  54.62953   0.14232199 4.337460e-05 0               10.852780 \n",
       "3 1992  18.75343  55.31462   0.12117717 4.636491e-05 0               11.901382 \n",
       "4 1993  20.74399  53.33138   0.10620684 4.067438e-04 0               12.895303 \n",
       "5 1994  22.78051  51.08832   0.09434607 2.237631e-04 0               13.311119 \n",
       "6 1995  25.62631  49.48060   0.07943530 9.354304e-05 0               13.782293 \n",
       "  VUL.essence VUL.Ã.lectriques PL.diesel..y.c..bus.et.cars. ...\n",
       "1 4.382750    0                30.36097                     ...\n",
       "2 4.189184    0                31.45205                     ...\n",
       "3 3.755479    0                32.75880                     ...\n",
       "4 3.236961    0                32.30578                     ...\n",
       "5 3.175166    0                33.13296                     ...\n",
       "6 2.670625    0                33.40960                     ...\n",
       "  Deux.roues.diesel Deux.roues.Ã.lectriques sous.total.Transport.routier\n",
       "1 0.000000000       0                       116.0577                    \n",
       "2 0.000000000       0                       118.5535                    \n",
       "3 0.006072932       0                       123.1749                    \n",
       "4 0.016555091       0                       123.3368                    \n",
       "5 0.024757801       0                       124.2195                    \n",
       "6 0.033053258       0                       125.6183                    \n",
       "  Transport.ferroviaire Transport.fluvial.de.marchandises\n",
       "1 1.0949178             0.12793058                       \n",
       "2 1.0605995             0.14132347                       \n",
       "3 1.0099391             0.14803590                       \n",
       "4 0.9344933             0.09555838                       \n",
       "5 0.8677632             0.09716769                       \n",
       "6 0.8290870             0.09643705                       \n",
       "  Transport.maritime.domestique Transport.autres.navigations\n",
       "1 1.721993                      0.6644131                   \n",
       "2 1.878574                      0.6834668                   \n",
       "3 1.713033                      0.7029440                   \n",
       "4 1.916654                      0.7360443                   \n",
       "5 1.825688                      0.7516966                   \n",
       "6 1.766840                      0.7894027                   \n",
       "  Transport.aÃ.rien.franÃ.ais sous.total.Autres.transports\n",
       "1 3.905902                    7.515156                    \n",
       "2 4.020839                    7.784802                    \n",
       "3 4.042567                    7.616520                    \n",
       "4 4.031388                    7.714138                    \n",
       "5 4.199581                    7.741896                    \n",
       "6 4.774470                    8.256237                    \n",
       "  Total.transports..total.national.\n",
       "1 123.5728                         \n",
       "2 126.3383                         \n",
       "3 130.7914                         \n",
       "4 131.0509                         \n",
       "5 131.9613                         \n",
       "6 133.8745                         "
      ]
     },
     "metadata": {},
     "output_type": "display_data"
    }
   ],
   "source": [
    "head(data3)"
   ]
  },
  {
   "cell_type": "code",
   "execution_count": 84,
   "id": "ea1060a3",
   "metadata": {
    "vscode": {
     "languageId": "r"
    }
   },
   "outputs": [],
   "source": [
    "colnames(data3) <- c(\"Annee\",\"VP.diesel\",\"VP.essence\",\"VP.GPL\",\"VP.GNV\",\"VP.electriques\",\"VUL.diesel\",\"VUL.essence\",\"VUL.électriques\",\"PL.diesel(y.c.et.cars)\",\"PL.essence(y.c.bus.et.cars)\",\"PL.GNV(y.c.bus.et.cars)\",\"PL.électriques(y.c.bus.et.cars)\",\"Deux.roues.essence\",\"Deux.roues.diesel\",\"Deux.roues.electriques\",\"sous-total.Transport.routier\",\"Transport.ferroviaire\",\"Transport.fluvial.de.marchandises\",\"Transport.maritime.domestique\",\"Transport.autres.navigations\",\"Transport.aerien.français\",\"sous-total.Autres.transports\",\"Total.secteur\")\n",
    "# le total_secteur est (total.national)"
   ]
  },
  {
   "cell_type": "code",
   "execution_count": 85,
   "id": "3791db05",
   "metadata": {
    "vscode": {
     "languageId": "r"
    }
   },
   "outputs": [
    {
     "data": {
      "text/html": [
       "<table>\n",
       "<thead><tr><th scope=col>Annee</th><th scope=col>VP.diesel</th><th scope=col>VP.essence</th><th scope=col>VP.GPL</th><th scope=col>VP.GNV</th><th scope=col>VP.electriques</th><th scope=col>VUL.diesel</th><th scope=col>VUL.essence</th><th scope=col>VUL.électriques</th><th scope=col>PL.diesel(y.c.et.cars)</th><th scope=col>...</th><th scope=col>Deux.roues.diesel</th><th scope=col>Deux.roues.electriques</th><th scope=col>sous-total.Transport.routier</th><th scope=col>Transport.ferroviaire</th><th scope=col>Transport.fluvial.de.marchandises</th><th scope=col>Transport.maritime.domestique</th><th scope=col>Transport.autres.navigations</th><th scope=col>Transport.aerien.français</th><th scope=col>sous-total.Autres.transports</th><th scope=col>Total.secteur</th></tr></thead>\n",
       "<tbody>\n",
       "\t<tr><td>1990        </td><td>14.85332    </td><td>55.94506    </td><td>0.15140031  </td><td>5.130617e-05</td><td>0           </td><td> 9.813702   </td><td>4.382750    </td><td>0           </td><td>30.36097    </td><td>...         </td><td>0.000000000 </td><td>0           </td><td>116.0577    </td><td>1.0949178   </td><td>0.12793058  </td><td>1.721993    </td><td>0.6644131   </td><td>3.905902    </td><td>7.515156    </td><td>123.5728    </td></tr>\n",
       "\t<tr><td>1991        </td><td>16.73721    </td><td>54.62953    </td><td>0.14232199  </td><td>4.337460e-05</td><td>0           </td><td>10.852780   </td><td>4.189184    </td><td>0           </td><td>31.45205    </td><td>...         </td><td>0.000000000 </td><td>0           </td><td>118.5535    </td><td>1.0605995   </td><td>0.14132347  </td><td>1.878574    </td><td>0.6834668   </td><td>4.020839    </td><td>7.784802    </td><td>126.3383    </td></tr>\n",
       "\t<tr><td>1992        </td><td>18.75343    </td><td>55.31462    </td><td>0.12117717  </td><td>4.636491e-05</td><td>0           </td><td>11.901382   </td><td>3.755479    </td><td>0           </td><td>32.75880    </td><td>...         </td><td>0.006072932 </td><td>0           </td><td>123.1749    </td><td>1.0099391   </td><td>0.14803590  </td><td>1.713033    </td><td>0.7029440   </td><td>4.042567    </td><td>7.616520    </td><td>130.7914    </td></tr>\n",
       "\t<tr><td>1993        </td><td>20.74399    </td><td>53.33138    </td><td>0.10620684  </td><td>4.067438e-04</td><td>0           </td><td>12.895303   </td><td>3.236961    </td><td>0           </td><td>32.30578    </td><td>...         </td><td>0.016555091 </td><td>0           </td><td>123.3368    </td><td>0.9344933   </td><td>0.09555838  </td><td>1.916654    </td><td>0.7360443   </td><td>4.031388    </td><td>7.714138    </td><td>131.0509    </td></tr>\n",
       "\t<tr><td>1994        </td><td>22.78051    </td><td>51.08832    </td><td>0.09434607  </td><td>2.237631e-04</td><td>0           </td><td>13.311119   </td><td>3.175166    </td><td>0           </td><td>33.13296    </td><td>...         </td><td>0.024757801 </td><td>0           </td><td>124.2195    </td><td>0.8677632   </td><td>0.09716769  </td><td>1.825688    </td><td>0.7516966   </td><td>4.199581    </td><td>7.741896    </td><td>131.9613    </td></tr>\n",
       "\t<tr><td>1995        </td><td>25.62631    </td><td>49.48060    </td><td>0.07943530  </td><td>9.354304e-05</td><td>0           </td><td>13.782293   </td><td>2.670625    </td><td>0           </td><td>33.40960    </td><td>...         </td><td>0.033053258 </td><td>0           </td><td>125.6183    </td><td>0.8290870   </td><td>0.09643705  </td><td>1.766840    </td><td>0.7894027   </td><td>4.774470    </td><td>8.256237    </td><td>133.8745    </td></tr>\n",
       "</tbody>\n",
       "</table>\n"
      ],
      "text/latex": [
       "\\begin{tabular}{r|llllllllllllllllllllllll}\n",
       " Annee & VP.diesel & VP.essence & VP.GPL & VP.GNV & VP.electriques & VUL.diesel & VUL.essence & VUL.électriques & PL.diesel(y.c.et.cars) & ... & Deux.roues.diesel & Deux.roues.electriques & sous-total.Transport.routier & Transport.ferroviaire & Transport.fluvial.de.marchandises & Transport.maritime.domestique & Transport.autres.navigations & Transport.aerien.français & sous-total.Autres.transports & Total.secteur\\\\\n",
       "\\hline\n",
       "\t 1990         & 14.85332     & 55.94506     & 0.15140031   & 5.130617e-05 & 0            &  9.813702    & 4.382750     & 0            & 30.36097     & ...          & 0.000000000  & 0            & 116.0577     & 1.0949178    & 0.12793058   & 1.721993     & 0.6644131    & 3.905902     & 7.515156     & 123.5728    \\\\\n",
       "\t 1991         & 16.73721     & 54.62953     & 0.14232199   & 4.337460e-05 & 0            & 10.852780    & 4.189184     & 0            & 31.45205     & ...          & 0.000000000  & 0            & 118.5535     & 1.0605995    & 0.14132347   & 1.878574     & 0.6834668    & 4.020839     & 7.784802     & 126.3383    \\\\\n",
       "\t 1992         & 18.75343     & 55.31462     & 0.12117717   & 4.636491e-05 & 0            & 11.901382    & 3.755479     & 0            & 32.75880     & ...          & 0.006072932  & 0            & 123.1749     & 1.0099391    & 0.14803590   & 1.713033     & 0.7029440    & 4.042567     & 7.616520     & 130.7914    \\\\\n",
       "\t 1993         & 20.74399     & 53.33138     & 0.10620684   & 4.067438e-04 & 0            & 12.895303    & 3.236961     & 0            & 32.30578     & ...          & 0.016555091  & 0            & 123.3368     & 0.9344933    & 0.09555838   & 1.916654     & 0.7360443    & 4.031388     & 7.714138     & 131.0509    \\\\\n",
       "\t 1994         & 22.78051     & 51.08832     & 0.09434607   & 2.237631e-04 & 0            & 13.311119    & 3.175166     & 0            & 33.13296     & ...          & 0.024757801  & 0            & 124.2195     & 0.8677632    & 0.09716769   & 1.825688     & 0.7516966    & 4.199581     & 7.741896     & 131.9613    \\\\\n",
       "\t 1995         & 25.62631     & 49.48060     & 0.07943530   & 9.354304e-05 & 0            & 13.782293    & 2.670625     & 0            & 33.40960     & ...          & 0.033053258  & 0            & 125.6183     & 0.8290870    & 0.09643705   & 1.766840     & 0.7894027    & 4.774470     & 8.256237     & 133.8745    \\\\\n",
       "\\end{tabular}\n"
      ],
      "text/markdown": [
       "\n",
       "| Annee | VP.diesel | VP.essence | VP.GPL | VP.GNV | VP.electriques | VUL.diesel | VUL.essence | VUL.électriques | PL.diesel(y.c.et.cars) | ... | Deux.roues.diesel | Deux.roues.electriques | sous-total.Transport.routier | Transport.ferroviaire | Transport.fluvial.de.marchandises | Transport.maritime.domestique | Transport.autres.navigations | Transport.aerien.français | sous-total.Autres.transports | Total.secteur |\n",
       "|---|---|---|---|---|---|---|---|---|---|---|---|---|---|---|---|---|---|---|---|---|\n",
       "| 1990         | 14.85332     | 55.94506     | 0.15140031   | 5.130617e-05 | 0            |  9.813702    | 4.382750     | 0            | 30.36097     | ...          | 0.000000000  | 0            | 116.0577     | 1.0949178    | 0.12793058   | 1.721993     | 0.6644131    | 3.905902     | 7.515156     | 123.5728     |\n",
       "| 1991         | 16.73721     | 54.62953     | 0.14232199   | 4.337460e-05 | 0            | 10.852780    | 4.189184     | 0            | 31.45205     | ...          | 0.000000000  | 0            | 118.5535     | 1.0605995    | 0.14132347   | 1.878574     | 0.6834668    | 4.020839     | 7.784802     | 126.3383     |\n",
       "| 1992         | 18.75343     | 55.31462     | 0.12117717   | 4.636491e-05 | 0            | 11.901382    | 3.755479     | 0            | 32.75880     | ...          | 0.006072932  | 0            | 123.1749     | 1.0099391    | 0.14803590   | 1.713033     | 0.7029440    | 4.042567     | 7.616520     | 130.7914     |\n",
       "| 1993         | 20.74399     | 53.33138     | 0.10620684   | 4.067438e-04 | 0            | 12.895303    | 3.236961     | 0            | 32.30578     | ...          | 0.016555091  | 0            | 123.3368     | 0.9344933    | 0.09555838   | 1.916654     | 0.7360443    | 4.031388     | 7.714138     | 131.0509     |\n",
       "| 1994         | 22.78051     | 51.08832     | 0.09434607   | 2.237631e-04 | 0            | 13.311119    | 3.175166     | 0            | 33.13296     | ...          | 0.024757801  | 0            | 124.2195     | 0.8677632    | 0.09716769   | 1.825688     | 0.7516966    | 4.199581     | 7.741896     | 131.9613     |\n",
       "| 1995         | 25.62631     | 49.48060     | 0.07943530   | 9.354304e-05 | 0            | 13.782293    | 2.670625     | 0            | 33.40960     | ...          | 0.033053258  | 0            | 125.6183     | 0.8290870    | 0.09643705   | 1.766840     | 0.7894027    | 4.774470     | 8.256237     | 133.8745     |\n",
       "\n"
      ],
      "text/plain": [
       "  Annee VP.diesel VP.essence VP.GPL     VP.GNV       VP.electriques VUL.diesel\n",
       "1 1990  14.85332  55.94506   0.15140031 5.130617e-05 0               9.813702 \n",
       "2 1991  16.73721  54.62953   0.14232199 4.337460e-05 0              10.852780 \n",
       "3 1992  18.75343  55.31462   0.12117717 4.636491e-05 0              11.901382 \n",
       "4 1993  20.74399  53.33138   0.10620684 4.067438e-04 0              12.895303 \n",
       "5 1994  22.78051  51.08832   0.09434607 2.237631e-04 0              13.311119 \n",
       "6 1995  25.62631  49.48060   0.07943530 9.354304e-05 0              13.782293 \n",
       "  VUL.essence VUL.électriques PL.diesel(y.c.et.cars) ... Deux.roues.diesel\n",
       "1 4.382750    0               30.36097               ... 0.000000000      \n",
       "2 4.189184    0               31.45205               ... 0.000000000      \n",
       "3 3.755479    0               32.75880               ... 0.006072932      \n",
       "4 3.236961    0               32.30578               ... 0.016555091      \n",
       "5 3.175166    0               33.13296               ... 0.024757801      \n",
       "6 2.670625    0               33.40960               ... 0.033053258      \n",
       "  Deux.roues.electriques sous-total.Transport.routier Transport.ferroviaire\n",
       "1 0                      116.0577                     1.0949178            \n",
       "2 0                      118.5535                     1.0605995            \n",
       "3 0                      123.1749                     1.0099391            \n",
       "4 0                      123.3368                     0.9344933            \n",
       "5 0                      124.2195                     0.8677632            \n",
       "6 0                      125.6183                     0.8290870            \n",
       "  Transport.fluvial.de.marchandises Transport.maritime.domestique\n",
       "1 0.12793058                        1.721993                     \n",
       "2 0.14132347                        1.878574                     \n",
       "3 0.14803590                        1.713033                     \n",
       "4 0.09555838                        1.916654                     \n",
       "5 0.09716769                        1.825688                     \n",
       "6 0.09643705                        1.766840                     \n",
       "  Transport.autres.navigations Transport.aerien.français\n",
       "1 0.6644131                    3.905902                 \n",
       "2 0.6834668                    4.020839                 \n",
       "3 0.7029440                    4.042567                 \n",
       "4 0.7360443                    4.031388                 \n",
       "5 0.7516966                    4.199581                 \n",
       "6 0.7894027                    4.774470                 \n",
       "  sous-total.Autres.transports Total.secteur\n",
       "1 7.515156                     123.5728     \n",
       "2 7.784802                     126.3383     \n",
       "3 7.616520                     130.7914     \n",
       "4 7.714138                     131.0509     \n",
       "5 7.741896                     131.9613     \n",
       "6 8.256237                     133.8745     "
      ]
     },
     "metadata": {},
     "output_type": "display_data"
    }
   ],
   "source": [
    "head(data3)"
   ]
  },
  {
   "cell_type": "code",
   "execution_count": 86,
   "id": "85440f76",
   "metadata": {},
   "outputs": [],
   "source": [
    "#data3$Annee =as.factor(data3$Annee)\n",
    "data3$Annee= as.Date(data3$Annee, format=\"%Y\")"
   ]
  },
  {
   "cell_type": "code",
   "execution_count": 87,
   "id": "7853616e",
   "metadata": {},
   "outputs": [
    {
     "name": "stdout",
     "output_type": "stream",
     "text": [
      "'data.frame':\t31 obs. of  24 variables:\n",
      " $ Annee                            : Date, format: \"1990-05-20\" \"1991-05-20\" ...\n",
      " $ VP.diesel                        : num  14.9 16.7 18.8 20.7 22.8 ...\n",
      " $ VP.essence                       : num  55.9 54.6 55.3 53.3 51.1 ...\n",
      " $ VP.GPL                           : num  0.1514 0.1423 0.1212 0.1062 0.0943 ...\n",
      " $ VP.GNV                           : num  5.13e-05 4.34e-05 4.64e-05 4.07e-04 2.24e-04 ...\n",
      " $ VP.electriques                   : num  0 0 0 0 0 0 0 0 0 0 ...\n",
      " $ VUL.diesel                       : num  9.81 10.85 11.9 12.9 13.31 ...\n",
      " $ VUL.essence                      : num  4.38 4.19 3.76 3.24 3.18 ...\n",
      " $ VUL.électriques                  : num  0 0 0 0 0 0 0 0 0 0 ...\n",
      " $ PL.diesel(y.c.et.cars)           : num  30.4 31.5 32.8 32.3 33.1 ...\n",
      " $ PL.essence(y.c.bus.et.cars)      : num  0.0312 0.0275 0.0266 0.0252 0.0244 ...\n",
      " $ PL.GNV(y.c.bus.et.cars)          : num  0.000364 0.00037 0.000368 0.002579 0.001496 ...\n",
      " $ PL.électriques(y.c.bus.et.cars)  : num  0 0 0 0 0 0 0 0 0 0 ...\n",
      " $ Deux.roues.essence               : num  0.519 0.523 0.537 0.672 0.586 ...\n",
      " $ Deux.roues.diesel                : num  0 0 0.00607 0.01656 0.02476 ...\n",
      " $ Deux.roues.electriques           : num  0 0 0 0 0 0 0 0 0 0 ...\n",
      " $ sous-total.Transport.routier     : num  116 119 123 123 124 ...\n",
      " $ Transport.ferroviaire            : num  1.095 1.061 1.01 0.934 0.868 ...\n",
      " $ Transport.fluvial.de.marchandises: num  0.1279 0.1413 0.148 0.0956 0.0972 ...\n",
      " $ Transport.maritime.domestique    : num  1.72 1.88 1.71 1.92 1.83 ...\n",
      " $ Transport.autres.navigations     : num  0.664 0.683 0.703 0.736 0.752 ...\n",
      " $ Transport.aerien.français        : num  3.91 4.02 4.04 4.03 4.2 ...\n",
      " $ sous-total.Autres.transports     : num  7.52 7.78 7.62 7.71 7.74 ...\n",
      " $ Total.secteur                    : num  124 126 131 131 132 ...\n"
     ]
    }
   ],
   "source": [
    "str(data3)"
   ]
  },
  {
   "cell_type": "code",
   "execution_count": 88,
   "id": "a1313dd0",
   "metadata": {},
   "outputs": [
    {
     "data": {
      "text/plain": [
       "     Annee              VP.diesel       VP.essence        VP.GPL       \n",
       " Min.   :1990-05-20   Min.   :14.85   Min.   :18.67   Min.   :0.07944  \n",
       " 1st Qu.:1997-11-18   1st Qu.:30.11   1st Qu.:20.93   1st Qu.:0.16028  \n",
       " Median :2005-05-20   Median :42.76   Median :33.25   Median :0.32006  \n",
       " Mean   :2005-05-19   Mean   :40.47   Mean   :34.45   Mean   :0.32409  \n",
       " 3rd Qu.:2012-11-18   3rd Qu.:51.47   3rd Qu.:46.46   3rd Qu.:0.42808  \n",
       " Max.   :2020-05-20   Max.   :56.91   Max.   :55.95   Max.   :0.67532  \n",
       "     VP.GNV          VP.electriques   VUL.diesel      VUL.essence   \n",
       " Min.   :4.337e-05   Min.   :0      Min.   : 9.814   Min.   :1.006  \n",
       " 1st Qu.:1.690e-04   1st Qu.:0      1st Qu.:15.177   1st Qu.:2.004  \n",
       " Median :4.531e-03   Median :0      Median :18.576   Median :2.330  \n",
       " Mean   :6.190e-03   Mean   :0      Mean   :17.139   Mean   :2.407  \n",
       " 3rd Qu.:1.120e-02   3rd Qu.:0      3rd Qu.:19.216   3rd Qu.:2.574  \n",
       " Max.   :2.067e-02   Max.   :0      Max.   :21.570   Max.   :4.383  \n",
       " VUL.électriques PL.diesel(y.c.et.cars) PL.essence(y.c.bus.et.cars)\n",
       " Min.   :0       Min.   :26.54          Min.   :4.686e-06          \n",
       " 1st Qu.:0       1st Qu.:31.42          1st Qu.:8.031e-03          \n",
       " Median :0       Median :32.76          Median :2.261e-02          \n",
       " Mean   :0       Mean   :33.27          Mean   :1.715e-02          \n",
       " 3rd Qu.:0       3rd Qu.:35.92          3rd Qu.:2.479e-02          \n",
       " Max.   :0       Max.   :37.31          Max.   :3.116e-02          \n",
       " PL.GNV(y.c.bus.et.cars) PL.électriques(y.c.bus.et.cars) Deux.roues.essence\n",
       " Min.   :0.0003639       Min.   :0                       Min.   :0.5118    \n",
       " 1st Qu.:0.0012278       1st Qu.:0                       1st Qu.:0.7311    \n",
       " Median :0.0387234       Median :0                       Median :1.1545    \n",
       " Mean   :0.1012535       Mean   :0                       Mean   :1.0133    \n",
       " 3rd Qu.:0.2004309       3rd Qu.:0                       3rd Qu.:1.2853    \n",
       " Max.   :0.4034105       Max.   :0                       Max.   :1.2996    \n",
       " Deux.roues.diesel Deux.roues.electriques sous-total.Transport.routier\n",
       " Min.   :0.00000   Min.   :0              Min.   :107.5               \n",
       " 1st Qu.:0.05072   1st Qu.:0              1st Qu.:127.1               \n",
       " Median :0.06045   Median :0              Median :129.4               \n",
       " Mean   :0.06097   Mean   :0              Mean   :129.3               \n",
       " 3rd Qu.:0.08677   3rd Qu.:0              3rd Qu.:133.6               \n",
       " Max.   :0.09808   Max.   :0              Max.   :138.7               \n",
       " Transport.ferroviaire Transport.fluvial.de.marchandises\n",
       " Min.   :0.3851        Min.   :0.09411                  \n",
       " 1st Qu.:0.5527        1st Qu.:0.10818                  \n",
       " Median :0.6735        Median :0.12201                  \n",
       " Mean   :0.6869        Mean   :0.12030                  \n",
       " 3rd Qu.:0.7891        3rd Qu.:0.13279                  \n",
       " Max.   :1.0949        Max.   :0.14804                  \n",
       " Transport.maritime.domestique Transport.autres.navigations\n",
       " Min.   :1.401                 Min.   :0.6644              \n",
       " 1st Qu.:1.563                 1st Qu.:0.8389              \n",
       " Median :1.713                 Median :0.9549              \n",
       " Mean   :1.705                 Mean   :0.9172              \n",
       " 3rd Qu.:1.837                 3rd Qu.:1.0142              \n",
       " Max.   :1.995                 Max.   :1.0450              \n",
       " Transport.aerien.français sous-total.Autres.transports Total.secteur  \n",
       " Min.   :3.197             Min.   :6.134                Min.   :113.6  \n",
       " 1st Qu.:4.794             1st Qu.:7.962                1st Qu.:135.7  \n",
       " Median :4.977             Median :8.282                Median :138.0  \n",
       " Mean   :4.941             Mean   :8.370                Mean   :137.6  \n",
       " 3rd Qu.:5.300             3rd Qu.:8.844                3rd Qu.:143.3  \n",
       " Max.   :6.078             Max.   :9.679                Max.   :147.6  "
      ]
     },
     "metadata": {},
     "output_type": "display_data"
    }
   ],
   "source": [
    "summary(data3)"
   ]
  },
  {
   "cell_type": "code",
   "execution_count": 89,
   "id": "4a27c338",
   "metadata": {},
   "outputs": [
    {
     "data": {
      "text/html": [
       "<table>\n",
       "<thead><tr><th scope=col>sous_secteur</th><th scope=col>MtCO2e</th></tr></thead>\n",
       "<tbody>\n",
       "\t<tr><td>VP.diesel                      </td><td>40.074                         </td></tr>\n",
       "\t<tr><td>VP.essence                     </td><td>17.260                         </td></tr>\n",
       "\t<tr><td>VP.GPL                         </td><td> 0.133                         </td></tr>\n",
       "\t<tr><td>VP.GNV                         </td><td> 0.009                         </td></tr>\n",
       "\t<tr><td>VP.electriques                 </td><td> 0.000                         </td></tr>\n",
       "\t<tr><td>VUL.diesel                     </td><td>15.230                         </td></tr>\n",
       "\t<tr><td>VUL.essence                    </td><td> 1.488                         </td></tr>\n",
       "\t<tr><td>VUL.électrique                 </td><td> 0.000                         </td></tr>\n",
       "\t<tr><td>PL.diesel(y.c.et.cars)         </td><td>24.400                         </td></tr>\n",
       "\t<tr><td>PL.essence(y.c.bus.et.cars)    </td><td> 0.000                         </td></tr>\n",
       "\t<tr><td>PL.GNV(y.c.bus.et.cars)        </td><td> 0.317                         </td></tr>\n",
       "\t<tr><td>PL.électriques(y.c.bus.et.cars)</td><td> 0.000                         </td></tr>\n",
       "\t<tr><td>Deux.roues.essence             </td><td> 1.018                         </td></tr>\n",
       "\t<tr><td>Deux.roues.diesel              </td><td> 0.071                         </td></tr>\n",
       "\t<tr><td>Deux.roues.electriques         </td><td> 0.000                         </td></tr>\n",
       "</tbody>\n",
       "</table>\n"
      ],
      "text/latex": [
       "\\begin{tabular}{r|ll}\n",
       " sous\\_secteur & MtCO2e\\\\\n",
       "\\hline\n",
       "\t VP.diesel                       & 40.074                         \\\\\n",
       "\t VP.essence                      & 17.260                         \\\\\n",
       "\t VP.GPL                          &  0.133                         \\\\\n",
       "\t VP.GNV                          &  0.009                         \\\\\n",
       "\t VP.electriques                  &  0.000                         \\\\\n",
       "\t VUL.diesel                      & 15.230                         \\\\\n",
       "\t VUL.essence                     &  1.488                         \\\\\n",
       "\t VUL.électrique                  &  0.000                         \\\\\n",
       "\t PL.diesel(y.c.et.cars)          & 24.400                         \\\\\n",
       "\t PL.essence(y.c.bus.et.cars)     &  0.000                         \\\\\n",
       "\t PL.GNV(y.c.bus.et.cars)         &  0.317                         \\\\\n",
       "\t PL.électriques(y.c.bus.et.cars) &  0.000                         \\\\\n",
       "\t Deux.roues.essence              &  1.018                         \\\\\n",
       "\t Deux.roues.diesel               &  0.071                         \\\\\n",
       "\t Deux.roues.electriques          &  0.000                         \\\\\n",
       "\\end{tabular}\n"
      ],
      "text/markdown": [
       "\n",
       "| sous_secteur | MtCO2e |\n",
       "|---|---|\n",
       "| VP.diesel                       | 40.074                          |\n",
       "| VP.essence                      | 17.260                          |\n",
       "| VP.GPL                          |  0.133                          |\n",
       "| VP.GNV                          |  0.009                          |\n",
       "| VP.electriques                  |  0.000                          |\n",
       "| VUL.diesel                      | 15.230                          |\n",
       "| VUL.essence                     |  1.488                          |\n",
       "| VUL.électrique                  |  0.000                          |\n",
       "| PL.diesel(y.c.et.cars)          | 24.400                          |\n",
       "| PL.essence(y.c.bus.et.cars)     |  0.000                          |\n",
       "| PL.GNV(y.c.bus.et.cars)         |  0.317                          |\n",
       "| PL.électriques(y.c.bus.et.cars) |  0.000                          |\n",
       "| Deux.roues.essence              |  1.018                          |\n",
       "| Deux.roues.diesel               |  0.071                          |\n",
       "| Deux.roues.electriques          |  0.000                          |\n",
       "\n"
      ],
      "text/plain": [
       "   sous_secteur                    MtCO2e\n",
       "1  VP.diesel                       40.074\n",
       "2  VP.essence                      17.260\n",
       "3  VP.GPL                           0.133\n",
       "4  VP.GNV                           0.009\n",
       "5  VP.electriques                   0.000\n",
       "6  VUL.diesel                      15.230\n",
       "7  VUL.essence                      1.488\n",
       "8  VUL.électrique                   0.000\n",
       "9  PL.diesel(y.c.et.cars)          24.400\n",
       "10 PL.essence(y.c.bus.et.cars)      0.000\n",
       "11 PL.GNV(y.c.bus.et.cars)          0.317\n",
       "12 PL.électriques(y.c.bus.et.cars)  0.000\n",
       "13 Deux.roues.essence               1.018\n",
       "14 Deux.roues.diesel                0.071\n",
       "15 Deux.roues.electriques           0.000"
      ]
     },
     "metadata": {},
     "output_type": "display_data"
    }
   ],
   "source": [
    "data3.1 = as.matrix(data3[30,2:16])\n",
    "table3 =round(prop.table(data3.1)*100,3)\n",
    "table3.1 = data.frame(\n",
    "    sous_secteur=c(\"VP.diesel\",\"VP.essence\",\"VP.GPL\",\"VP.GNV\",\"VP.electriques\",\"VUL.diesel\",\"VUL.essence\",\"VUL.électrique\",\"PL.diesel(y.c.et.cars)\",\"PL.essence(y.c.bus.et.cars)\",\"PL.GNV(y.c.bus.et.cars)\",\"PL.électriques(y.c.bus.et.cars)\",\"Deux.roues.essence\",\"Deux.roues.diesel\",\"Deux.roues.electriques\"),\n",
    "    MtCO2e=c(40.074,17.26,0.133,0.009,0,15.23,1.488,0,24.4,0,0.317,0,1.018,0.071,0)\n",
    "    )\n",
    "table3.1"
   ]
  },
  {
   "cell_type": "code",
   "execution_count": 90,
   "id": "51da45e6",
   "metadata": {},
   "outputs": [
    {
     "data": {
      "text/html": [
       "<table>\n",
       "<thead><tr><th></th><th scope=col>sous-total.Transport.routier</th><th scope=col>Transport.ferroviaire</th><th scope=col>Transport.fluvial.de.marchandises</th><th scope=col>Transport.maritime.domestique</th><th scope=col>Transport.autres.navigations</th><th scope=col>Transport.aerien.français</th></tr></thead>\n",
       "<tbody>\n",
       "\t<tr><th scope=row>30</th><td>127.3364 </td><td>0.4490311</td><td>0.113891 </td><td>1.551582 </td><td>1.045036 </td><td>5.371825 </td></tr>\n",
       "</tbody>\n",
       "</table>\n"
      ],
      "text/latex": [
       "\\begin{tabular}{r|llllll}\n",
       "  & sous-total.Transport.routier & Transport.ferroviaire & Transport.fluvial.de.marchandises & Transport.maritime.domestique & Transport.autres.navigations & Transport.aerien.français\\\\\n",
       "\\hline\n",
       "\t30 & 127.3364  & 0.4490311 & 0.113891  & 1.551582  & 1.045036  & 5.371825 \\\\\n",
       "\\end{tabular}\n"
      ],
      "text/markdown": [
       "\n",
       "| <!--/--> | sous-total.Transport.routier | Transport.ferroviaire | Transport.fluvial.de.marchandises | Transport.maritime.domestique | Transport.autres.navigations | Transport.aerien.français |\n",
       "|---|---|---|---|---|---|---|\n",
       "| 30 | 127.3364  | 0.4490311 | 0.113891  | 1.551582  | 1.045036  | 5.371825  |\n",
       "\n"
      ],
      "text/plain": [
       "   sous-total.Transport.routier Transport.ferroviaire\n",
       "30 127.3364                     0.4490311            \n",
       "   Transport.fluvial.de.marchandises Transport.maritime.domestique\n",
       "30 0.113891                          1.551582                     \n",
       "   Transport.autres.navigations Transport.aerien.français\n",
       "30 1.045036                     5.371825                 "
      ]
     },
     "metadata": {},
     "output_type": "display_data"
    }
   ],
   "source": [
    "#création d'un data frame pour l'émission de CO2e pae sous -secteur de transports\n",
    "data3.2 = as.matrix(data3[30,17:22])\n",
    "data3.2"
   ]
  },
  {
   "cell_type": "code",
   "execution_count": 91,
   "id": "e65e4fd1",
   "metadata": {},
   "outputs": [
    {
     "data": {
      "text/html": [
       "<table>\n",
       "<thead><tr><th scope=col>sous_secteur</th><th scope=col>MtCO2e</th></tr></thead>\n",
       "<tbody>\n",
       "\t<tr><td>Transport.routier                </td><td>93.721                           </td></tr>\n",
       "\t<tr><td>Transport.ferroviaire            </td><td> 0.330                           </td></tr>\n",
       "\t<tr><td>Transport.fluvial.de.marchandises</td><td> 0.084                           </td></tr>\n",
       "\t<tr><td>Transport.maritime.domestique    </td><td> 1.142                           </td></tr>\n",
       "\t<tr><td>Transport.autres.navigations     </td><td> 0.769                           </td></tr>\n",
       "\t<tr><td>Transport.aerien.français        </td><td> 3.954                           </td></tr>\n",
       "</tbody>\n",
       "</table>\n"
      ],
      "text/latex": [
       "\\begin{tabular}{r|ll}\n",
       " sous\\_secteur & MtCO2e\\\\\n",
       "\\hline\n",
       "\t Transport.routier                 & 93.721                           \\\\\n",
       "\t Transport.ferroviaire             &  0.330                           \\\\\n",
       "\t Transport.fluvial.de.marchandises &  0.084                           \\\\\n",
       "\t Transport.maritime.domestique     &  1.142                           \\\\\n",
       "\t Transport.autres.navigations      &  0.769                           \\\\\n",
       "\t Transport.aerien.français         &  3.954                           \\\\\n",
       "\\end{tabular}\n"
      ],
      "text/markdown": [
       "\n",
       "| sous_secteur | MtCO2e |\n",
       "|---|---|\n",
       "| Transport.routier                 | 93.721                            |\n",
       "| Transport.ferroviaire             |  0.330                            |\n",
       "| Transport.fluvial.de.marchandises |  0.084                            |\n",
       "| Transport.maritime.domestique     |  1.142                            |\n",
       "| Transport.autres.navigations      |  0.769                            |\n",
       "| Transport.aerien.français         |  3.954                            |\n",
       "\n"
      ],
      "text/plain": [
       "  sous_secteur                      MtCO2e\n",
       "1 Transport.routier                 93.721\n",
       "2 Transport.ferroviaire              0.330\n",
       "3 Transport.fluvial.de.marchandises  0.084\n",
       "4 Transport.maritime.domestique      1.142\n",
       "5 Transport.autres.navigations       0.769\n",
       "6 Transport.aerien.français          3.954"
      ]
     },
     "metadata": {},
     "output_type": "display_data"
    }
   ],
   "source": [
    "table3.2 =round(prop.table(data3.2)*100,3)\n",
    "#table3.2 = t(as.data.frame(table3.2,row.names=c(\"sous-secteur\",\"MtCO2e\"))) \n",
    "table3.2 = data.frame(\n",
    "                         sous_secteur=c(\"Transport.routier\",\"Transport.ferroviaire\",\"Transport.fluvial.de.marchandises\",\"Transport.maritime.domestique\",\"Transport.autres.navigations\",\n",
    "\"Transport.aerien.français\"), \n",
    "                        MtCO2e=c(93.721,0.330,0.084,1.142,0.769,3.954)\n",
    ")\n",
    "table3.2"
   ]
  },
  {
   "cell_type": "code",
   "execution_count": 92,
   "id": "993aac57",
   "metadata": {},
   "outputs": [
    {
     "data": {
      "text/html": [
       "<table>\n",
       "<thead><tr><th scope=col>Annee</th><th scope=col>sous.total.Transport.routier</th><th scope=col>Transport.ferroviaire</th><th scope=col>Transport.fluvial.de.marchandises</th><th scope=col>Transport.maritime.domestique</th><th scope=col>Transport.autres.navigations</th><th scope=col>Transport.aerien.français</th></tr></thead>\n",
       "<tbody>\n",
       "\t<tr><td>1990-05-20</td><td>116.0577  </td><td>1.0949178 </td><td>0.12793058</td><td>1.721993  </td><td>0.6644131 </td><td>3.905902  </td></tr>\n",
       "\t<tr><td>1991-05-20</td><td>118.5535  </td><td>1.0605995 </td><td>0.14132347</td><td>1.878574  </td><td>0.6834668 </td><td>4.020839  </td></tr>\n",
       "\t<tr><td>1992-05-20</td><td>123.1749  </td><td>1.0099391 </td><td>0.14803590</td><td>1.713033  </td><td>0.7029440 </td><td>4.042567  </td></tr>\n",
       "\t<tr><td>1993-05-20</td><td>123.3368  </td><td>0.9344933 </td><td>0.09555838</td><td>1.916654  </td><td>0.7360443 </td><td>4.031388  </td></tr>\n",
       "\t<tr><td>1994-05-20</td><td>124.2195  </td><td>0.8677632 </td><td>0.09716769</td><td>1.825688  </td><td>0.7516966 </td><td>4.199581  </td></tr>\n",
       "\t<tr><td>1995-05-20</td><td>125.6183  </td><td>0.8290870 </td><td>0.09643705</td><td>1.766840  </td><td>0.7894027 </td><td>4.774470  </td></tr>\n",
       "</tbody>\n",
       "</table>\n"
      ],
      "text/latex": [
       "\\begin{tabular}{r|lllllll}\n",
       " Annee & sous.total.Transport.routier & Transport.ferroviaire & Transport.fluvial.de.marchandises & Transport.maritime.domestique & Transport.autres.navigations & Transport.aerien.français\\\\\n",
       "\\hline\n",
       "\t 1990-05-20 & 116.0577   & 1.0949178  & 0.12793058 & 1.721993   & 0.6644131  & 3.905902  \\\\\n",
       "\t 1991-05-20 & 118.5535   & 1.0605995  & 0.14132347 & 1.878574   & 0.6834668  & 4.020839  \\\\\n",
       "\t 1992-05-20 & 123.1749   & 1.0099391  & 0.14803590 & 1.713033   & 0.7029440  & 4.042567  \\\\\n",
       "\t 1993-05-20 & 123.3368   & 0.9344933  & 0.09555838 & 1.916654   & 0.7360443  & 4.031388  \\\\\n",
       "\t 1994-05-20 & 124.2195   & 0.8677632  & 0.09716769 & 1.825688   & 0.7516966  & 4.199581  \\\\\n",
       "\t 1995-05-20 & 125.6183   & 0.8290870  & 0.09643705 & 1.766840   & 0.7894027  & 4.774470  \\\\\n",
       "\\end{tabular}\n"
      ],
      "text/markdown": [
       "\n",
       "| Annee | sous.total.Transport.routier | Transport.ferroviaire | Transport.fluvial.de.marchandises | Transport.maritime.domestique | Transport.autres.navigations | Transport.aerien.français |\n",
       "|---|---|---|---|---|---|---|\n",
       "| 1990-05-20 | 116.0577   | 1.0949178  | 0.12793058 | 1.721993   | 0.6644131  | 3.905902   |\n",
       "| 1991-05-20 | 118.5535   | 1.0605995  | 0.14132347 | 1.878574   | 0.6834668  | 4.020839   |\n",
       "| 1992-05-20 | 123.1749   | 1.0099391  | 0.14803590 | 1.713033   | 0.7029440  | 4.042567   |\n",
       "| 1993-05-20 | 123.3368   | 0.9344933  | 0.09555838 | 1.916654   | 0.7360443  | 4.031388   |\n",
       "| 1994-05-20 | 124.2195   | 0.8677632  | 0.09716769 | 1.825688   | 0.7516966  | 4.199581   |\n",
       "| 1995-05-20 | 125.6183   | 0.8290870  | 0.09643705 | 1.766840   | 0.7894027  | 4.774470   |\n",
       "\n"
      ],
      "text/plain": [
       "  Annee      sous.total.Transport.routier Transport.ferroviaire\n",
       "1 1990-05-20 116.0577                     1.0949178            \n",
       "2 1991-05-20 118.5535                     1.0605995            \n",
       "3 1992-05-20 123.1749                     1.0099391            \n",
       "4 1993-05-20 123.3368                     0.9344933            \n",
       "5 1994-05-20 124.2195                     0.8677632            \n",
       "6 1995-05-20 125.6183                     0.8290870            \n",
       "  Transport.fluvial.de.marchandises Transport.maritime.domestique\n",
       "1 0.12793058                        1.721993                     \n",
       "2 0.14132347                        1.878574                     \n",
       "3 0.14803590                        1.713033                     \n",
       "4 0.09555838                        1.916654                     \n",
       "5 0.09716769                        1.825688                     \n",
       "6 0.09643705                        1.766840                     \n",
       "  Transport.autres.navigations Transport.aerien.français\n",
       "1 0.6644131                    3.905902                 \n",
       "2 0.6834668                    4.020839                 \n",
       "3 0.7029440                    4.042567                 \n",
       "4 0.7360443                    4.031388                 \n",
       "5 0.7516966                    4.199581                 \n",
       "6 0.7894027                    4.774470                 "
      ]
     },
     "metadata": {},
     "output_type": "display_data"
    }
   ],
   "source": [
    "#création d'un data frame avec l''émissions des CO2e dans les sous-secteurs de l'industrie du transport entre 1990 et 2019 \n",
    "data3.3 = as.matrix(data3[,c(1,17:22)])\n",
    "data3.3 = data3[,c(1,17:22)]\n",
    "colnames(data3.3) <- c(\"Annee\",\"sous.total.Transport.routier\",\"Transport.ferroviaire\",\"Transport.fluvial.de.marchandises\",\"Transport.maritime.domestique\",\"Transport.autres.navigations\",\"Transport.aerien.français\")\n",
    "head(data3.3)"
   ]
  },
  {
   "cell_type": "code",
   "execution_count": null,
   "id": "33bbf893",
   "metadata": {},
   "outputs": [],
   "source": []
  },
  {
   "cell_type": "markdown",
   "id": "b52b8a5c",
   "metadata": {},
   "source": [
    "  #### Visualisation des données"
   ]
  },
  {
   "cell_type": "code",
   "execution_count": 93,
   "id": "52e822ec",
   "metadata": {},
   "outputs": [
    {
     "data": {
      "image/png": "[encoded data removed]",
      "text/plain": [
       "plot without title"
      ]
     },
     "metadata": {},
     "output_type": "display_data"
    }
   ],
   "source": [
    "ggplot(table3.1, aes(x=\"\",y=MtCO2e,fill =sous_secteur)) +\n",
    "  geom_bar(stat=\"identity\", width=1.5,color=\"black\") +\n",
    "  coord_polar(\"y\", start=0) +\n",
    "  scale_fill_manual(values = mycolors)+\n",
    "  ggtitle(\"Répartition des l'émission de CO2e par type de véhicules en 2019\") #+\n",
    "  #geom_label_repel(data = table3.1,\n",
    "                   #aes(y=MtCO2e,label = paste0(MtCO2e, \"%\")),\n",
    "                   #size = 3, nudge_x = 5, show.legend = TRUE)\n",
    "  #geom_label_repel(data=table3.1, aes(y = MtCO2e,\n",
    "   #                      label = glue::glue(\"{MtCO2e} ({scales::percent(MtCO2e)})\"), \n",
    "    #                     fill = sous_secteur),\n",
    "     #                size = 3,\n",
    "      #               nudge_x = 3,\n",
    "       #              show.legend = FALSE)\n",
    "  #geom_text(aes(label = paste0(MtCO2e, \"%\")), position = position_stack(vjust=0.5)) + labs(x =NULL, y = NULL, fill = NULL) \n",
    "  #scale_fill_manual(values = palette_Dark2(14))\n",
    "  #scale_fill_brewer(palette = 14,\"Dark2\")\n",
    "       "
   ]
  },
  {
   "cell_type": "raw",
   "id": "4fab7482",
   "metadata": {},
   "source": [
    "Figure 13"
   ]
  },
  {
   "cell_type": "code",
   "execution_count": 94,
   "id": "75f5230d",
   "metadata": {},
   "outputs": [
    {
     "data": {
      "image/png": "[encoded data removed]",
      "text/plain": [
       "plot without title"
      ]
     },
     "metadata": {},
     "output_type": "display_data"
    }
   ],
   "source": [
    "ggplot(table3.2, aes(x=\"\",y=MtCO2e,fill =sous_secteur)) +\n",
    "  geom_bar(stat=\"identity\", width=1.5,color=\"black\") +\n",
    "  coord_polar(\"y\", start=0) +\n",
    "  #scale_fill_brewer(\"Dark2\") +\n",
    "  scale_fill_manual(values = mycolors)+\n",
    "  ggtitle(\"Répartition des l'émission de CO2e par type de transport en 2019\") #+ \n",
    " # geom_label_repel(aes(y=MtCO2e, label=paste0(MtCO2e, \"%\")),\n",
    "  #                 data = table3.2,\n",
    "   #                size = 4, nudge_x = 8, show.legend = FALSE)"
   ]
  },
  {
   "cell_type": "raw",
   "id": "7117d058",
   "metadata": {},
   "source": [
    "Figure 14"
   ]
  },
  {
   "cell_type": "code",
   "execution_count": 95,
   "id": "33196ef2",
   "metadata": {},
   "outputs": [
    {
     "data": {
      "image/png": "[encoded data removed]",
      "text/plain": [
       "plot without title"
      ]
     },
     "metadata": {},
     "output_type": "display_data"
    }
   ],
   "source": [
    " ggplot(data3.3, aes(x=Annee)) + \n",
    "                geom_line(aes(y = sous.total.Transport.routier,colour = \"sous.total.Transport.routier\")) +\n",
    "                geom_line(aes(y =Transport.ferroviaire, colour = \"Transport.ferroviaire\")) +\n",
    "                geom_line(aes(y = Transport.fluvial.de.marchandises , colour = \"Transport.fluvial.de.marchandises\")) +\n",
    "                geom_line(aes(y = Transport.maritime.domestique , colour = \"Transport.maritime.domestique\"))+\n",
    "                geom_line(aes(y= Transport.autres.navigations , colour = \"Transport.autres.navigations\")) +\n",
    "                geom_line(aes(y= Transport.aerien.français , colour = \"Transport.aerien.français \")) +\n",
    "                ylab(\"MtCO2e\") +\n",
    "                ggtitle(\"Evolutions des émissions dans l'air de CO2e en France entre 1990 et 2019 \\n dans l'industie du Transport\")+\n",
    "                geom_text(data = NULL, aes(x = Annee[28], y = -1, label = \"2020 (estimation)\"),size=3) +\n",
    "                scale_color_manual(name=\"Legende\",values = mycolors) \n",
    "                #labs(color = \"Legende\") \n",
    "                #scale_color_manual(values = colors)              "
   ]
  },
  {
   "cell_type": "raw",
   "id": "3d1e377b",
   "metadata": {},
   "source": [
    "Figure 15"
   ]
  },
  {
   "cell_type": "markdown",
   "id": "3ddad1e5",
   "metadata": {},
   "source": [
    "### Emissions des gaz à effet de serre dans le secteur d'Usage des bâtiments et activités résidentiels/tertiaires"
   ]
  },
  {
   "cell_type": "markdown",
   "id": "0c7b028c",
   "metadata": {},
   "source": [
    "#### Importation des données"
   ]
  },
  {
   "cell_type": "raw",
   "id": "6516de2d",
   "metadata": {},
   "source": [
    "Le secteur tertiaire recouvre un vaste champ d'activités qui s'étend du commerce à l'administration, en passant par les transports, les activités financières et immobilières, les services aux entreprises et services aux particuliers, l'éducation, la santé et l'action sociale"
   ]
  },
  {
   "cell_type": "code",
   "execution_count": 96,
   "id": "0728953b",
   "metadata": {
    "vscode": {
     "languageId": "r"
    }
   },
   "outputs": [],
   "source": [
    "data4 = read.xlsx(\"C:/Users/MarieRogerNoahNoah/Documents/Projet IA/Emissions de gaz à effet de serre/secteur_usage_des_bâtiments_et_activités_résidentiels_tertiaires.xlsx\", sheetIndex = 1, header=TRUE)"
   ]
  },
  {
   "cell_type": "code",
   "execution_count": 97,
   "id": "7f506cfb",
   "metadata": {
    "vscode": {
     "languageId": "r"
    }
   },
   "outputs": [
    {
     "data": {
      "text/html": [
       "<table>\n",
       "<thead><tr><th scope=col>Annee</th><th scope=col>Chauffage..eau.chaude.sanitaire.et.cuisson.domestique</th><th scope=col>Climatisation.domestique</th><th scope=col>RÃ.frigÃ.ration.domestique</th><th scope=col>Utilisation.de.produits.domestiques..y.c..peintures..aÃ.rosols.</th><th scope=col>Engins..y.c..jardinage..domestiques</th><th scope=col>DÃ.chets.et.brÃ.lage.domestiques.et.eaux.usÃ.es</th><th scope=col>Autres.activitÃ.s.domestiques..tabac.et.feux.dâ..artifices.</th><th scope=col>sous.total.Usage.des.bÃ.timents.rÃ.sidentiels.et.activitÃ.s.domestiques</th><th scope=col>Chauffage..eau.chaude.sanitaire.et.cuisson.tertiaire</th><th scope=col>Climatisation.tertiaire</th><th scope=col>RÃ.frigÃ.ration.tertiaire</th><th scope=col>Utilisation.de.produits.tertiaires..y.c..solvants..peintures..aÃ.rosols..anesthÃ.sie.</th><th scope=col>Autres.activitÃ.s.tertiaires..y.c..feux.dâ..artifices..activitÃ.s.militaires..crÃ.mation.</th><th scope=col>sous.total.Usage.des.bÃ.timents.tertiaires.et.activitÃ.s.tertiaires</th><th scope=col>Total.Usage.des.bÃ.timents.et.activitÃ.s.rÃ.sidentiels.tertiaires</th></tr></thead>\n",
       "<tbody>\n",
       "\t<tr><td>1990        </td><td>57.93561    </td><td>0           </td><td>0.000000e+00</td><td>0.5908319   </td><td>0.3043401   </td><td>1.768333    </td><td>0           </td><td>60.59911    </td><td>26.36998    </td><td>0.0000000000</td><td>0.00000000  </td><td>0.1600136   </td><td>4.5190557   </td><td>31.04905    </td><td> 91.64817   </td></tr>\n",
       "\t<tr><td>1991        </td><td>65.44528    </td><td>0           </td><td>0.000000e+00</td><td>0.5922273   </td><td>0.3038066   </td><td>1.847774    </td><td>0           </td><td>68.18909    </td><td>28.59990    </td><td>0.0000000000</td><td>0.00000000  </td><td>0.1565320   </td><td>4.1612879   </td><td>32.91772    </td><td>101.10681   </td></tr>\n",
       "\t<tr><td>1992        </td><td>64.29549    </td><td>0           </td><td>0.000000e+00</td><td>0.5963998   </td><td>0.3033750   </td><td>1.918532    </td><td>0           </td><td>67.11380    </td><td>27.16723    </td><td>0.0004931448</td><td>0.00000000  </td><td>0.1549597   </td><td>2.8431152   </td><td>30.16580    </td><td> 97.27959   </td></tr>\n",
       "\t<tr><td>1993        </td><td>62.43144    </td><td>0           </td><td>0.000000e+00</td><td>0.5905227   </td><td>0.3027478   </td><td>1.991854    </td><td>0           </td><td>65.31656    </td><td>25.83523    </td><td>0.0025448711</td><td>0.01506607  </td><td>0.1525237   </td><td>2.3762248   </td><td>28.38159    </td><td> 93.69815   </td></tr>\n",
       "\t<tr><td>1994        </td><td>58.58816    </td><td>0           </td><td>2.406141e-05</td><td>0.6397844   </td><td>0.3023357   </td><td>2.064415    </td><td>0           </td><td>61.59472    </td><td>24.34463    </td><td>0.0073336261</td><td>0.04391767  </td><td>0.2754963   </td><td>1.1007945   </td><td>25.77217    </td><td> 87.36689   </td></tr>\n",
       "\t<tr><td>1995        </td><td>58.20838    </td><td>0           </td><td>6.836572e-05</td><td>0.8792071   </td><td>0.3020707   </td><td>2.142500    </td><td>0           </td><td>61.53222    </td><td>24.54123    </td><td>0.0131750231</td><td>0.11531552  </td><td>0.4569313   </td><td>0.6128363   </td><td>25.73949    </td><td> 87.27171   </td></tr>\n",
       "</tbody>\n",
       "</table>\n"
      ],
      "text/latex": [
       "\\begin{tabular}{r|llllllllllllllll}\n",
       " Annee & Chauffage..eau.chaude.sanitaire.et.cuisson.domestique & Climatisation.domestique & RÃ.frigÃ.ration.domestique & Utilisation.de.produits.domestiques..y.c..peintures..aÃ.rosols. & Engins..y.c..jardinage..domestiques & DÃ.chets.et.brÃ.lage.domestiques.et.eaux.usÃ.es & Autres.activitÃ.s.domestiques..tabac.et.feux.dâ..artifices. & sous.total.Usage.des.bÃ.timents.rÃ.sidentiels.et.activitÃ.s.domestiques & Chauffage..eau.chaude.sanitaire.et.cuisson.tertiaire & Climatisation.tertiaire & RÃ.frigÃ.ration.tertiaire & Utilisation.de.produits.tertiaires..y.c..solvants..peintures..aÃ.rosols..anesthÃ.sie. & Autres.activitÃ.s.tertiaires..y.c..feux.dâ..artifices..activitÃ.s.militaires..crÃ.mation. & sous.total.Usage.des.bÃ.timents.tertiaires.et.activitÃ.s.tertiaires & Total.Usage.des.bÃ.timents.et.activitÃ.s.rÃ.sidentiels.tertiaires\\\\\n",
       "\\hline\n",
       "\t 1990         & 57.93561     & 0            & 0.000000e+00 & 0.5908319    & 0.3043401    & 1.768333     & 0            & 60.59911     & 26.36998     & 0.0000000000 & 0.00000000   & 0.1600136    & 4.5190557    & 31.04905     &  91.64817   \\\\\n",
       "\t 1991         & 65.44528     & 0            & 0.000000e+00 & 0.5922273    & 0.3038066    & 1.847774     & 0            & 68.18909     & 28.59990     & 0.0000000000 & 0.00000000   & 0.1565320    & 4.1612879    & 32.91772     & 101.10681   \\\\\n",
       "\t 1992         & 64.29549     & 0            & 0.000000e+00 & 0.5963998    & 0.3033750    & 1.918532     & 0            & 67.11380     & 27.16723     & 0.0004931448 & 0.00000000   & 0.1549597    & 2.8431152    & 30.16580     &  97.27959   \\\\\n",
       "\t 1993         & 62.43144     & 0            & 0.000000e+00 & 0.5905227    & 0.3027478    & 1.991854     & 0            & 65.31656     & 25.83523     & 0.0025448711 & 0.01506607   & 0.1525237    & 2.3762248    & 28.38159     &  93.69815   \\\\\n",
       "\t 1994         & 58.58816     & 0            & 2.406141e-05 & 0.6397844    & 0.3023357    & 2.064415     & 0            & 61.59472     & 24.34463     & 0.0073336261 & 0.04391767   & 0.2754963    & 1.1007945    & 25.77217     &  87.36689   \\\\\n",
       "\t 1995         & 58.20838     & 0            & 6.836572e-05 & 0.8792071    & 0.3020707    & 2.142500     & 0            & 61.53222     & 24.54123     & 0.0131750231 & 0.11531552   & 0.4569313    & 0.6128363    & 25.73949     &  87.27171   \\\\\n",
       "\\end{tabular}\n"
      ],
      "text/markdown": [
       "\n",
       "| Annee | Chauffage..eau.chaude.sanitaire.et.cuisson.domestique | Climatisation.domestique | RÃ.frigÃ.ration.domestique | Utilisation.de.produits.domestiques..y.c..peintures..aÃ.rosols. | Engins..y.c..jardinage..domestiques | DÃ.chets.et.brÃ.lage.domestiques.et.eaux.usÃ.es | Autres.activitÃ.s.domestiques..tabac.et.feux.dâ..artifices. | sous.total.Usage.des.bÃ.timents.rÃ.sidentiels.et.activitÃ.s.domestiques | Chauffage..eau.chaude.sanitaire.et.cuisson.tertiaire | Climatisation.tertiaire | RÃ.frigÃ.ration.tertiaire | Utilisation.de.produits.tertiaires..y.c..solvants..peintures..aÃ.rosols..anesthÃ.sie. | Autres.activitÃ.s.tertiaires..y.c..feux.dâ..artifices..activitÃ.s.militaires..crÃ.mation. | sous.total.Usage.des.bÃ.timents.tertiaires.et.activitÃ.s.tertiaires | Total.Usage.des.bÃ.timents.et.activitÃ.s.rÃ.sidentiels.tertiaires |\n",
       "|---|---|---|---|---|---|---|---|---|---|---|---|---|---|---|---|\n",
       "| 1990         | 57.93561     | 0            | 0.000000e+00 | 0.5908319    | 0.3043401    | 1.768333     | 0            | 60.59911     | 26.36998     | 0.0000000000 | 0.00000000   | 0.1600136    | 4.5190557    | 31.04905     |  91.64817    |\n",
       "| 1991         | 65.44528     | 0            | 0.000000e+00 | 0.5922273    | 0.3038066    | 1.847774     | 0            | 68.18909     | 28.59990     | 0.0000000000 | 0.00000000   | 0.1565320    | 4.1612879    | 32.91772     | 101.10681    |\n",
       "| 1992         | 64.29549     | 0            | 0.000000e+00 | 0.5963998    | 0.3033750    | 1.918532     | 0            | 67.11380     | 27.16723     | 0.0004931448 | 0.00000000   | 0.1549597    | 2.8431152    | 30.16580     |  97.27959    |\n",
       "| 1993         | 62.43144     | 0            | 0.000000e+00 | 0.5905227    | 0.3027478    | 1.991854     | 0            | 65.31656     | 25.83523     | 0.0025448711 | 0.01506607   | 0.1525237    | 2.3762248    | 28.38159     |  93.69815    |\n",
       "| 1994         | 58.58816     | 0            | 2.406141e-05 | 0.6397844    | 0.3023357    | 2.064415     | 0            | 61.59472     | 24.34463     | 0.0073336261 | 0.04391767   | 0.2754963    | 1.1007945    | 25.77217     |  87.36689    |\n",
       "| 1995         | 58.20838     | 0            | 6.836572e-05 | 0.8792071    | 0.3020707    | 2.142500     | 0            | 61.53222     | 24.54123     | 0.0131750231 | 0.11531552   | 0.4569313    | 0.6128363    | 25.73949     |  87.27171    |\n",
       "\n"
      ],
      "text/plain": [
       "  Annee Chauffage..eau.chaude.sanitaire.et.cuisson.domestique\n",
       "1 1990  57.93561                                             \n",
       "2 1991  65.44528                                             \n",
       "3 1992  64.29549                                             \n",
       "4 1993  62.43144                                             \n",
       "5 1994  58.58816                                             \n",
       "6 1995  58.20838                                             \n",
       "  Climatisation.domestique RÃ.frigÃ.ration.domestique\n",
       "1 0                        0.000000e+00              \n",
       "2 0                        0.000000e+00              \n",
       "3 0                        0.000000e+00              \n",
       "4 0                        0.000000e+00              \n",
       "5 0                        2.406141e-05              \n",
       "6 0                        6.836572e-05              \n",
       "  Utilisation.de.produits.domestiques..y.c..peintures..aÃ.rosols.\n",
       "1 0.5908319                                                      \n",
       "2 0.5922273                                                      \n",
       "3 0.5963998                                                      \n",
       "4 0.5905227                                                      \n",
       "5 0.6397844                                                      \n",
       "6 0.8792071                                                      \n",
       "  Engins..y.c..jardinage..domestiques\n",
       "1 0.3043401                          \n",
       "2 0.3038066                          \n",
       "3 0.3033750                          \n",
       "4 0.3027478                          \n",
       "5 0.3023357                          \n",
       "6 0.3020707                          \n",
       "  DÃ.chets.et.brÃ.lage.domestiques.et.eaux.usÃ.es\n",
       "1 1.768333                                       \n",
       "2 1.847774                                       \n",
       "3 1.918532                                       \n",
       "4 1.991854                                       \n",
       "5 2.064415                                       \n",
       "6 2.142500                                       \n",
       "  Autres.activitÃ.s.domestiques..tabac.et.feux.dâ..artifices.\n",
       "1 0                                                          \n",
       "2 0                                                          \n",
       "3 0                                                          \n",
       "4 0                                                          \n",
       "5 0                                                          \n",
       "6 0                                                          \n",
       "  sous.total.Usage.des.bÃ.timents.rÃ.sidentiels.et.activitÃ.s.domestiques\n",
       "1 60.59911                                                               \n",
       "2 68.18909                                                               \n",
       "3 67.11380                                                               \n",
       "4 65.31656                                                               \n",
       "5 61.59472                                                               \n",
       "6 61.53222                                                               \n",
       "  Chauffage..eau.chaude.sanitaire.et.cuisson.tertiaire Climatisation.tertiaire\n",
       "1 26.36998                                             0.0000000000           \n",
       "2 28.59990                                             0.0000000000           \n",
       "3 27.16723                                             0.0004931448           \n",
       "4 25.83523                                             0.0025448711           \n",
       "5 24.34463                                             0.0073336261           \n",
       "6 24.54123                                             0.0131750231           \n",
       "  RÃ.frigÃ.ration.tertiaire\n",
       "1 0.00000000               \n",
       "2 0.00000000               \n",
       "3 0.00000000               \n",
       "4 0.01506607               \n",
       "5 0.04391767               \n",
       "6 0.11531552               \n",
       "  Utilisation.de.produits.tertiaires..y.c..solvants..peintures..aÃ.rosols..anesthÃ.sie.\n",
       "1 0.1600136                                                                            \n",
       "2 0.1565320                                                                            \n",
       "3 0.1549597                                                                            \n",
       "4 0.1525237                                                                            \n",
       "5 0.2754963                                                                            \n",
       "6 0.4569313                                                                            \n",
       "  Autres.activitÃ.s.tertiaires..y.c..feux.dâ..artifices..activitÃ.s.militaires..crÃ.mation.\n",
       "1 4.5190557                                                                                \n",
       "2 4.1612879                                                                                \n",
       "3 2.8431152                                                                                \n",
       "4 2.3762248                                                                                \n",
       "5 1.1007945                                                                                \n",
       "6 0.6128363                                                                                \n",
       "  sous.total.Usage.des.bÃ.timents.tertiaires.et.activitÃ.s.tertiaires\n",
       "1 31.04905                                                           \n",
       "2 32.91772                                                           \n",
       "3 30.16580                                                           \n",
       "4 28.38159                                                           \n",
       "5 25.77217                                                           \n",
       "6 25.73949                                                           \n",
       "  Total.Usage.des.bÃ.timents.et.activitÃ.s.rÃ.sidentiels.tertiaires\n",
       "1  91.64817                                                        \n",
       "2 101.10681                                                        \n",
       "3  97.27959                                                        \n",
       "4  93.69815                                                        \n",
       "5  87.36689                                                        \n",
       "6  87.27171                                                        "
      ]
     },
     "metadata": {},
     "output_type": "display_data"
    }
   ],
   "source": [
    "head(data4)"
   ]
  },
  {
   "cell_type": "code",
   "execution_count": 98,
   "id": "05aeeda6",
   "metadata": {
    "vscode": {
     "languageId": "r"
    }
   },
   "outputs": [],
   "source": [
    "colnames(data4) <- c(\"Annee\",\"chauffage.eau.chaude\\nsanitaire.cuisson.domestique\",\"Climatisation.domestique\",\"Réfrigération.domestique\",\"Utilistion.produits\\ndomestiques\",\"Engins.domestiques\",\"Déchêts.brûlage.domestique\\neaux.usées\",\"Autres.activités.domestiques\",\"sous-totale.usage.bâtiments.activités.domestique\",\"Chauffage.eau.chaude\\nsanitaire.cuisson.tertiaire\",\"Climatisation.tertiaire\",\"Réfrigération.tertiaire\",\"Utilisation.de.produit.tertiaire\",\"Autres.activités.tertiaire\",\"sous-total.Usage.bâtiments.tertiaires.activités.tertiaires\",\"Total.secteur\")"
   ]
  },
  {
   "cell_type": "code",
   "execution_count": 99,
   "id": "4355b7ef",
   "metadata": {
    "vscode": {
     "languageId": "r"
    }
   },
   "outputs": [
    {
     "data": {
      "text/html": [
       "<table>\n",
       "<thead><tr><th scope=col>Annee</th><th scope=col>chauffage.eau.chaude\n",
       "sanitaire.cuisson.domestique</th><th scope=col>Climatisation.domestique</th><th scope=col>Réfrigération.domestique</th><th scope=col>Utilistion.produits\n",
       "domestiques</th><th scope=col>Engins.domestiques</th><th scope=col>Déchêts.brûlage.domestique\n",
       "eaux.usées</th><th scope=col>Autres.activités.domestiques</th><th scope=col>sous-totale.usage.bâtiments.activités.domestique</th><th scope=col>Chauffage.eau.chaude\n",
       "sanitaire.cuisson.tertiaire</th><th scope=col>Climatisation.tertiaire</th><th scope=col>Réfrigération.tertiaire</th><th scope=col>Utilisation.de.produit.tertiaire</th><th scope=col>Autres.activités.tertiaire</th><th scope=col>sous-total.Usage.bâtiments.tertiaires.activités.tertiaires</th><th scope=col>Total.secteur</th></tr></thead>\n",
       "<tbody>\n",
       "\t<tr><td>1990        </td><td>57.93561    </td><td>0           </td><td>0.000000e+00</td><td>0.5908319   </td><td>0.3043401   </td><td>1.768333    </td><td>0           </td><td>60.59911    </td><td>26.36998    </td><td>0.0000000000</td><td>0.00000000  </td><td>0.1600136   </td><td>4.5190557   </td><td>31.04905    </td><td> 91.64817   </td></tr>\n",
       "\t<tr><td>1991        </td><td>65.44528    </td><td>0           </td><td>0.000000e+00</td><td>0.5922273   </td><td>0.3038066   </td><td>1.847774    </td><td>0           </td><td>68.18909    </td><td>28.59990    </td><td>0.0000000000</td><td>0.00000000  </td><td>0.1565320   </td><td>4.1612879   </td><td>32.91772    </td><td>101.10681   </td></tr>\n",
       "\t<tr><td>1992        </td><td>64.29549    </td><td>0           </td><td>0.000000e+00</td><td>0.5963998   </td><td>0.3033750   </td><td>1.918532    </td><td>0           </td><td>67.11380    </td><td>27.16723    </td><td>0.0004931448</td><td>0.00000000  </td><td>0.1549597   </td><td>2.8431152   </td><td>30.16580    </td><td> 97.27959   </td></tr>\n",
       "\t<tr><td>1993        </td><td>62.43144    </td><td>0           </td><td>0.000000e+00</td><td>0.5905227   </td><td>0.3027478   </td><td>1.991854    </td><td>0           </td><td>65.31656    </td><td>25.83523    </td><td>0.0025448711</td><td>0.01506607  </td><td>0.1525237   </td><td>2.3762248   </td><td>28.38159    </td><td> 93.69815   </td></tr>\n",
       "\t<tr><td>1994        </td><td>58.58816    </td><td>0           </td><td>2.406141e-05</td><td>0.6397844   </td><td>0.3023357   </td><td>2.064415    </td><td>0           </td><td>61.59472    </td><td>24.34463    </td><td>0.0073336261</td><td>0.04391767  </td><td>0.2754963   </td><td>1.1007945   </td><td>25.77217    </td><td> 87.36689   </td></tr>\n",
       "\t<tr><td>1995        </td><td>58.20838    </td><td>0           </td><td>6.836572e-05</td><td>0.8792071   </td><td>0.3020707   </td><td>2.142500    </td><td>0           </td><td>61.53222    </td><td>24.54123    </td><td>0.0131750231</td><td>0.11531552  </td><td>0.4569313   </td><td>0.6128363   </td><td>25.73949    </td><td> 87.27171   </td></tr>\n",
       "</tbody>\n",
       "</table>\n"
      ],
      "text/latex": [
       "\\begin{tabular}{r|llllllllllllllll}\n",
       " Annee & chauffage.eau.chaude\n",
       "sanitaire.cuisson.domestique & Climatisation.domestique & Réfrigération.domestique & Utilistion.produits\n",
       "domestiques & Engins.domestiques & Déchêts.brûlage.domestique\n",
       "eaux.usées & Autres.activités.domestiques & sous-totale.usage.bâtiments.activités.domestique & Chauffage.eau.chaude\n",
       "sanitaire.cuisson.tertiaire & Climatisation.tertiaire & Réfrigération.tertiaire & Utilisation.de.produit.tertiaire & Autres.activités.tertiaire & sous-total.Usage.bâtiments.tertiaires.activités.tertiaires & Total.secteur\\\\\n",
       "\\hline\n",
       "\t 1990         & 57.93561     & 0            & 0.000000e+00 & 0.5908319    & 0.3043401    & 1.768333     & 0            & 60.59911     & 26.36998     & 0.0000000000 & 0.00000000   & 0.1600136    & 4.5190557    & 31.04905     &  91.64817   \\\\\n",
       "\t 1991         & 65.44528     & 0            & 0.000000e+00 & 0.5922273    & 0.3038066    & 1.847774     & 0            & 68.18909     & 28.59990     & 0.0000000000 & 0.00000000   & 0.1565320    & 4.1612879    & 32.91772     & 101.10681   \\\\\n",
       "\t 1992         & 64.29549     & 0            & 0.000000e+00 & 0.5963998    & 0.3033750    & 1.918532     & 0            & 67.11380     & 27.16723     & 0.0004931448 & 0.00000000   & 0.1549597    & 2.8431152    & 30.16580     &  97.27959   \\\\\n",
       "\t 1993         & 62.43144     & 0            & 0.000000e+00 & 0.5905227    & 0.3027478    & 1.991854     & 0            & 65.31656     & 25.83523     & 0.0025448711 & 0.01506607   & 0.1525237    & 2.3762248    & 28.38159     &  93.69815   \\\\\n",
       "\t 1994         & 58.58816     & 0            & 2.406141e-05 & 0.6397844    & 0.3023357    & 2.064415     & 0            & 61.59472     & 24.34463     & 0.0073336261 & 0.04391767   & 0.2754963    & 1.1007945    & 25.77217     &  87.36689   \\\\\n",
       "\t 1995         & 58.20838     & 0            & 6.836572e-05 & 0.8792071    & 0.3020707    & 2.142500     & 0            & 61.53222     & 24.54123     & 0.0131750231 & 0.11531552   & 0.4569313    & 0.6128363    & 25.73949     &  87.27171   \\\\\n",
       "\\end{tabular}\n"
      ],
      "text/markdown": [
       "\n",
       "| Annee | chauffage.eau.chaude\n",
       "sanitaire.cuisson.domestique | Climatisation.domestique | Réfrigération.domestique | Utilistion.produits\n",
       "domestiques | Engins.domestiques | Déchêts.brûlage.domestique\n",
       "eaux.usées | Autres.activités.domestiques | sous-totale.usage.bâtiments.activités.domestique | Chauffage.eau.chaude\n",
       "sanitaire.cuisson.tertiaire | Climatisation.tertiaire | Réfrigération.tertiaire | Utilisation.de.produit.tertiaire | Autres.activités.tertiaire | sous-total.Usage.bâtiments.tertiaires.activités.tertiaires | Total.secteur |\n",
       "|---|---|---|---|---|---|---|---|---|---|---|---|---|---|---|---|\n",
       "| 1990         | 57.93561     | 0            | 0.000000e+00 | 0.5908319    | 0.3043401    | 1.768333     | 0            | 60.59911     | 26.36998     | 0.0000000000 | 0.00000000   | 0.1600136    | 4.5190557    | 31.04905     |  91.64817    |\n",
       "| 1991         | 65.44528     | 0            | 0.000000e+00 | 0.5922273    | 0.3038066    | 1.847774     | 0            | 68.18909     | 28.59990     | 0.0000000000 | 0.00000000   | 0.1565320    | 4.1612879    | 32.91772     | 101.10681    |\n",
       "| 1992         | 64.29549     | 0            | 0.000000e+00 | 0.5963998    | 0.3033750    | 1.918532     | 0            | 67.11380     | 27.16723     | 0.0004931448 | 0.00000000   | 0.1549597    | 2.8431152    | 30.16580     |  97.27959    |\n",
       "| 1993         | 62.43144     | 0            | 0.000000e+00 | 0.5905227    | 0.3027478    | 1.991854     | 0            | 65.31656     | 25.83523     | 0.0025448711 | 0.01506607   | 0.1525237    | 2.3762248    | 28.38159     |  93.69815    |\n",
       "| 1994         | 58.58816     | 0            | 2.406141e-05 | 0.6397844    | 0.3023357    | 2.064415     | 0            | 61.59472     | 24.34463     | 0.0073336261 | 0.04391767   | 0.2754963    | 1.1007945    | 25.77217     |  87.36689    |\n",
       "| 1995         | 58.20838     | 0            | 6.836572e-05 | 0.8792071    | 0.3020707    | 2.142500     | 0            | 61.53222     | 24.54123     | 0.0131750231 | 0.11531552   | 0.4569313    | 0.6128363    | 25.73949     |  87.27171    |\n",
       "\n"
      ],
      "text/plain": [
       "  Annee chauffage.eau.chaude\\nsanitaire.cuisson.domestique\n",
       "1 1990  57.93561                                          \n",
       "2 1991  65.44528                                          \n",
       "3 1992  64.29549                                          \n",
       "4 1993  62.43144                                          \n",
       "5 1994  58.58816                                          \n",
       "6 1995  58.20838                                          \n",
       "  Climatisation.domestique Réfrigération.domestique\n",
       "1 0                        0.000000e+00            \n",
       "2 0                        0.000000e+00            \n",
       "3 0                        0.000000e+00            \n",
       "4 0                        0.000000e+00            \n",
       "5 0                        2.406141e-05            \n",
       "6 0                        6.836572e-05            \n",
       "  Utilistion.produits\\ndomestiques Engins.domestiques\n",
       "1 0.5908319                        0.3043401         \n",
       "2 0.5922273                        0.3038066         \n",
       "3 0.5963998                        0.3033750         \n",
       "4 0.5905227                        0.3027478         \n",
       "5 0.6397844                        0.3023357         \n",
       "6 0.8792071                        0.3020707         \n",
       "  Déchêts.brûlage.domestique\\neaux.usées Autres.activités.domestiques\n",
       "1 1.768333                               0                           \n",
       "2 1.847774                               0                           \n",
       "3 1.918532                               0                           \n",
       "4 1.991854                               0                           \n",
       "5 2.064415                               0                           \n",
       "6 2.142500                               0                           \n",
       "  sous-totale.usage.bâtiments.activités.domestique\n",
       "1 60.59911                                        \n",
       "2 68.18909                                        \n",
       "3 67.11380                                        \n",
       "4 65.31656                                        \n",
       "5 61.59472                                        \n",
       "6 61.53222                                        \n",
       "  Chauffage.eau.chaude\\nsanitaire.cuisson.tertiaire Climatisation.tertiaire\n",
       "1 26.36998                                          0.0000000000           \n",
       "2 28.59990                                          0.0000000000           \n",
       "3 27.16723                                          0.0004931448           \n",
       "4 25.83523                                          0.0025448711           \n",
       "5 24.34463                                          0.0073336261           \n",
       "6 24.54123                                          0.0131750231           \n",
       "  Réfrigération.tertiaire Utilisation.de.produit.tertiaire\n",
       "1 0.00000000              0.1600136                       \n",
       "2 0.00000000              0.1565320                       \n",
       "3 0.00000000              0.1549597                       \n",
       "4 0.01506607              0.1525237                       \n",
       "5 0.04391767              0.2754963                       \n",
       "6 0.11531552              0.4569313                       \n",
       "  Autres.activités.tertiaire\n",
       "1 4.5190557                 \n",
       "2 4.1612879                 \n",
       "3 2.8431152                 \n",
       "4 2.3762248                 \n",
       "5 1.1007945                 \n",
       "6 0.6128363                 \n",
       "  sous-total.Usage.bâtiments.tertiaires.activités.tertiaires Total.secteur\n",
       "1 31.04905                                                    91.64817    \n",
       "2 32.91772                                                   101.10681    \n",
       "3 30.16580                                                    97.27959    \n",
       "4 28.38159                                                    93.69815    \n",
       "5 25.77217                                                    87.36689    \n",
       "6 25.73949                                                    87.27171    "
      ]
     },
     "metadata": {},
     "output_type": "display_data"
    }
   ],
   "source": [
    "head(data4)"
   ]
  },
  {
   "cell_type": "code",
   "execution_count": 100,
   "id": "8c9de700",
   "metadata": {},
   "outputs": [],
   "source": [
    "data4$Annee = as.Date(data4$Annee, format=\"%Y\")"
   ]
  },
  {
   "cell_type": "code",
   "execution_count": 101,
   "id": "27488da9",
   "metadata": {},
   "outputs": [
    {
     "name": "stdout",
     "output_type": "stream",
     "text": [
      "'data.frame':\t31 obs. of  16 variables:\n",
      " $ Annee                                                     : Date, format: \"1990-05-20\" \"1991-05-20\" ...\n",
      " $ chauffage.eau.chaude\n",
      "sanitaire.cuisson.domestique        : num  57.9 65.4 64.3 62.4 58.6 ...\n",
      " $ Climatisation.domestique                                  : num  0 0 0 0 0 0 0 0 0 0 ...\n",
      " $ Réfrigération.domestique                                  : num  0.00 0.00 0.00 0.00 2.41e-05 ...\n",
      " $ Utilistion.produits\n",
      "domestiques                          : num  0.591 0.592 0.596 0.591 0.64 ...\n",
      " $ Engins.domestiques                                        : num  0.304 0.304 0.303 0.303 0.302 ...\n",
      " $ Déchêts.brûlage.domestique\n",
      "eaux.usées                    : num  1.77 1.85 1.92 1.99 2.06 ...\n",
      " $ Autres.activités.domestiques                              : num  0 0 0 0 0 0 0 0 0 0 ...\n",
      " $ sous-totale.usage.bâtiments.activités.domestique          : num  60.6 68.2 67.1 65.3 61.6 ...\n",
      " $ Chauffage.eau.chaude\n",
      "sanitaire.cuisson.tertiaire         : num  26.4 28.6 27.2 25.8 24.3 ...\n",
      " $ Climatisation.tertiaire                                   : num  0 0 0.000493 0.002545 0.007334 ...\n",
      " $ Réfrigération.tertiaire                                   : num  0 0 0 0.0151 0.0439 ...\n",
      " $ Utilisation.de.produit.tertiaire                          : num  0.16 0.157 0.155 0.153 0.275 ...\n",
      " $ Autres.activités.tertiaire                                : num  4.52 4.16 2.84 2.38 1.1 ...\n",
      " $ sous-total.Usage.bâtiments.tertiaires.activités.tertiaires: num  31 32.9 30.2 28.4 25.8 ...\n",
      " $ Total.secteur                                             : num  91.6 101.1 97.3 93.7 87.4 ...\n"
     ]
    }
   ],
   "source": [
    "str(data4)"
   ]
  },
  {
   "cell_type": "code",
   "execution_count": 102,
   "id": "d204cc14",
   "metadata": {},
   "outputs": [
    {
     "data": {
      "text/plain": [
       "     Annee            chauffage.eau.chaude\\nsanitaire.cuisson.domestique\n",
       " Min.   :1990-05-20   Min.   :38.70                                     \n",
       " 1st Qu.:1997-11-18   1st Qu.:52.70                                     \n",
       " Median :2005-05-20   Median :59.99                                     \n",
       " Mean   :2005-05-19   Mean   :56.78                                     \n",
       " 3rd Qu.:2012-11-18   3rd Qu.:62.81                                     \n",
       " Max.   :2020-05-20   Max.   :66.55                                     \n",
       " Climatisation.domestique Réfrigération.domestique\n",
       " Min.   :0.0000           Min.   :0.000000        \n",
       " 1st Qu.:0.0000           1st Qu.:0.000164        \n",
       " Median :0.1739           Median :0.057582        \n",
       " Mean   :0.3887           Mean   :0.063741        \n",
       " 3rd Qu.:0.7075           3rd Qu.:0.108454        \n",
       " Max.   :1.2348           Max.   :0.175778        \n",
       " Utilistion.produits\\ndomestiques Engins.domestiques\n",
       " Min.   :0.5905                   Min.   :0.2412    \n",
       " 1st Qu.:1.1365                   1st Qu.:0.2847    \n",
       " Median :1.5511                   Median :0.2977    \n",
       " Mean   :1.4314                   Mean   :0.2919    \n",
       " 3rd Qu.:1.7196                   3rd Qu.:0.3006    \n",
       " Max.   :2.1214                   Max.   :0.3043    \n",
       " Déchêts.brûlage.domestique\\neaux.usées Autres.activités.domestiques\n",
       " Min.   :1.768                          Min.   :0                   \n",
       " 1st Qu.:2.307                          1st Qu.:0                   \n",
       " Median :2.377                          Median :0                   \n",
       " Mean   :2.317                          Mean   :0                   \n",
       " 3rd Qu.:2.448                          3rd Qu.:0                   \n",
       " Max.   :2.529                          Max.   :0                   \n",
       " sous-totale.usage.bâtiments.activités.domestique\n",
       " Min.   :43.73                                   \n",
       " 1st Qu.:57.84                                   \n",
       " Median :64.24                                   \n",
       " Mean   :61.27                                   \n",
       " 3rd Qu.:67.19                                   \n",
       " Max.   :71.30                                   \n",
       " Chauffage.eau.chaude\\nsanitaire.cuisson.tertiaire Climatisation.tertiaire\n",
       " Min.   :20.24                                     Min.   :0.0000         \n",
       " 1st Qu.:22.51                                     1st Qu.:0.0497         \n",
       " Median :24.54                                     Median :0.7547         \n",
       " Mean   :24.38                                     Mean   :0.9088         \n",
       " 3rd Qu.:26.20                                     3rd Qu.:1.7633         \n",
       " Max.   :28.60                                     Max.   :2.0334         \n",
       " Réfrigération.tertiaire Utilisation.de.produit.tertiaire\n",
       " Min.   :0.0000          Min.   :0.1525                  \n",
       " 1st Qu.:0.4998          1st Qu.:0.4813                  \n",
       " Median :3.7721          Median :0.7783                  \n",
       " Mean   :3.1122          Mean   :0.6563                  \n",
       " 3rd Qu.:5.2647          3rd Qu.:0.8411                  \n",
       " Max.   :6.0453          Max.   :0.9171                  \n",
       " Autres.activités.tertiaire\n",
       " Min.   :0.004683          \n",
       " 1st Qu.:1.536997          \n",
       " Median :2.255499          \n",
       " Mean   :2.161724          \n",
       " 3rd Qu.:2.666337          \n",
       " Max.   :4.519056          \n",
       " sous-total.Usage.bâtiments.tertiaires.activités.tertiaires Total.secteur   \n",
       " Min.   :25.74                                              Min.   : 69.94  \n",
       " 1st Qu.:29.09                                              1st Qu.: 87.32  \n",
       " Median :31.15                                              Median : 94.42  \n",
       " Mean   :31.22                                              Mean   : 92.49  \n",
       " 3rd Qu.:33.15                                              3rd Qu.: 99.62  \n",
       " Max.   :37.10                                              Max.   :105.48  "
      ]
     },
     "metadata": {},
     "output_type": "display_data"
    }
   ],
   "source": [
    "summary(data4)"
   ]
  },
  {
   "cell_type": "code",
   "execution_count": 103,
   "id": "ad72d35e",
   "metadata": {},
   "outputs": [
    {
     "data": {
      "text/html": [
       "<table>\n",
       "<thead><tr><th></th><th scope=col>Annee</th><th scope=col>chauffage.eau.chaude\n",
       "sanitaire.cuisson.domestique</th><th scope=col>Climatisation.domestique</th><th scope=col>Réfrigération.domestique</th><th scope=col>Utilistion.produits\n",
       "domestiques</th><th scope=col>Engins.domestiques</th><th scope=col>Déchêts.brûlage.domestique\n",
       "eaux.usées</th></tr></thead>\n",
       "<tbody>\n",
       "\t<tr><th scope=row>30</th><td>2019-05-20</td><td>40.98123  </td><td>1.234811  </td><td>0.09046791</td><td>0.9770707 </td><td>0.2798087 </td><td>2.493569  </td></tr>\n",
       "</tbody>\n",
       "</table>\n"
      ],
      "text/latex": [
       "\\begin{tabular}{r|lllllll}\n",
       "  & Annee & chauffage.eau.chaude\n",
       "sanitaire.cuisson.domestique & Climatisation.domestique & Réfrigération.domestique & Utilistion.produits\n",
       "domestiques & Engins.domestiques & Déchêts.brûlage.domestique\n",
       "eaux.usées\\\\\n",
       "\\hline\n",
       "\t30 & 2019-05-20 & 40.98123   & 1.234811   & 0.09046791 & 0.9770707  & 0.2798087  & 2.493569  \\\\\n",
       "\\end{tabular}\n"
      ],
      "text/markdown": [
       "\n",
       "| <!--/--> | Annee | chauffage.eau.chaude\n",
       "sanitaire.cuisson.domestique | Climatisation.domestique | Réfrigération.domestique | Utilistion.produits\n",
       "domestiques | Engins.domestiques | Déchêts.brûlage.domestique\n",
       "eaux.usées |\n",
       "|---|---|---|---|---|---|---|---|\n",
       "| 30 | 2019-05-20 | 40.98123   | 1.234811   | 0.09046791 | 0.9770707  | 0.2798087  | 2.493569   |\n",
       "\n"
      ],
      "text/plain": [
       "   Annee      chauffage.eau.chaude\\nsanitaire.cuisson.domestique\n",
       "30 2019-05-20 40.98123                                          \n",
       "   Climatisation.domestique Réfrigération.domestique\n",
       "30 1.234811                 0.09046791              \n",
       "   Utilistion.produits\\ndomestiques Engins.domestiques\n",
       "30 0.9770707                        0.2798087         \n",
       "   Déchêts.brûlage.domestique\\neaux.usées\n",
       "30 2.493569                              "
      ]
     },
     "metadata": {},
     "output_type": "display_data"
    }
   ],
   "source": [
    "# suppression de la colonne Autres.activités.domestiques car contient des valeurs nulles\n",
    "data4.1 = data4[30,1:7] \n",
    "head(data4.1)"
   ]
  },
  {
   "cell_type": "code",
   "execution_count": 104,
   "id": "faa397f9",
   "metadata": {
    "scrolled": true
   },
   "outputs": [
    {
     "data": {
      "text/html": [
       "<table>\n",
       "<thead><tr><th></th><th scope=col>chauffage.eau.chaude\n",
       "sanitaire.cuisson.domestique</th><th scope=col>Climatisation.domestique</th><th scope=col>Réfrigération.domestique</th><th scope=col>Utilistion.produits\n",
       "domestiques</th><th scope=col>Engins.domestiques</th><th scope=col>Déchêts.brûlage.domestique\n",
       "eaux.usées</th></tr></thead>\n",
       "<tbody>\n",
       "\t<tr><th scope=row>30</th><td>88.979</td><td>2.681 </td><td>0.196 </td><td>2.121 </td><td>0.608 </td><td>5.414 </td></tr>\n",
       "</tbody>\n",
       "</table>\n"
      ],
      "text/latex": [
       "\\begin{tabular}{r|llllll}\n",
       "  & chauffage.eau.chaude\n",
       "sanitaire.cuisson.domestique & Climatisation.domestique & Réfrigération.domestique & Utilistion.produits\n",
       "domestiques & Engins.domestiques & Déchêts.brûlage.domestique\n",
       "eaux.usées\\\\\n",
       "\\hline\n",
       "\t30 & 88.979 & 2.681  & 0.196  & 2.121  & 0.608  & 5.414 \\\\\n",
       "\\end{tabular}\n"
      ],
      "text/markdown": [
       "\n",
       "| <!--/--> | chauffage.eau.chaude\n",
       "sanitaire.cuisson.domestique | Climatisation.domestique | Réfrigération.domestique | Utilistion.produits\n",
       "domestiques | Engins.domestiques | Déchêts.brûlage.domestique\n",
       "eaux.usées |\n",
       "|---|---|---|---|---|---|---|\n",
       "| 30 | 88.979 | 2.681  | 0.196  | 2.121  | 0.608  | 5.414  |\n",
       "\n"
      ],
      "text/plain": [
       "   chauffage.eau.chaude\\nsanitaire.cuisson.domestique Climatisation.domestique\n",
       "30 88.979                                             2.681                   \n",
       "   Réfrigération.domestique Utilistion.produits\\ndomestiques Engins.domestiques\n",
       "30 0.196                    2.121                            0.608             \n",
       "   Déchêts.brûlage.domestique\\neaux.usées\n",
       "30 5.414                                 "
      ]
     },
     "metadata": {},
     "output_type": "display_data"
    }
   ],
   "source": [
    "table4 = round(prop.table(data4.1[,-1])*100,3)# calcul de la proportion de chaque activité en 2019\n",
    "table4"
   ]
  },
  {
   "cell_type": "code",
   "execution_count": 105,
   "id": "ae8ca33b",
   "metadata": {},
   "outputs": [
    {
     "data": {
      "text/html": [
       "<table>\n",
       "<thead><tr><th scope=col>Activités</th><th scope=col>MtCO2e</th></tr></thead>\n",
       "<tbody>\n",
       "\t<tr><td>chauffage.eau.chaude\n",
       "sanitaire.cuisson.domestique</td><td>88.979                                            </td></tr>\n",
       "\t<tr><td>Climatisation.domestique                          </td><td> 2.681                                            </td></tr>\n",
       "\t<tr><td>Réfrigération.domestique                          </td><td> 0.196                                            </td></tr>\n",
       "\t<tr><td>Utilistion.produits.domestiques                   </td><td> 2.121                                            </td></tr>\n",
       "\t<tr><td>Engins.domestiques                                </td><td> 0.608                                            </td></tr>\n",
       "\t<tr><td>Déchêts.brûlage.domestique\n",
       "eaux.usées            </td><td> 5.414                                            </td></tr>\n",
       "</tbody>\n",
       "</table>\n"
      ],
      "text/latex": [
       "\\begin{tabular}{r|ll}\n",
       " Activités & MtCO2e\\\\\n",
       "\\hline\n",
       "\t chauffage.eau.chaude\n",
       "sanitaire.cuisson.domestique & 88.979                                            \\\\\n",
       "\t Climatisation.domestique                           &  2.681                                            \\\\\n",
       "\t Réfrigération.domestique                           &  0.196                                            \\\\\n",
       "\t Utilistion.produits.domestiques                    &  2.121                                            \\\\\n",
       "\t Engins.domestiques                                 &  0.608                                            \\\\\n",
       "\t Déchêts.brûlage.domestique\n",
       "eaux.usées             &  5.414                                            \\\\\n",
       "\\end{tabular}\n"
      ],
      "text/markdown": [
       "\n",
       "| Activités | MtCO2e |\n",
       "|---|---|\n",
       "| chauffage.eau.chaude\n",
       "sanitaire.cuisson.domestique | 88.979                                             |\n",
       "| Climatisation.domestique                           |  2.681                                             |\n",
       "| Réfrigération.domestique                           |  0.196                                             |\n",
       "| Utilistion.produits.domestiques                    |  2.121                                             |\n",
       "| Engins.domestiques                                 |  0.608                                             |\n",
       "| Déchêts.brûlage.domestique\n",
       "eaux.usées             |  5.414                                             |\n",
       "\n"
      ],
      "text/plain": [
       "  Activités                                          MtCO2e\n",
       "1 chauffage.eau.chaude\\nsanitaire.cuisson.domestique 88.979\n",
       "2 Climatisation.domestique                            2.681\n",
       "3 Réfrigération.domestique                            0.196\n",
       "4 Utilistion.produits.domestiques                     2.121\n",
       "5 Engins.domestiques                                  0.608\n",
       "6 Déchêts.brûlage.domestique\\neaux.usées              5.414"
      ]
     },
     "metadata": {},
     "output_type": "display_data"
    }
   ],
   "source": [
    "table4.1 = data.frame(\n",
    "                        Activités=c(\"chauffage.eau.chaude\\nsanitaire.cuisson.domestique\",\"Climatisation.domestique\",\"Réfrigération.domestique\",\"Utilistion.produits.domestiques\",\n",
    "\"Engins.domestiques\",\"Déchêts.brûlage.domestique\\neaux.usées\"), \n",
    "                        MtCO2e=c(88.979,2.681,0.196,2.121,0.608,5.414)\n",
    ")\n",
    "table4.1"
   ]
  },
  {
   "cell_type": "code",
   "execution_count": 106,
   "id": "b562f41e",
   "metadata": {},
   "outputs": [
    {
     "data": {
      "text/html": [
       "<table>\n",
       "<thead><tr><th></th><th scope=col>Chauffage.eau.chaude\n",
       "sanitaire.cuisson.tertiaire</th><th scope=col>Climatisation.tertiaire</th><th scope=col>Réfrigération.tertiaire</th><th scope=col>Utilisation.de.produit.tertiaire</th><th scope=col>Autres.activités.tertiaire</th></tr></thead>\n",
       "<tbody>\n",
       "\t<tr><th scope=row>30</th><td>21.37572 </td><td>1.970495 </td><td>3.772061 </td><td>0.2532874</td><td>1.624589 </td></tr>\n",
       "</tbody>\n",
       "</table>\n"
      ],
      "text/latex": [
       "\\begin{tabular}{r|lllll}\n",
       "  & Chauffage.eau.chaude\n",
       "sanitaire.cuisson.tertiaire & Climatisation.tertiaire & Réfrigération.tertiaire & Utilisation.de.produit.tertiaire & Autres.activités.tertiaire\\\\\n",
       "\\hline\n",
       "\t30 & 21.37572  & 1.970495  & 3.772061  & 0.2532874 & 1.624589 \\\\\n",
       "\\end{tabular}\n"
      ],
      "text/markdown": [
       "\n",
       "| <!--/--> | Chauffage.eau.chaude\n",
       "sanitaire.cuisson.tertiaire | Climatisation.tertiaire | Réfrigération.tertiaire | Utilisation.de.produit.tertiaire | Autres.activités.tertiaire |\n",
       "|---|---|---|---|---|---|\n",
       "| 30 | 21.37572  | 1.970495  | 3.772061  | 0.2532874 | 1.624589  |\n",
       "\n"
      ],
      "text/plain": [
       "   Chauffage.eau.chaude\\nsanitaire.cuisson.tertiaire Climatisation.tertiaire\n",
       "30 21.37572                                          1.970495               \n",
       "   Réfrigération.tertiaire Utilisation.de.produit.tertiaire\n",
       "30 3.772061                0.2532874                       \n",
       "   Autres.activités.tertiaire\n",
       "30 1.624589                  "
      ]
     },
     "metadata": {},
     "output_type": "display_data"
    }
   ],
   "source": [
    "data4.1 = data4[30,10:14] \n",
    "head(data4.1)"
   ]
  },
  {
   "cell_type": "code",
   "execution_count": 107,
   "id": "e3674acb",
   "metadata": {},
   "outputs": [
    {
     "data": {
      "text/html": [
       "<table>\n",
       "<thead><tr><th></th><th scope=col>Chauffage.eau.chaude\n",
       "sanitaire.cuisson.tertiaire</th><th scope=col>Climatisation.tertiaire</th><th scope=col>Réfrigération.tertiaire</th><th scope=col>Utilisation.de.produit.tertiaire</th><th scope=col>Autres.activités.tertiaire</th></tr></thead>\n",
       "<tbody>\n",
       "\t<tr><th scope=row>30</th><td>73.719</td><td>6.796 </td><td>13.009</td><td>0.874 </td><td>5.603 </td></tr>\n",
       "</tbody>\n",
       "</table>\n"
      ],
      "text/latex": [
       "\\begin{tabular}{r|lllll}\n",
       "  & Chauffage.eau.chaude\n",
       "sanitaire.cuisson.tertiaire & Climatisation.tertiaire & Réfrigération.tertiaire & Utilisation.de.produit.tertiaire & Autres.activités.tertiaire\\\\\n",
       "\\hline\n",
       "\t30 & 73.719 & 6.796  & 13.009 & 0.874  & 5.603 \\\\\n",
       "\\end{tabular}\n"
      ],
      "text/markdown": [
       "\n",
       "| <!--/--> | Chauffage.eau.chaude\n",
       "sanitaire.cuisson.tertiaire | Climatisation.tertiaire | Réfrigération.tertiaire | Utilisation.de.produit.tertiaire | Autres.activités.tertiaire |\n",
       "|---|---|---|---|---|---|\n",
       "| 30 | 73.719 | 6.796  | 13.009 | 0.874  | 5.603  |\n",
       "\n"
      ],
      "text/plain": [
       "   Chauffage.eau.chaude\\nsanitaire.cuisson.tertiaire Climatisation.tertiaire\n",
       "30 73.719                                            6.796                  \n",
       "   Réfrigération.tertiaire Utilisation.de.produit.tertiaire\n",
       "30 13.009                  0.874                           \n",
       "   Autres.activités.tertiaire\n",
       "30 5.603                     "
      ]
     },
     "metadata": {},
     "output_type": "display_data"
    }
   ],
   "source": [
    "table4.2 = round(prop.table(data4.1)*100,3)\n",
    "head(table4.2)"
   ]
  },
  {
   "cell_type": "code",
   "execution_count": 108,
   "id": "a62e6b13",
   "metadata": {},
   "outputs": [
    {
     "data": {
      "text/html": [
       "<table>\n",
       "<thead><tr><th scope=col>Activités</th><th scope=col>MtCO2e</th></tr></thead>\n",
       "<tbody>\n",
       "\t<tr><td>Chauffage.eau.chaude\n",
       "sanitaire.cuisson.tertiaire</td><td>73.719                                           </td></tr>\n",
       "\t<tr><td>Climatisation.tertiaire                          </td><td> 6.796                                           </td></tr>\n",
       "\t<tr><td>Réfrigération.tertiaire                          </td><td>13.009                                           </td></tr>\n",
       "\t<tr><td>Utilisation.de.produit\n",
       "tertiaire                </td><td> 0.874                                           </td></tr>\n",
       "\t<tr><td>Autres.activités.tertiaire                       </td><td> 5.603                                           </td></tr>\n",
       "</tbody>\n",
       "</table>\n"
      ],
      "text/latex": [
       "\\begin{tabular}{r|ll}\n",
       " Activités & MtCO2e\\\\\n",
       "\\hline\n",
       "\t Chauffage.eau.chaude\n",
       "sanitaire.cuisson.tertiaire & 73.719                                           \\\\\n",
       "\t Climatisation.tertiaire                           &  6.796                                           \\\\\n",
       "\t Réfrigération.tertiaire                           & 13.009                                           \\\\\n",
       "\t Utilisation.de.produit\n",
       "tertiaire                 &  0.874                                           \\\\\n",
       "\t Autres.activités.tertiaire                        &  5.603                                           \\\\\n",
       "\\end{tabular}\n"
      ],
      "text/markdown": [
       "\n",
       "| Activités | MtCO2e |\n",
       "|---|---|\n",
       "| Chauffage.eau.chaude\n",
       "sanitaire.cuisson.tertiaire | 73.719                                            |\n",
       "| Climatisation.tertiaire                           |  6.796                                            |\n",
       "| Réfrigération.tertiaire                           | 13.009                                            |\n",
       "| Utilisation.de.produit\n",
       "tertiaire                 |  0.874                                            |\n",
       "| Autres.activités.tertiaire                        |  5.603                                            |\n",
       "\n"
      ],
      "text/plain": [
       "  Activités                                         MtCO2e\n",
       "1 Chauffage.eau.chaude\\nsanitaire.cuisson.tertiaire 73.719\n",
       "2 Climatisation.tertiaire                            6.796\n",
       "3 Réfrigération.tertiaire                           13.009\n",
       "4 Utilisation.de.produit\\ntertiaire                  0.874\n",
       "5 Autres.activités.tertiaire                         5.603"
      ]
     },
     "metadata": {},
     "output_type": "display_data"
    }
   ],
   "source": [
    "table4.2 = data.frame(\n",
    "                        Activités = c(\"Chauffage.eau.chaude\\nsanitaire.cuisson.tertiaire\",\"Climatisation.tertiaire\",\"Réfrigération.tertiaire\",\"Utilisation.de.produit\\ntertiaire\",\"Autres.activités.tertiaire\"),\n",
    "                        MtCO2e = c(73.719,6.796,13.009,0.874,5.603)\n",
    ")\n",
    "table4.2"
   ]
  },
  {
   "cell_type": "code",
   "execution_count": 109,
   "id": "81a52825",
   "metadata": {},
   "outputs": [
    {
     "data": {
      "text/html": [
       "<table>\n",
       "<thead><tr><th scope=col>Annee</th><th scope=col>sous-totale.usage.bâtiments.activités.domestique</th><th scope=col>sous-total.Usage.bâtiments.tertiaires.activités.tertiaires</th></tr></thead>\n",
       "<tbody>\n",
       "\t<tr><td>1990-05-20</td><td>60.59911  </td><td>31.04905  </td></tr>\n",
       "\t<tr><td>1991-05-20</td><td>68.18909  </td><td>32.91772  </td></tr>\n",
       "\t<tr><td>1992-05-20</td><td>67.11380  </td><td>30.16580  </td></tr>\n",
       "\t<tr><td>1993-05-20</td><td>65.31656  </td><td>28.38159  </td></tr>\n",
       "\t<tr><td>1994-05-20</td><td>61.59472  </td><td>25.77217  </td></tr>\n",
       "\t<tr><td>1995-05-20</td><td>61.53222  </td><td>25.73949  </td></tr>\n",
       "</tbody>\n",
       "</table>\n"
      ],
      "text/latex": [
       "\\begin{tabular}{r|lll}\n",
       " Annee & sous-totale.usage.bâtiments.activités.domestique & sous-total.Usage.bâtiments.tertiaires.activités.tertiaires\\\\\n",
       "\\hline\n",
       "\t 1990-05-20 & 60.59911   & 31.04905  \\\\\n",
       "\t 1991-05-20 & 68.18909   & 32.91772  \\\\\n",
       "\t 1992-05-20 & 67.11380   & 30.16580  \\\\\n",
       "\t 1993-05-20 & 65.31656   & 28.38159  \\\\\n",
       "\t 1994-05-20 & 61.59472   & 25.77217  \\\\\n",
       "\t 1995-05-20 & 61.53222   & 25.73949  \\\\\n",
       "\\end{tabular}\n"
      ],
      "text/markdown": [
       "\n",
       "| Annee | sous-totale.usage.bâtiments.activités.domestique | sous-total.Usage.bâtiments.tertiaires.activités.tertiaires |\n",
       "|---|---|---|\n",
       "| 1990-05-20 | 60.59911   | 31.04905   |\n",
       "| 1991-05-20 | 68.18909   | 32.91772   |\n",
       "| 1992-05-20 | 67.11380   | 30.16580   |\n",
       "| 1993-05-20 | 65.31656   | 28.38159   |\n",
       "| 1994-05-20 | 61.59472   | 25.77217   |\n",
       "| 1995-05-20 | 61.53222   | 25.73949   |\n",
       "\n"
      ],
      "text/plain": [
       "  Annee      sous-totale.usage.bâtiments.activités.domestique\n",
       "1 1990-05-20 60.59911                                        \n",
       "2 1991-05-20 68.18909                                        \n",
       "3 1992-05-20 67.11380                                        \n",
       "4 1993-05-20 65.31656                                        \n",
       "5 1994-05-20 61.59472                                        \n",
       "6 1995-05-20 61.53222                                        \n",
       "  sous-total.Usage.bâtiments.tertiaires.activités.tertiaires\n",
       "1 31.04905                                                  \n",
       "2 32.91772                                                  \n",
       "3 30.16580                                                  \n",
       "4 28.38159                                                  \n",
       "5 25.77217                                                  \n",
       "6 25.73949                                                  "
      ]
     },
     "metadata": {},
     "output_type": "display_data"
    }
   ],
   "source": [
    "#\n",
    "data4.3 = data4[,c(1,9,15)]\n",
    "head(data4.3)"
   ]
  },
  {
   "cell_type": "code",
   "execution_count": 110,
   "id": "204f9d12",
   "metadata": {},
   "outputs": [],
   "source": [
    "#colnames(data4.3) <- c(\"Annee\", \"sous.totale.usage.bâtiments.activités.domestique\",\"sous.total.Usage.bâtiments.tertiaires.activités.tertiaires\")"
   ]
  },
  {
   "cell_type": "code",
   "execution_count": 111,
   "id": "5dbb0235",
   "metadata": {},
   "outputs": [],
   "source": [
    "colnames(data4.3) <- c(\"Annee\", \"Usage.bâtiments.activités.domestique\",\"Usage.bâtiments.tertiaires.activités.tertiaires\")"
   ]
  },
  {
   "cell_type": "markdown",
   "id": "17653ce0",
   "metadata": {},
   "source": [
    "#### Visualisation des données"
   ]
  },
  {
   "cell_type": "code",
   "execution_count": 112,
   "id": "85e6a887",
   "metadata": {},
   "outputs": [
    {
     "data": {
      "image/png": "[encoded data removed]",
      "text/plain": [
       "plot without title"
      ]
     },
     "metadata": {},
     "output_type": "display_data"
    }
   ],
   "source": [
    "ggplot(table4.1, aes(x=\"\",y=MtCO2e,fill = Activités)) +\n",
    "  geom_bar(stat=\"identity\", width=1.5,color=\"black\") +\n",
    "  coord_polar(\"y\", start=0) +\n",
    "  #scale_fill_brewer(\"Dark2\") +\n",
    "  scale_fill_manual(values = mycolors)+\n",
    "  ggtitle(\"Répartition des l'émission d'activités domestiques en 2019\") #+ \n",
    " # geom_label_repel(aes(y=MtCO2e, label=paste0(MtCO2e, \"%\")),\n",
    "  #                 data = table3.2,\n",
    "   #                size = 4, nudge_x = 8, show.legend = FALSE)"
   ]
  },
  {
   "cell_type": "raw",
   "id": "fc62dc94",
   "metadata": {},
   "source": [
    "Figure 16"
   ]
  },
  {
   "cell_type": "code",
   "execution_count": 113,
   "id": "02c2331c",
   "metadata": {},
   "outputs": [
    {
     "data": {
      "image/png": "[encoded data removed]",
      "text/plain": [
       "plot without title"
      ]
     },
     "metadata": {},
     "output_type": "display_data"
    }
   ],
   "source": [
    "ggplot(table4.2, aes(x=\"\",y=MtCO2e,fill = Activités)) +\n",
    "  geom_bar(stat=\"identity\", width=1.5,color=\"black\") +\n",
    "  coord_polar(\"y\", start=0) +\n",
    "  #geom_text(aes(label = paste0(MtCO2e, \"%\")), position = position_stack(vjust=0.65)) + labs(x =NULL, y = NULL, fill = NULL) +\n",
    "  #scale_fill_brewer(\"Dark2\") +\n",
    "  scale_fill_manual(values = mycolors)+\n",
    "  ggtitle(\"Répartition des l'émission d'activités tertiaires en 2019\")"
   ]
  },
  {
   "cell_type": "raw",
   "id": "765f431f",
   "metadata": {},
   "source": [
    "Figure 17"
   ]
  },
  {
   "cell_type": "raw",
   "id": "b1dedb22",
   "metadata": {},
   "source": [
    "ggplot(data4.3, aes(x=Annee)) + \n",
    "                geom_line(aes(y = sous.totale.usage.bâtiments.activités.domestique,colour = \"sous.totale.usage.bâtiments.activités.domestique\")) +\n",
    "                geom_line(aes(y =sous.total.Usage.bâtiments.tertiaires.activités.tertiaires, colour = \"sous.total.Usage.bâtiments.tertiaires.activités.tertiaires\")) +\n",
    "                ylab(\"MtCO2e\") +\n",
    "                ggtitle(\"Evolutions des émissions dans l'air de CO2e en France entre 1990 et 2019 \\n   dans l'Usage des bâtiments et activités résidentiels/tertiaires\")+\n",
    "                geom_text(data = NULL, aes(x = Annee[28], y = 71, label = \"2020 (estimation)\"),size=2) +\n",
    "                scale_color_manual(name=\"Legende\",values = mycolors) \n",
    "                #labs(color = \"Legende\") \n",
    "                #scale_color_manual(values = colors)              "
   ]
  }
 ],
 "metadata": {
  "kernelspec": {
   "display_name": "R",
   "language": "R",
   "name": "ir"
  },
  "language_info": {
   "codemirror_mode": "r",
   "file_extension": ".r",
   "mimetype": "text/x-r-source",
   "name": "R",
   "pygments_lexer": "r",
   "version": "3.6.1"
  }
 },
 "nbformat": 4,
 "nbformat_minor": 5
}
